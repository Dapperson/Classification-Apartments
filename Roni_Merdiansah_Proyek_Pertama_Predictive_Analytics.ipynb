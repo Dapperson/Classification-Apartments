{
  "nbformat": 4,
  "nbformat_minor": 0,
  "metadata": {
    "colab": {
      "provenance": [],
      "toc_visible": true
    },
    "kernelspec": {
      "name": "python3",
      "display_name": "Python 3"
    },
    "language_info": {
      "name": "python"
    }
  },
  "cells": [
    {
      "cell_type": "markdown",
      "source": [
        "https://www.kaggle.com/datasets/aleshagavrilov/parishousing\n",
        "\n",
        "aleshagavrilov/parishousing"
      ],
      "metadata": {
        "id": "szef9NM-nZj_"
      }
    },
    {
      "cell_type": "markdown",
      "source": [
        "https://www.kaggle.com/datasets/moonnectar/car-auction-sale-data-ebay-sold-listings\n",
        "\n",
        "moonnectar/car-auction-sale-data-ebay-sold-listings"
      ],
      "metadata": {
        "id": "abL8YOQUEERL"
      }
    },
    {
      "cell_type": "markdown",
      "source": [
        "## Mengunduh Data"
      ],
      "metadata": {
        "id": "JSXmwOQqtHo9"
      }
    },
    {
      "cell_type": "code",
      "source": [
        "! pip install -q kaggle"
      ],
      "metadata": {
        "id": "rvROuEKFTI99"
      },
      "execution_count": null,
      "outputs": []
    },
    {
      "cell_type": "code",
      "source": [
        "from google.colab import files\n",
        "\n",
        "files.upload()"
      ],
      "metadata": {
        "colab": {
          "base_uri": "https://localhost:8080/",
          "height": 90
        },
        "id": "6GDlWGYSTK49",
        "outputId": "b53f2ba3-baa0-4b31-a13e-61940e5e0679"
      },
      "execution_count": null,
      "outputs": [
        {
          "output_type": "display_data",
          "data": {
            "text/plain": [
              "<IPython.core.display.HTML object>"
            ],
            "text/html": [
              "\n",
              "     <input type=\"file\" id=\"files-f951ad67-e21e-485f-aa2c-e224e9210526\" name=\"files[]\" multiple disabled\n",
              "        style=\"border:none\" />\n",
              "     <output id=\"result-f951ad67-e21e-485f-aa2c-e224e9210526\">\n",
              "      Upload widget is only available when the cell has been executed in the\n",
              "      current browser session. Please rerun this cell to enable.\n",
              "      </output>\n",
              "      <script>// Copyright 2017 Google LLC\n",
              "//\n",
              "// Licensed under the Apache License, Version 2.0 (the \"License\");\n",
              "// you may not use this file except in compliance with the License.\n",
              "// You may obtain a copy of the License at\n",
              "//\n",
              "//      http://www.apache.org/licenses/LICENSE-2.0\n",
              "//\n",
              "// Unless required by applicable law or agreed to in writing, software\n",
              "// distributed under the License is distributed on an \"AS IS\" BASIS,\n",
              "// WITHOUT WARRANTIES OR CONDITIONS OF ANY KIND, either express or implied.\n",
              "// See the License for the specific language governing permissions and\n",
              "// limitations under the License.\n",
              "\n",
              "/**\n",
              " * @fileoverview Helpers for google.colab Python module.\n",
              " */\n",
              "(function(scope) {\n",
              "function span(text, styleAttributes = {}) {\n",
              "  const element = document.createElement('span');\n",
              "  element.textContent = text;\n",
              "  for (const key of Object.keys(styleAttributes)) {\n",
              "    element.style[key] = styleAttributes[key];\n",
              "  }\n",
              "  return element;\n",
              "}\n",
              "\n",
              "// Max number of bytes which will be uploaded at a time.\n",
              "const MAX_PAYLOAD_SIZE = 100 * 1024;\n",
              "\n",
              "function _uploadFiles(inputId, outputId) {\n",
              "  const steps = uploadFilesStep(inputId, outputId);\n",
              "  const outputElement = document.getElementById(outputId);\n",
              "  // Cache steps on the outputElement to make it available for the next call\n",
              "  // to uploadFilesContinue from Python.\n",
              "  outputElement.steps = steps;\n",
              "\n",
              "  return _uploadFilesContinue(outputId);\n",
              "}\n",
              "\n",
              "// This is roughly an async generator (not supported in the browser yet),\n",
              "// where there are multiple asynchronous steps and the Python side is going\n",
              "// to poll for completion of each step.\n",
              "// This uses a Promise to block the python side on completion of each step,\n",
              "// then passes the result of the previous step as the input to the next step.\n",
              "function _uploadFilesContinue(outputId) {\n",
              "  const outputElement = document.getElementById(outputId);\n",
              "  const steps = outputElement.steps;\n",
              "\n",
              "  const next = steps.next(outputElement.lastPromiseValue);\n",
              "  return Promise.resolve(next.value.promise).then((value) => {\n",
              "    // Cache the last promise value to make it available to the next\n",
              "    // step of the generator.\n",
              "    outputElement.lastPromiseValue = value;\n",
              "    return next.value.response;\n",
              "  });\n",
              "}\n",
              "\n",
              "/**\n",
              " * Generator function which is called between each async step of the upload\n",
              " * process.\n",
              " * @param {string} inputId Element ID of the input file picker element.\n",
              " * @param {string} outputId Element ID of the output display.\n",
              " * @return {!Iterable<!Object>} Iterable of next steps.\n",
              " */\n",
              "function* uploadFilesStep(inputId, outputId) {\n",
              "  const inputElement = document.getElementById(inputId);\n",
              "  inputElement.disabled = false;\n",
              "\n",
              "  const outputElement = document.getElementById(outputId);\n",
              "  outputElement.innerHTML = '';\n",
              "\n",
              "  const pickedPromise = new Promise((resolve) => {\n",
              "    inputElement.addEventListener('change', (e) => {\n",
              "      resolve(e.target.files);\n",
              "    });\n",
              "  });\n",
              "\n",
              "  const cancel = document.createElement('button');\n",
              "  inputElement.parentElement.appendChild(cancel);\n",
              "  cancel.textContent = 'Cancel upload';\n",
              "  const cancelPromise = new Promise((resolve) => {\n",
              "    cancel.onclick = () => {\n",
              "      resolve(null);\n",
              "    };\n",
              "  });\n",
              "\n",
              "  // Wait for the user to pick the files.\n",
              "  const files = yield {\n",
              "    promise: Promise.race([pickedPromise, cancelPromise]),\n",
              "    response: {\n",
              "      action: 'starting',\n",
              "    }\n",
              "  };\n",
              "\n",
              "  cancel.remove();\n",
              "\n",
              "  // Disable the input element since further picks are not allowed.\n",
              "  inputElement.disabled = true;\n",
              "\n",
              "  if (!files) {\n",
              "    return {\n",
              "      response: {\n",
              "        action: 'complete',\n",
              "      }\n",
              "    };\n",
              "  }\n",
              "\n",
              "  for (const file of files) {\n",
              "    const li = document.createElement('li');\n",
              "    li.append(span(file.name, {fontWeight: 'bold'}));\n",
              "    li.append(span(\n",
              "        `(${file.type || 'n/a'}) - ${file.size} bytes, ` +\n",
              "        `last modified: ${\n",
              "            file.lastModifiedDate ? file.lastModifiedDate.toLocaleDateString() :\n",
              "                                    'n/a'} - `));\n",
              "    const percent = span('0% done');\n",
              "    li.appendChild(percent);\n",
              "\n",
              "    outputElement.appendChild(li);\n",
              "\n",
              "    const fileDataPromise = new Promise((resolve) => {\n",
              "      const reader = new FileReader();\n",
              "      reader.onload = (e) => {\n",
              "        resolve(e.target.result);\n",
              "      };\n",
              "      reader.readAsArrayBuffer(file);\n",
              "    });\n",
              "    // Wait for the data to be ready.\n",
              "    let fileData = yield {\n",
              "      promise: fileDataPromise,\n",
              "      response: {\n",
              "        action: 'continue',\n",
              "      }\n",
              "    };\n",
              "\n",
              "    // Use a chunked sending to avoid message size limits. See b/62115660.\n",
              "    let position = 0;\n",
              "    do {\n",
              "      const length = Math.min(fileData.byteLength - position, MAX_PAYLOAD_SIZE);\n",
              "      const chunk = new Uint8Array(fileData, position, length);\n",
              "      position += length;\n",
              "\n",
              "      const base64 = btoa(String.fromCharCode.apply(null, chunk));\n",
              "      yield {\n",
              "        response: {\n",
              "          action: 'append',\n",
              "          file: file.name,\n",
              "          data: base64,\n",
              "        },\n",
              "      };\n",
              "\n",
              "      let percentDone = fileData.byteLength === 0 ?\n",
              "          100 :\n",
              "          Math.round((position / fileData.byteLength) * 100);\n",
              "      percent.textContent = `${percentDone}% done`;\n",
              "\n",
              "    } while (position < fileData.byteLength);\n",
              "  }\n",
              "\n",
              "  // All done.\n",
              "  yield {\n",
              "    response: {\n",
              "      action: 'complete',\n",
              "    }\n",
              "  };\n",
              "}\n",
              "\n",
              "scope.google = scope.google || {};\n",
              "scope.google.colab = scope.google.colab || {};\n",
              "scope.google.colab._files = {\n",
              "  _uploadFiles,\n",
              "  _uploadFilesContinue,\n",
              "};\n",
              "})(self);\n",
              "</script> "
            ]
          },
          "metadata": {}
        },
        {
          "output_type": "stream",
          "name": "stdout",
          "text": [
            "Saving kaggle.json to kaggle.json\n"
          ]
        },
        {
          "output_type": "execute_result",
          "data": {
            "text/plain": [
              "{'kaggle.json': b'{\"username\":\"ronimerdiansah\",\"key\":\"348f3c0ae2b3fdaae4760582c857b6e3\"}'}"
            ]
          },
          "metadata": {},
          "execution_count": 2
        }
      ]
    },
    {
      "cell_type": "code",
      "source": [
        "!mkdir -p ~/.kaggle\n",
        "!cp kaggle.json ~/.kaggle/\n",
        "!chmod 600 ~/.kaggle/kaggle.json\n",
        "!ls ~/.kaggle"
      ],
      "metadata": {
        "colab": {
          "base_uri": "https://localhost:8080/"
        },
        "id": "jYemCbihTMiC",
        "outputId": "990d8979-1049-41c8-8ae2-4aa9cd8ae42d"
      },
      "execution_count": null,
      "outputs": [
        {
          "output_type": "stream",
          "name": "stdout",
          "text": [
            "kaggle.json\n"
          ]
        }
      ]
    },
    {
      "cell_type": "code",
      "source": [
        "!kaggle datasets download -d aleshagavrilov/parishousing"
      ],
      "metadata": {
        "colab": {
          "base_uri": "https://localhost:8080/"
        },
        "id": "CBaNW58RTOtB",
        "outputId": "178bc4b0-70fb-4c85-b11f-a3eef6092b76"
      },
      "execution_count": null,
      "outputs": [
        {
          "output_type": "stream",
          "name": "stdout",
          "text": [
            "Downloading parishousing.zip to /content\n",
            "\r  0% 0.00/319k [00:00<?, ?B/s]\n",
            "\r100% 319k/319k [00:00<00:00, 82.7MB/s]\n"
          ]
        }
      ]
    },
    {
      "cell_type": "code",
      "source": [
        "!mkdir parishousing\n",
        "!unzip parishousing.zip -d parishousing\n",
        "!ls parishousing"
      ],
      "metadata": {
        "colab": {
          "base_uri": "https://localhost:8080/"
        },
        "id": "WRMhlV_wTOnJ",
        "outputId": "b8a8685f-7de2-427c-99ba-301076c41e54"
      },
      "execution_count": null,
      "outputs": [
        {
          "output_type": "stream",
          "name": "stdout",
          "text": [
            "Archive:  parishousing.zip\n",
            "  inflating: parishousing/ParisHousing.csv  \n",
            "ParisHousing.csv\n"
          ]
        }
      ]
    },
    {
      "cell_type": "markdown",
      "source": [
        "## Mempersiapkan Data"
      ],
      "metadata": {
        "id": "DHrNJzHltObl"
      }
    },
    {
      "cell_type": "code",
      "source": [
        "#Importing the Libraries\n",
        "import numpy as np\n",
        "import pandas as pd\n",
        "import datetime\n",
        "import matplotlib\n",
        "import matplotlib.pyplot as plt\n",
        "import seaborn as sns\n",
        "from sklearn.preprocessing import LabelEncoder\n",
        "import matplotlib.pyplot as plt, numpy as np\n",
        "from sklearn import metrics\n",
        "import warnings\n",
        "import sys\n",
        "if not sys.warnoptions:\n",
        "    warnings.simplefilter(\"ignore\")\n",
        "np.random.seed(42)\n",
        "from functools import reduce"
      ],
      "metadata": {
        "id": "FD6GsZH9BCxC"
      },
      "execution_count": null,
      "outputs": []
    },
    {
      "cell_type": "code",
      "source": [
        "pd.set_option('display.max_columns', None)"
      ],
      "metadata": {
        "id": "0KGQxfv-DuIs"
      },
      "execution_count": null,
      "outputs": []
    },
    {
      "cell_type": "code",
      "source": [
        "df = pd.read_csv('/content/parishousing/ParisHousing.csv')"
      ],
      "metadata": {
        "id": "w7j8EqkmBFAV"
      },
      "execution_count": null,
      "outputs": []
    },
    {
      "cell_type": "code",
      "source": [
        "df"
      ],
      "metadata": {
        "colab": {
          "base_uri": "https://localhost:8080/",
          "height": 679
        },
        "id": "JBGhSXarFomY",
        "outputId": "93f562a9-69f2-4862-d9e9-2089be044a36"
      },
      "execution_count": null,
      "outputs": [
        {
          "output_type": "execute_result",
          "data": {
            "text/plain": [
              "      Unnamed: 0  squareMeters numberOfRooms  floors  cityCode  cityPartRange  \\\n",
              "0              0         75523         three      63      9373              3   \n",
              "1              1         80771   thirty-nine      98     39381              8   \n",
              "2              2         55712   fifty-eight      19     34457              6   \n",
              "3              3         32316   forty-seven       6     27939             10   \n",
              "4              4         70429      nineteen      90     38045              3   \n",
              "...          ...           ...           ...     ...       ...            ...   \n",
              "9995        9995          1726   eighty-nine       5     73133              7   \n",
              "9996        9996         44403   twenty-nine      12     34606              9   \n",
              "9997        9997         83841         three      69     80933             10   \n",
              "9998        9998         59036       seventy      96     55856              1   \n",
              "9999        9999          1440   eighty-four      49     18412              6   \n",
              "\n",
              "      numPrevOwners  made  isNewBuilt  hasStormProtector  basement  attic  \\\n",
              "0                 8  2005       False               True      4313   9005   \n",
              "1                 6  2015        True              False      3653   2436   \n",
              "2                 8  2021       False              False      2937   8852   \n",
              "3                 4  2012       False               True       659   7141   \n",
              "4                 7  1990        True              False      8435   2429   \n",
              "...             ...   ...         ...                ...       ...    ...   \n",
              "9995              6  2009       False               True      9311   1698   \n",
              "9996              4  1990       False               True      9061   1742   \n",
              "9997             10  2005        True               True      8304   7730   \n",
              "9998              3  2010       False               True      2590   6174   \n",
              "9999             10  1994        True              False      8485   2024   \n",
              "\n",
              "      garage  hasStorageRoom  hasGuestRoom      price category  \\\n",
              "0        956           False             7  7559081.5    Basic   \n",
              "1        128            True             2  8085989.5   Luxury   \n",
              "2        135            True             9  5574642.1    Basic   \n",
              "3        359           False             3  3232561.2    Basic   \n",
              "4        292            True             4  7055052.0   Luxury   \n",
              "...      ...             ...           ...        ...      ...   \n",
              "9995     218           False             4   176425.9    Basic   \n",
              "9996     230           False             0  4448474.0    Basic   \n",
              "9997     345            True             9  8390030.5    Basic   \n",
              "9998     339            True             4  5905107.0    Basic   \n",
              "9999     278            True             6   146708.4    Basic   \n",
              "\n",
              "                PoolAndYard  \n",
              "0      has pool and no yard  \n",
              "1     has pool and has yard  \n",
              "2      has pool and no yard  \n",
              "3       no pool and no yard  \n",
              "4     has pool and has yard  \n",
              "...                     ...  \n",
              "9995   has pool and no yard  \n",
              "9996  has pool and has yard  \n",
              "9997    no pool and no yard  \n",
              "9998    no pool and no yard  \n",
              "9999    no pool and no yard  \n",
              "\n",
              "[10000 rows x 18 columns]"
            ],
            "text/html": [
              "\n",
              "  <div id=\"df-b7e09ded-cd28-4a6e-bb6b-babf2592f446\">\n",
              "    <div class=\"colab-df-container\">\n",
              "      <div>\n",
              "<style scoped>\n",
              "    .dataframe tbody tr th:only-of-type {\n",
              "        vertical-align: middle;\n",
              "    }\n",
              "\n",
              "    .dataframe tbody tr th {\n",
              "        vertical-align: top;\n",
              "    }\n",
              "\n",
              "    .dataframe thead th {\n",
              "        text-align: right;\n",
              "    }\n",
              "</style>\n",
              "<table border=\"1\" class=\"dataframe\">\n",
              "  <thead>\n",
              "    <tr style=\"text-align: right;\">\n",
              "      <th></th>\n",
              "      <th>Unnamed: 0</th>\n",
              "      <th>squareMeters</th>\n",
              "      <th>numberOfRooms</th>\n",
              "      <th>floors</th>\n",
              "      <th>cityCode</th>\n",
              "      <th>cityPartRange</th>\n",
              "      <th>numPrevOwners</th>\n",
              "      <th>made</th>\n",
              "      <th>isNewBuilt</th>\n",
              "      <th>hasStormProtector</th>\n",
              "      <th>basement</th>\n",
              "      <th>attic</th>\n",
              "      <th>garage</th>\n",
              "      <th>hasStorageRoom</th>\n",
              "      <th>hasGuestRoom</th>\n",
              "      <th>price</th>\n",
              "      <th>category</th>\n",
              "      <th>PoolAndYard</th>\n",
              "    </tr>\n",
              "  </thead>\n",
              "  <tbody>\n",
              "    <tr>\n",
              "      <th>0</th>\n",
              "      <td>0</td>\n",
              "      <td>75523</td>\n",
              "      <td>three</td>\n",
              "      <td>63</td>\n",
              "      <td>9373</td>\n",
              "      <td>3</td>\n",
              "      <td>8</td>\n",
              "      <td>2005</td>\n",
              "      <td>False</td>\n",
              "      <td>True</td>\n",
              "      <td>4313</td>\n",
              "      <td>9005</td>\n",
              "      <td>956</td>\n",
              "      <td>False</td>\n",
              "      <td>7</td>\n",
              "      <td>7559081.5</td>\n",
              "      <td>Basic</td>\n",
              "      <td>has pool and no yard</td>\n",
              "    </tr>\n",
              "    <tr>\n",
              "      <th>1</th>\n",
              "      <td>1</td>\n",
              "      <td>80771</td>\n",
              "      <td>thirty-nine</td>\n",
              "      <td>98</td>\n",
              "      <td>39381</td>\n",
              "      <td>8</td>\n",
              "      <td>6</td>\n",
              "      <td>2015</td>\n",
              "      <td>True</td>\n",
              "      <td>False</td>\n",
              "      <td>3653</td>\n",
              "      <td>2436</td>\n",
              "      <td>128</td>\n",
              "      <td>True</td>\n",
              "      <td>2</td>\n",
              "      <td>8085989.5</td>\n",
              "      <td>Luxury</td>\n",
              "      <td>has pool and has yard</td>\n",
              "    </tr>\n",
              "    <tr>\n",
              "      <th>2</th>\n",
              "      <td>2</td>\n",
              "      <td>55712</td>\n",
              "      <td>fifty-eight</td>\n",
              "      <td>19</td>\n",
              "      <td>34457</td>\n",
              "      <td>6</td>\n",
              "      <td>8</td>\n",
              "      <td>2021</td>\n",
              "      <td>False</td>\n",
              "      <td>False</td>\n",
              "      <td>2937</td>\n",
              "      <td>8852</td>\n",
              "      <td>135</td>\n",
              "      <td>True</td>\n",
              "      <td>9</td>\n",
              "      <td>5574642.1</td>\n",
              "      <td>Basic</td>\n",
              "      <td>has pool and no yard</td>\n",
              "    </tr>\n",
              "    <tr>\n",
              "      <th>3</th>\n",
              "      <td>3</td>\n",
              "      <td>32316</td>\n",
              "      <td>forty-seven</td>\n",
              "      <td>6</td>\n",
              "      <td>27939</td>\n",
              "      <td>10</td>\n",
              "      <td>4</td>\n",
              "      <td>2012</td>\n",
              "      <td>False</td>\n",
              "      <td>True</td>\n",
              "      <td>659</td>\n",
              "      <td>7141</td>\n",
              "      <td>359</td>\n",
              "      <td>False</td>\n",
              "      <td>3</td>\n",
              "      <td>3232561.2</td>\n",
              "      <td>Basic</td>\n",
              "      <td>no pool and no yard</td>\n",
              "    </tr>\n",
              "    <tr>\n",
              "      <th>4</th>\n",
              "      <td>4</td>\n",
              "      <td>70429</td>\n",
              "      <td>nineteen</td>\n",
              "      <td>90</td>\n",
              "      <td>38045</td>\n",
              "      <td>3</td>\n",
              "      <td>7</td>\n",
              "      <td>1990</td>\n",
              "      <td>True</td>\n",
              "      <td>False</td>\n",
              "      <td>8435</td>\n",
              "      <td>2429</td>\n",
              "      <td>292</td>\n",
              "      <td>True</td>\n",
              "      <td>4</td>\n",
              "      <td>7055052.0</td>\n",
              "      <td>Luxury</td>\n",
              "      <td>has pool and has yard</td>\n",
              "    </tr>\n",
              "    <tr>\n",
              "      <th>...</th>\n",
              "      <td>...</td>\n",
              "      <td>...</td>\n",
              "      <td>...</td>\n",
              "      <td>...</td>\n",
              "      <td>...</td>\n",
              "      <td>...</td>\n",
              "      <td>...</td>\n",
              "      <td>...</td>\n",
              "      <td>...</td>\n",
              "      <td>...</td>\n",
              "      <td>...</td>\n",
              "      <td>...</td>\n",
              "      <td>...</td>\n",
              "      <td>...</td>\n",
              "      <td>...</td>\n",
              "      <td>...</td>\n",
              "      <td>...</td>\n",
              "      <td>...</td>\n",
              "    </tr>\n",
              "    <tr>\n",
              "      <th>9995</th>\n",
              "      <td>9995</td>\n",
              "      <td>1726</td>\n",
              "      <td>eighty-nine</td>\n",
              "      <td>5</td>\n",
              "      <td>73133</td>\n",
              "      <td>7</td>\n",
              "      <td>6</td>\n",
              "      <td>2009</td>\n",
              "      <td>False</td>\n",
              "      <td>True</td>\n",
              "      <td>9311</td>\n",
              "      <td>1698</td>\n",
              "      <td>218</td>\n",
              "      <td>False</td>\n",
              "      <td>4</td>\n",
              "      <td>176425.9</td>\n",
              "      <td>Basic</td>\n",
              "      <td>has pool and no yard</td>\n",
              "    </tr>\n",
              "    <tr>\n",
              "      <th>9996</th>\n",
              "      <td>9996</td>\n",
              "      <td>44403</td>\n",
              "      <td>twenty-nine</td>\n",
              "      <td>12</td>\n",
              "      <td>34606</td>\n",
              "      <td>9</td>\n",
              "      <td>4</td>\n",
              "      <td>1990</td>\n",
              "      <td>False</td>\n",
              "      <td>True</td>\n",
              "      <td>9061</td>\n",
              "      <td>1742</td>\n",
              "      <td>230</td>\n",
              "      <td>False</td>\n",
              "      <td>0</td>\n",
              "      <td>4448474.0</td>\n",
              "      <td>Basic</td>\n",
              "      <td>has pool and has yard</td>\n",
              "    </tr>\n",
              "    <tr>\n",
              "      <th>9997</th>\n",
              "      <td>9997</td>\n",
              "      <td>83841</td>\n",
              "      <td>three</td>\n",
              "      <td>69</td>\n",
              "      <td>80933</td>\n",
              "      <td>10</td>\n",
              "      <td>10</td>\n",
              "      <td>2005</td>\n",
              "      <td>True</td>\n",
              "      <td>True</td>\n",
              "      <td>8304</td>\n",
              "      <td>7730</td>\n",
              "      <td>345</td>\n",
              "      <td>True</td>\n",
              "      <td>9</td>\n",
              "      <td>8390030.5</td>\n",
              "      <td>Basic</td>\n",
              "      <td>no pool and no yard</td>\n",
              "    </tr>\n",
              "    <tr>\n",
              "      <th>9998</th>\n",
              "      <td>9998</td>\n",
              "      <td>59036</td>\n",
              "      <td>seventy</td>\n",
              "      <td>96</td>\n",
              "      <td>55856</td>\n",
              "      <td>1</td>\n",
              "      <td>3</td>\n",
              "      <td>2010</td>\n",
              "      <td>False</td>\n",
              "      <td>True</td>\n",
              "      <td>2590</td>\n",
              "      <td>6174</td>\n",
              "      <td>339</td>\n",
              "      <td>True</td>\n",
              "      <td>4</td>\n",
              "      <td>5905107.0</td>\n",
              "      <td>Basic</td>\n",
              "      <td>no pool and no yard</td>\n",
              "    </tr>\n",
              "    <tr>\n",
              "      <th>9999</th>\n",
              "      <td>9999</td>\n",
              "      <td>1440</td>\n",
              "      <td>eighty-four</td>\n",
              "      <td>49</td>\n",
              "      <td>18412</td>\n",
              "      <td>6</td>\n",
              "      <td>10</td>\n",
              "      <td>1994</td>\n",
              "      <td>True</td>\n",
              "      <td>False</td>\n",
              "      <td>8485</td>\n",
              "      <td>2024</td>\n",
              "      <td>278</td>\n",
              "      <td>True</td>\n",
              "      <td>6</td>\n",
              "      <td>146708.4</td>\n",
              "      <td>Basic</td>\n",
              "      <td>no pool and no yard</td>\n",
              "    </tr>\n",
              "  </tbody>\n",
              "</table>\n",
              "<p>10000 rows × 18 columns</p>\n",
              "</div>\n",
              "      <button class=\"colab-df-convert\" onclick=\"convertToInteractive('df-b7e09ded-cd28-4a6e-bb6b-babf2592f446')\"\n",
              "              title=\"Convert this dataframe to an interactive table.\"\n",
              "              style=\"display:none;\">\n",
              "        \n",
              "  <svg xmlns=\"http://www.w3.org/2000/svg\" height=\"24px\"viewBox=\"0 0 24 24\"\n",
              "       width=\"24px\">\n",
              "    <path d=\"M0 0h24v24H0V0z\" fill=\"none\"/>\n",
              "    <path d=\"M18.56 5.44l.94 2.06.94-2.06 2.06-.94-2.06-.94-.94-2.06-.94 2.06-2.06.94zm-11 1L8.5 8.5l.94-2.06 2.06-.94-2.06-.94L8.5 2.5l-.94 2.06-2.06.94zm10 10l.94 2.06.94-2.06 2.06-.94-2.06-.94-.94-2.06-.94 2.06-2.06.94z\"/><path d=\"M17.41 7.96l-1.37-1.37c-.4-.4-.92-.59-1.43-.59-.52 0-1.04.2-1.43.59L10.3 9.45l-7.72 7.72c-.78.78-.78 2.05 0 2.83L4 21.41c.39.39.9.59 1.41.59.51 0 1.02-.2 1.41-.59l7.78-7.78 2.81-2.81c.8-.78.8-2.07 0-2.86zM5.41 20L4 18.59l7.72-7.72 1.47 1.35L5.41 20z\"/>\n",
              "  </svg>\n",
              "      </button>\n",
              "      \n",
              "  <style>\n",
              "    .colab-df-container {\n",
              "      display:flex;\n",
              "      flex-wrap:wrap;\n",
              "      gap: 12px;\n",
              "    }\n",
              "\n",
              "    .colab-df-convert {\n",
              "      background-color: #E8F0FE;\n",
              "      border: none;\n",
              "      border-radius: 50%;\n",
              "      cursor: pointer;\n",
              "      display: none;\n",
              "      fill: #1967D2;\n",
              "      height: 32px;\n",
              "      padding: 0 0 0 0;\n",
              "      width: 32px;\n",
              "    }\n",
              "\n",
              "    .colab-df-convert:hover {\n",
              "      background-color: #E2EBFA;\n",
              "      box-shadow: 0px 1px 2px rgba(60, 64, 67, 0.3), 0px 1px 3px 1px rgba(60, 64, 67, 0.15);\n",
              "      fill: #174EA6;\n",
              "    }\n",
              "\n",
              "    [theme=dark] .colab-df-convert {\n",
              "      background-color: #3B4455;\n",
              "      fill: #D2E3FC;\n",
              "    }\n",
              "\n",
              "    [theme=dark] .colab-df-convert:hover {\n",
              "      background-color: #434B5C;\n",
              "      box-shadow: 0px 1px 3px 1px rgba(0, 0, 0, 0.15);\n",
              "      filter: drop-shadow(0px 1px 2px rgba(0, 0, 0, 0.3));\n",
              "      fill: #FFFFFF;\n",
              "    }\n",
              "  </style>\n",
              "\n",
              "      <script>\n",
              "        const buttonEl =\n",
              "          document.querySelector('#df-b7e09ded-cd28-4a6e-bb6b-babf2592f446 button.colab-df-convert');\n",
              "        buttonEl.style.display =\n",
              "          google.colab.kernel.accessAllowed ? 'block' : 'none';\n",
              "\n",
              "        async function convertToInteractive(key) {\n",
              "          const element = document.querySelector('#df-b7e09ded-cd28-4a6e-bb6b-babf2592f446');\n",
              "          const dataTable =\n",
              "            await google.colab.kernel.invokeFunction('convertToInteractive',\n",
              "                                                     [key], {});\n",
              "          if (!dataTable) return;\n",
              "\n",
              "          const docLinkHtml = 'Like what you see? Visit the ' +\n",
              "            '<a target=\"_blank\" href=https://colab.research.google.com/notebooks/data_table.ipynb>data table notebook</a>'\n",
              "            + ' to learn more about interactive tables.';\n",
              "          element.innerHTML = '';\n",
              "          dataTable['output_type'] = 'display_data';\n",
              "          await google.colab.output.renderOutput(dataTable, element);\n",
              "          const docLink = document.createElement('div');\n",
              "          docLink.innerHTML = docLinkHtml;\n",
              "          element.appendChild(docLink);\n",
              "        }\n",
              "      </script>\n",
              "    </div>\n",
              "  </div>\n",
              "  "
            ]
          },
          "metadata": {},
          "execution_count": 9
        }
      ]
    },
    {
      "cell_type": "code",
      "source": [
        "df.info()"
      ],
      "metadata": {
        "colab": {
          "base_uri": "https://localhost:8080/"
        },
        "id": "KMVJlRE9v7iE",
        "outputId": "864dbe55-734f-4b55-de36-170882b0fc5c"
      },
      "execution_count": null,
      "outputs": [
        {
          "output_type": "stream",
          "name": "stdout",
          "text": [
            "<class 'pandas.core.frame.DataFrame'>\n",
            "RangeIndex: 10000 entries, 0 to 9999\n",
            "Data columns (total 18 columns):\n",
            " #   Column             Non-Null Count  Dtype  \n",
            "---  ------             --------------  -----  \n",
            " 0   Unnamed: 0         10000 non-null  int64  \n",
            " 1   squareMeters       10000 non-null  int64  \n",
            " 2   numberOfRooms      10000 non-null  object \n",
            " 3   floors             10000 non-null  int64  \n",
            " 4   cityCode           10000 non-null  int64  \n",
            " 5   cityPartRange      10000 non-null  int64  \n",
            " 6   numPrevOwners      10000 non-null  int64  \n",
            " 7   made               10000 non-null  int64  \n",
            " 8   isNewBuilt         10000 non-null  bool   \n",
            " 9   hasStormProtector  10000 non-null  bool   \n",
            " 10  basement           10000 non-null  int64  \n",
            " 11  attic              10000 non-null  int64  \n",
            " 12  garage             10000 non-null  int64  \n",
            " 13  hasStorageRoom     10000 non-null  bool   \n",
            " 14  hasGuestRoom       10000 non-null  int64  \n",
            " 15  price              10000 non-null  float64\n",
            " 16  category           10000 non-null  object \n",
            " 17  PoolAndYard        10000 non-null  object \n",
            "dtypes: bool(3), float64(1), int64(11), object(3)\n",
            "memory usage: 1.2+ MB\n"
          ]
        }
      ]
    },
    {
      "cell_type": "markdown",
      "source": [
        "## Membersihkan Data"
      ],
      "metadata": {
        "id": "g_0goyauvVq8"
      }
    },
    {
      "cell_type": "markdown",
      "source": [
        "### Cek Nilai Null"
      ],
      "metadata": {
        "id": "fe8ZAr4BxtSQ"
      }
    },
    {
      "cell_type": "code",
      "source": [
        "df.isnull().sum()"
      ],
      "metadata": {
        "colab": {
          "base_uri": "https://localhost:8080/"
        },
        "id": "zWzqqnwM6n4g",
        "outputId": "4b1fce59-5efa-4f4d-f2ba-5cd0b3988bc0"
      },
      "execution_count": null,
      "outputs": [
        {
          "output_type": "execute_result",
          "data": {
            "text/plain": [
              "Unnamed: 0           0\n",
              "squareMeters         0\n",
              "numberOfRooms        0\n",
              "floors               0\n",
              "cityCode             0\n",
              "cityPartRange        0\n",
              "numPrevOwners        0\n",
              "made                 0\n",
              "isNewBuilt           0\n",
              "hasStormProtector    0\n",
              "basement             0\n",
              "attic                0\n",
              "garage               0\n",
              "hasStorageRoom       0\n",
              "hasGuestRoom         0\n",
              "price                0\n",
              "category             0\n",
              "PoolAndYard          0\n",
              "dtype: int64"
            ]
          },
          "metadata": {},
          "execution_count": 11
        }
      ]
    },
    {
      "cell_type": "markdown",
      "source": [
        "Tidak terdapat nilai null"
      ],
      "metadata": {
        "id": "dtGOsaGwGvWL"
      }
    },
    {
      "cell_type": "markdown",
      "source": [
        "### Menghapus Kolom yang Tidak Dibutuhkan"
      ],
      "metadata": {
        "id": "Tgl1NY_Nx-Ls"
      }
    },
    {
      "cell_type": "code",
      "source": [
        "droped_df = df.drop(['Unnamed: 0', 'cityCode'], axis=1)"
      ],
      "metadata": {
        "id": "HDU2Erw1yQHX"
      },
      "execution_count": null,
      "outputs": []
    },
    {
      "cell_type": "markdown",
      "source": [
        "### Format Ulang String"
      ],
      "metadata": {
        "id": "nbw7LlB295dp"
      }
    },
    {
      "cell_type": "code",
      "source": [
        "droped_df['numberOfRooms'] = droped_df['numberOfRooms'].str.replace('-', ' ')"
      ],
      "metadata": {
        "id": "dUKo3o8g-EbW"
      },
      "execution_count": null,
      "outputs": []
    },
    {
      "cell_type": "code",
      "source": [
        "droped_df[['numberOfRooms']]"
      ],
      "metadata": {
        "colab": {
          "base_uri": "https://localhost:8080/",
          "height": 424
        },
        "id": "xLdAjvvr-QP0",
        "outputId": "2867df2e-a805-4db2-9348-b1086f35a666"
      },
      "execution_count": null,
      "outputs": [
        {
          "output_type": "execute_result",
          "data": {
            "text/plain": [
              "     numberOfRooms\n",
              "0            three\n",
              "1      thirty nine\n",
              "2      fifty eight\n",
              "3      forty seven\n",
              "4         nineteen\n",
              "...            ...\n",
              "9995   eighty nine\n",
              "9996   twenty nine\n",
              "9997         three\n",
              "9998       seventy\n",
              "9999   eighty four\n",
              "\n",
              "[10000 rows x 1 columns]"
            ],
            "text/html": [
              "\n",
              "  <div id=\"df-4068e826-f6bd-474c-9197-bc3dbfd11116\">\n",
              "    <div class=\"colab-df-container\">\n",
              "      <div>\n",
              "<style scoped>\n",
              "    .dataframe tbody tr th:only-of-type {\n",
              "        vertical-align: middle;\n",
              "    }\n",
              "\n",
              "    .dataframe tbody tr th {\n",
              "        vertical-align: top;\n",
              "    }\n",
              "\n",
              "    .dataframe thead th {\n",
              "        text-align: right;\n",
              "    }\n",
              "</style>\n",
              "<table border=\"1\" class=\"dataframe\">\n",
              "  <thead>\n",
              "    <tr style=\"text-align: right;\">\n",
              "      <th></th>\n",
              "      <th>numberOfRooms</th>\n",
              "    </tr>\n",
              "  </thead>\n",
              "  <tbody>\n",
              "    <tr>\n",
              "      <th>0</th>\n",
              "      <td>three</td>\n",
              "    </tr>\n",
              "    <tr>\n",
              "      <th>1</th>\n",
              "      <td>thirty nine</td>\n",
              "    </tr>\n",
              "    <tr>\n",
              "      <th>2</th>\n",
              "      <td>fifty eight</td>\n",
              "    </tr>\n",
              "    <tr>\n",
              "      <th>3</th>\n",
              "      <td>forty seven</td>\n",
              "    </tr>\n",
              "    <tr>\n",
              "      <th>4</th>\n",
              "      <td>nineteen</td>\n",
              "    </tr>\n",
              "    <tr>\n",
              "      <th>...</th>\n",
              "      <td>...</td>\n",
              "    </tr>\n",
              "    <tr>\n",
              "      <th>9995</th>\n",
              "      <td>eighty nine</td>\n",
              "    </tr>\n",
              "    <tr>\n",
              "      <th>9996</th>\n",
              "      <td>twenty nine</td>\n",
              "    </tr>\n",
              "    <tr>\n",
              "      <th>9997</th>\n",
              "      <td>three</td>\n",
              "    </tr>\n",
              "    <tr>\n",
              "      <th>9998</th>\n",
              "      <td>seventy</td>\n",
              "    </tr>\n",
              "    <tr>\n",
              "      <th>9999</th>\n",
              "      <td>eighty four</td>\n",
              "    </tr>\n",
              "  </tbody>\n",
              "</table>\n",
              "<p>10000 rows × 1 columns</p>\n",
              "</div>\n",
              "      <button class=\"colab-df-convert\" onclick=\"convertToInteractive('df-4068e826-f6bd-474c-9197-bc3dbfd11116')\"\n",
              "              title=\"Convert this dataframe to an interactive table.\"\n",
              "              style=\"display:none;\">\n",
              "        \n",
              "  <svg xmlns=\"http://www.w3.org/2000/svg\" height=\"24px\"viewBox=\"0 0 24 24\"\n",
              "       width=\"24px\">\n",
              "    <path d=\"M0 0h24v24H0V0z\" fill=\"none\"/>\n",
              "    <path d=\"M18.56 5.44l.94 2.06.94-2.06 2.06-.94-2.06-.94-.94-2.06-.94 2.06-2.06.94zm-11 1L8.5 8.5l.94-2.06 2.06-.94-2.06-.94L8.5 2.5l-.94 2.06-2.06.94zm10 10l.94 2.06.94-2.06 2.06-.94-2.06-.94-.94-2.06-.94 2.06-2.06.94z\"/><path d=\"M17.41 7.96l-1.37-1.37c-.4-.4-.92-.59-1.43-.59-.52 0-1.04.2-1.43.59L10.3 9.45l-7.72 7.72c-.78.78-.78 2.05 0 2.83L4 21.41c.39.39.9.59 1.41.59.51 0 1.02-.2 1.41-.59l7.78-7.78 2.81-2.81c.8-.78.8-2.07 0-2.86zM5.41 20L4 18.59l7.72-7.72 1.47 1.35L5.41 20z\"/>\n",
              "  </svg>\n",
              "      </button>\n",
              "      \n",
              "  <style>\n",
              "    .colab-df-container {\n",
              "      display:flex;\n",
              "      flex-wrap:wrap;\n",
              "      gap: 12px;\n",
              "    }\n",
              "\n",
              "    .colab-df-convert {\n",
              "      background-color: #E8F0FE;\n",
              "      border: none;\n",
              "      border-radius: 50%;\n",
              "      cursor: pointer;\n",
              "      display: none;\n",
              "      fill: #1967D2;\n",
              "      height: 32px;\n",
              "      padding: 0 0 0 0;\n",
              "      width: 32px;\n",
              "    }\n",
              "\n",
              "    .colab-df-convert:hover {\n",
              "      background-color: #E2EBFA;\n",
              "      box-shadow: 0px 1px 2px rgba(60, 64, 67, 0.3), 0px 1px 3px 1px rgba(60, 64, 67, 0.15);\n",
              "      fill: #174EA6;\n",
              "    }\n",
              "\n",
              "    [theme=dark] .colab-df-convert {\n",
              "      background-color: #3B4455;\n",
              "      fill: #D2E3FC;\n",
              "    }\n",
              "\n",
              "    [theme=dark] .colab-df-convert:hover {\n",
              "      background-color: #434B5C;\n",
              "      box-shadow: 0px 1px 3px 1px rgba(0, 0, 0, 0.15);\n",
              "      filter: drop-shadow(0px 1px 2px rgba(0, 0, 0, 0.3));\n",
              "      fill: #FFFFFF;\n",
              "    }\n",
              "  </style>\n",
              "\n",
              "      <script>\n",
              "        const buttonEl =\n",
              "          document.querySelector('#df-4068e826-f6bd-474c-9197-bc3dbfd11116 button.colab-df-convert');\n",
              "        buttonEl.style.display =\n",
              "          google.colab.kernel.accessAllowed ? 'block' : 'none';\n",
              "\n",
              "        async function convertToInteractive(key) {\n",
              "          const element = document.querySelector('#df-4068e826-f6bd-474c-9197-bc3dbfd11116');\n",
              "          const dataTable =\n",
              "            await google.colab.kernel.invokeFunction('convertToInteractive',\n",
              "                                                     [key], {});\n",
              "          if (!dataTable) return;\n",
              "\n",
              "          const docLinkHtml = 'Like what you see? Visit the ' +\n",
              "            '<a target=\"_blank\" href=https://colab.research.google.com/notebooks/data_table.ipynb>data table notebook</a>'\n",
              "            + ' to learn more about interactive tables.';\n",
              "          element.innerHTML = '';\n",
              "          dataTable['output_type'] = 'display_data';\n",
              "          await google.colab.output.renderOutput(dataTable, element);\n",
              "          const docLink = document.createElement('div');\n",
              "          docLink.innerHTML = docLinkHtml;\n",
              "          element.appendChild(docLink);\n",
              "        }\n",
              "      </script>\n",
              "    </div>\n",
              "  </div>\n",
              "  "
            ]
          },
          "metadata": {},
          "execution_count": 14
        }
      ]
    },
    {
      "cell_type": "code",
      "source": [
        "pip install word2number"
      ],
      "metadata": {
        "colab": {
          "base_uri": "https://localhost:8080/"
        },
        "id": "7jqIwao7FFVd",
        "outputId": "c1613549-446e-4f21-f783-a8ceb00cf12a"
      },
      "execution_count": null,
      "outputs": [
        {
          "output_type": "stream",
          "name": "stdout",
          "text": [
            "Looking in indexes: https://pypi.org/simple, https://us-python.pkg.dev/colab-wheels/public/simple/\n",
            "Collecting word2number\n",
            "  Downloading word2number-1.1.zip (9.7 kB)\n",
            "Building wheels for collected packages: word2number\n",
            "  Building wheel for word2number (setup.py) ... \u001b[?25l\u001b[?25hdone\n",
            "  Created wheel for word2number: filename=word2number-1.1-py3-none-any.whl size=5582 sha256=e7277ce3323da7d084f997eecddd1864b3b95e4c266430f7ae89501302da44ff\n",
            "  Stored in directory: /root/.cache/pip/wheels/4b/c3/77/a5f48aeb0d3efb7cd5ad61cbd3da30bbf9ffc9662b07c9f879\n",
            "Successfully built word2number\n",
            "Installing collected packages: word2number\n",
            "Successfully installed word2number-1.1\n"
          ]
        }
      ]
    },
    {
      "cell_type": "code",
      "source": [
        "from word2number import w2n\n",
        "\n",
        "droped_df['numberOfRooms'] = droped_df['numberOfRooms'].apply(w2n.word_to_num)"
      ],
      "metadata": {
        "id": "cGvdtgjbFIMW"
      },
      "execution_count": null,
      "outputs": []
    },
    {
      "cell_type": "code",
      "source": [
        "droped_df[['numberOfRooms']]"
      ],
      "metadata": {
        "colab": {
          "base_uri": "https://localhost:8080/",
          "height": 424
        },
        "id": "JemU6t4OF4bV",
        "outputId": "3a979af9-445f-4471-a36c-0d4d710337c6"
      },
      "execution_count": null,
      "outputs": [
        {
          "output_type": "execute_result",
          "data": {
            "text/plain": [
              "      numberOfRooms\n",
              "0                 3\n",
              "1                39\n",
              "2                58\n",
              "3                47\n",
              "4                19\n",
              "...             ...\n",
              "9995             89\n",
              "9996             29\n",
              "9997              3\n",
              "9998             70\n",
              "9999             84\n",
              "\n",
              "[10000 rows x 1 columns]"
            ],
            "text/html": [
              "\n",
              "  <div id=\"df-25a9f98d-e51f-49ea-9025-b06357b7debb\">\n",
              "    <div class=\"colab-df-container\">\n",
              "      <div>\n",
              "<style scoped>\n",
              "    .dataframe tbody tr th:only-of-type {\n",
              "        vertical-align: middle;\n",
              "    }\n",
              "\n",
              "    .dataframe tbody tr th {\n",
              "        vertical-align: top;\n",
              "    }\n",
              "\n",
              "    .dataframe thead th {\n",
              "        text-align: right;\n",
              "    }\n",
              "</style>\n",
              "<table border=\"1\" class=\"dataframe\">\n",
              "  <thead>\n",
              "    <tr style=\"text-align: right;\">\n",
              "      <th></th>\n",
              "      <th>numberOfRooms</th>\n",
              "    </tr>\n",
              "  </thead>\n",
              "  <tbody>\n",
              "    <tr>\n",
              "      <th>0</th>\n",
              "      <td>3</td>\n",
              "    </tr>\n",
              "    <tr>\n",
              "      <th>1</th>\n",
              "      <td>39</td>\n",
              "    </tr>\n",
              "    <tr>\n",
              "      <th>2</th>\n",
              "      <td>58</td>\n",
              "    </tr>\n",
              "    <tr>\n",
              "      <th>3</th>\n",
              "      <td>47</td>\n",
              "    </tr>\n",
              "    <tr>\n",
              "      <th>4</th>\n",
              "      <td>19</td>\n",
              "    </tr>\n",
              "    <tr>\n",
              "      <th>...</th>\n",
              "      <td>...</td>\n",
              "    </tr>\n",
              "    <tr>\n",
              "      <th>9995</th>\n",
              "      <td>89</td>\n",
              "    </tr>\n",
              "    <tr>\n",
              "      <th>9996</th>\n",
              "      <td>29</td>\n",
              "    </tr>\n",
              "    <tr>\n",
              "      <th>9997</th>\n",
              "      <td>3</td>\n",
              "    </tr>\n",
              "    <tr>\n",
              "      <th>9998</th>\n",
              "      <td>70</td>\n",
              "    </tr>\n",
              "    <tr>\n",
              "      <th>9999</th>\n",
              "      <td>84</td>\n",
              "    </tr>\n",
              "  </tbody>\n",
              "</table>\n",
              "<p>10000 rows × 1 columns</p>\n",
              "</div>\n",
              "      <button class=\"colab-df-convert\" onclick=\"convertToInteractive('df-25a9f98d-e51f-49ea-9025-b06357b7debb')\"\n",
              "              title=\"Convert this dataframe to an interactive table.\"\n",
              "              style=\"display:none;\">\n",
              "        \n",
              "  <svg xmlns=\"http://www.w3.org/2000/svg\" height=\"24px\"viewBox=\"0 0 24 24\"\n",
              "       width=\"24px\">\n",
              "    <path d=\"M0 0h24v24H0V0z\" fill=\"none\"/>\n",
              "    <path d=\"M18.56 5.44l.94 2.06.94-2.06 2.06-.94-2.06-.94-.94-2.06-.94 2.06-2.06.94zm-11 1L8.5 8.5l.94-2.06 2.06-.94-2.06-.94L8.5 2.5l-.94 2.06-2.06.94zm10 10l.94 2.06.94-2.06 2.06-.94-2.06-.94-.94-2.06-.94 2.06-2.06.94z\"/><path d=\"M17.41 7.96l-1.37-1.37c-.4-.4-.92-.59-1.43-.59-.52 0-1.04.2-1.43.59L10.3 9.45l-7.72 7.72c-.78.78-.78 2.05 0 2.83L4 21.41c.39.39.9.59 1.41.59.51 0 1.02-.2 1.41-.59l7.78-7.78 2.81-2.81c.8-.78.8-2.07 0-2.86zM5.41 20L4 18.59l7.72-7.72 1.47 1.35L5.41 20z\"/>\n",
              "  </svg>\n",
              "      </button>\n",
              "      \n",
              "  <style>\n",
              "    .colab-df-container {\n",
              "      display:flex;\n",
              "      flex-wrap:wrap;\n",
              "      gap: 12px;\n",
              "    }\n",
              "\n",
              "    .colab-df-convert {\n",
              "      background-color: #E8F0FE;\n",
              "      border: none;\n",
              "      border-radius: 50%;\n",
              "      cursor: pointer;\n",
              "      display: none;\n",
              "      fill: #1967D2;\n",
              "      height: 32px;\n",
              "      padding: 0 0 0 0;\n",
              "      width: 32px;\n",
              "    }\n",
              "\n",
              "    .colab-df-convert:hover {\n",
              "      background-color: #E2EBFA;\n",
              "      box-shadow: 0px 1px 2px rgba(60, 64, 67, 0.3), 0px 1px 3px 1px rgba(60, 64, 67, 0.15);\n",
              "      fill: #174EA6;\n",
              "    }\n",
              "\n",
              "    [theme=dark] .colab-df-convert {\n",
              "      background-color: #3B4455;\n",
              "      fill: #D2E3FC;\n",
              "    }\n",
              "\n",
              "    [theme=dark] .colab-df-convert:hover {\n",
              "      background-color: #434B5C;\n",
              "      box-shadow: 0px 1px 3px 1px rgba(0, 0, 0, 0.15);\n",
              "      filter: drop-shadow(0px 1px 2px rgba(0, 0, 0, 0.3));\n",
              "      fill: #FFFFFF;\n",
              "    }\n",
              "  </style>\n",
              "\n",
              "      <script>\n",
              "        const buttonEl =\n",
              "          document.querySelector('#df-25a9f98d-e51f-49ea-9025-b06357b7debb button.colab-df-convert');\n",
              "        buttonEl.style.display =\n",
              "          google.colab.kernel.accessAllowed ? 'block' : 'none';\n",
              "\n",
              "        async function convertToInteractive(key) {\n",
              "          const element = document.querySelector('#df-25a9f98d-e51f-49ea-9025-b06357b7debb');\n",
              "          const dataTable =\n",
              "            await google.colab.kernel.invokeFunction('convertToInteractive',\n",
              "                                                     [key], {});\n",
              "          if (!dataTable) return;\n",
              "\n",
              "          const docLinkHtml = 'Like what you see? Visit the ' +\n",
              "            '<a target=\"_blank\" href=https://colab.research.google.com/notebooks/data_table.ipynb>data table notebook</a>'\n",
              "            + ' to learn more about interactive tables.';\n",
              "          element.innerHTML = '';\n",
              "          dataTable['output_type'] = 'display_data';\n",
              "          await google.colab.output.renderOutput(dataTable, element);\n",
              "          const docLink = document.createElement('div');\n",
              "          docLink.innerHTML = docLinkHtml;\n",
              "          element.appendChild(docLink);\n",
              "        }\n",
              "      </script>\n",
              "    </div>\n",
              "  </div>\n",
              "  "
            ]
          },
          "metadata": {},
          "execution_count": 17
        }
      ]
    },
    {
      "cell_type": "markdown",
      "source": [
        "Sekarang kolom `numberOfRooms` sudah menjadi numerikal"
      ],
      "metadata": {
        "id": "DqXnFUvwF-3y"
      }
    },
    {
      "cell_type": "code",
      "source": [
        "clean_df = droped_df.copy()"
      ],
      "metadata": {
        "id": "CpS4zWWxGQQQ"
      },
      "execution_count": null,
      "outputs": []
    },
    {
      "cell_type": "markdown",
      "source": [
        "## Exploratory Data Analysis"
      ],
      "metadata": {
        "id": "teli7IR33DtK"
      }
    },
    {
      "cell_type": "code",
      "source": [
        "clean_df.info()"
      ],
      "metadata": {
        "colab": {
          "base_uri": "https://localhost:8080/"
        },
        "id": "Tvxd0Yx9G_m7",
        "outputId": "df574d3f-2af7-42de-daa7-cc62874ff78d"
      },
      "execution_count": null,
      "outputs": [
        {
          "output_type": "stream",
          "name": "stdout",
          "text": [
            "<class 'pandas.core.frame.DataFrame'>\n",
            "RangeIndex: 10000 entries, 0 to 9999\n",
            "Data columns (total 16 columns):\n",
            " #   Column             Non-Null Count  Dtype  \n",
            "---  ------             --------------  -----  \n",
            " 0   squareMeters       10000 non-null  int64  \n",
            " 1   numberOfRooms      10000 non-null  int64  \n",
            " 2   floors             10000 non-null  int64  \n",
            " 3   cityPartRange      10000 non-null  int64  \n",
            " 4   numPrevOwners      10000 non-null  int64  \n",
            " 5   made               10000 non-null  int64  \n",
            " 6   isNewBuilt         10000 non-null  bool   \n",
            " 7   hasStormProtector  10000 non-null  bool   \n",
            " 8   basement           10000 non-null  int64  \n",
            " 9   attic              10000 non-null  int64  \n",
            " 10  garage             10000 non-null  int64  \n",
            " 11  hasStorageRoom     10000 non-null  bool   \n",
            " 12  hasGuestRoom       10000 non-null  int64  \n",
            " 13  price              10000 non-null  float64\n",
            " 14  category           10000 non-null  object \n",
            " 15  PoolAndYard        10000 non-null  object \n",
            "dtypes: bool(3), float64(1), int64(10), object(2)\n",
            "memory usage: 1.0+ MB\n"
          ]
        }
      ]
    },
    {
      "cell_type": "markdown",
      "source": [
        "### Presentase Category"
      ],
      "metadata": {
        "id": "nzCrPh85jtbP"
      }
    },
    {
      "cell_type": "code",
      "source": [
        "clean_df['category'].value_counts()"
      ],
      "metadata": {
        "colab": {
          "base_uri": "https://localhost:8080/"
        },
        "id": "6mk_3fRohW1m",
        "outputId": "eff72c69-4f86-445c-cfc2-fee0187bbda4"
      },
      "execution_count": null,
      "outputs": [
        {
          "output_type": "execute_result",
          "data": {
            "text/plain": [
              "Basic     8735\n",
              "Luxury    1265\n",
              "Name: category, dtype: int64"
            ]
          },
          "metadata": {},
          "execution_count": 20
        }
      ]
    },
    {
      "cell_type": "code",
      "source": [
        "fig, ax = plt.subplots()\n",
        "labels = ['Basic','Luxury']\n",
        "churn = clean_df['category'].value_counts()\n",
        "ax.pie(churn, labels=labels, autopct='%.0f%%')\n",
        "plt.title('Percetage of Housing Category', fontsize=20)\n",
        "plt.show()"
      ],
      "metadata": {
        "colab": {
          "base_uri": "https://localhost:8080/",
          "height": 269
        },
        "id": "N-oSxaGMgh_0",
        "outputId": "cd5e22c0-ee2e-4223-8fd0-240a0536167d"
      },
      "execution_count": null,
      "outputs": [
        {
          "output_type": "display_data",
          "data": {
            "text/plain": [
              "<Figure size 432x288 with 1 Axes>"
            ],
            "image/png": "[encoded data removed]"
          },
          "metadata": {}
        }
      ]
    },
    {
      "cell_type": "markdown",
      "source": [
        "### Variabel Numerik"
      ],
      "metadata": {
        "id": "4OhDLwiBgJem"
      }
    },
    {
      "cell_type": "code",
      "source": [
        "clean_df.describe()"
      ],
      "metadata": {
        "colab": {
          "base_uri": "https://localhost:8080/",
          "height": 364
        },
        "id": "Q9S3WX7RHH8v",
        "outputId": "e454cacf-1c5a-4652-a239-6b87fd0781a2"
      },
      "execution_count": null,
      "outputs": [
        {
          "output_type": "execute_result",
          "data": {
            "text/plain": [
              "       squareMeters  numberOfRooms        floors  cityPartRange  \\\n",
              "count   10000.00000   10000.000000  10000.000000   10000.000000   \n",
              "mean    49870.13120      50.358400     50.276300       5.510100   \n",
              "std     28774.37535      28.816696     28.889171       2.872024   \n",
              "min        89.00000       1.000000      1.000000       1.000000   \n",
              "25%     25098.50000      25.000000     25.000000       3.000000   \n",
              "50%     50105.50000      50.000000     50.000000       5.000000   \n",
              "75%     74609.75000      75.000000     76.000000       8.000000   \n",
              "max     99999.00000     100.000000    100.000000      10.000000   \n",
              "\n",
              "       numPrevOwners         made      basement        attic       garage  \\\n",
              "count   10000.000000  10000.00000  10000.000000  10000.00000  10000.00000   \n",
              "mean        5.521700   2005.48850   5033.103900   5028.01060    553.12120   \n",
              "std         2.856667      9.30809   2876.729545   2894.33221    262.05017   \n",
              "min         1.000000   1990.00000      0.000000      1.00000    100.00000   \n",
              "25%         3.000000   1997.00000   2559.750000   2512.00000    327.75000   \n",
              "50%         5.000000   2005.50000   5092.500000   5045.00000    554.00000   \n",
              "75%         8.000000   2014.00000   7511.250000   7540.50000    777.25000   \n",
              "max        10.000000   2021.00000  10000.000000  10000.00000   1000.00000   \n",
              "\n",
              "       hasGuestRoom         price  \n",
              "count   10000.00000  1.000000e+04  \n",
              "mean        4.99460  4.993448e+06  \n",
              "std         3.17641  2.877424e+06  \n",
              "min         0.00000  1.031350e+04  \n",
              "25%         2.00000  2.516402e+06  \n",
              "50%         5.00000  5.016180e+06  \n",
              "75%         8.00000  7.469092e+06  \n",
              "max        10.00000  1.000677e+07  "
            ],
            "text/html": [
              "\n",
              "  <div id=\"df-d10f3d5e-d7ed-4ae1-b150-62c3913ce540\">\n",
              "    <div class=\"colab-df-container\">\n",
              "      <div>\n",
              "<style scoped>\n",
              "    .dataframe tbody tr th:only-of-type {\n",
              "        vertical-align: middle;\n",
              "    }\n",
              "\n",
              "    .dataframe tbody tr th {\n",
              "        vertical-align: top;\n",
              "    }\n",
              "\n",
              "    .dataframe thead th {\n",
              "        text-align: right;\n",
              "    }\n",
              "</style>\n",
              "<table border=\"1\" class=\"dataframe\">\n",
              "  <thead>\n",
              "    <tr style=\"text-align: right;\">\n",
              "      <th></th>\n",
              "      <th>squareMeters</th>\n",
              "      <th>numberOfRooms</th>\n",
              "      <th>floors</th>\n",
              "      <th>cityPartRange</th>\n",
              "      <th>numPrevOwners</th>\n",
              "      <th>made</th>\n",
              "      <th>basement</th>\n",
              "      <th>attic</th>\n",
              "      <th>garage</th>\n",
              "      <th>hasGuestRoom</th>\n",
              "      <th>price</th>\n",
              "    </tr>\n",
              "  </thead>\n",
              "  <tbody>\n",
              "    <tr>\n",
              "      <th>count</th>\n",
              "      <td>10000.00000</td>\n",
              "      <td>10000.000000</td>\n",
              "      <td>10000.000000</td>\n",
              "      <td>10000.000000</td>\n",
              "      <td>10000.000000</td>\n",
              "      <td>10000.00000</td>\n",
              "      <td>10000.000000</td>\n",
              "      <td>10000.00000</td>\n",
              "      <td>10000.00000</td>\n",
              "      <td>10000.00000</td>\n",
              "      <td>1.000000e+04</td>\n",
              "    </tr>\n",
              "    <tr>\n",
              "      <th>mean</th>\n",
              "      <td>49870.13120</td>\n",
              "      <td>50.358400</td>\n",
              "      <td>50.276300</td>\n",
              "      <td>5.510100</td>\n",
              "      <td>5.521700</td>\n",
              "      <td>2005.48850</td>\n",
              "      <td>5033.103900</td>\n",
              "      <td>5028.01060</td>\n",
              "      <td>553.12120</td>\n",
              "      <td>4.99460</td>\n",
              "      <td>4.993448e+06</td>\n",
              "    </tr>\n",
              "    <tr>\n",
              "      <th>std</th>\n",
              "      <td>28774.37535</td>\n",
              "      <td>28.816696</td>\n",
              "      <td>28.889171</td>\n",
              "      <td>2.872024</td>\n",
              "      <td>2.856667</td>\n",
              "      <td>9.30809</td>\n",
              "      <td>2876.729545</td>\n",
              "      <td>2894.33221</td>\n",
              "      <td>262.05017</td>\n",
              "      <td>3.17641</td>\n",
              "      <td>2.877424e+06</td>\n",
              "    </tr>\n",
              "    <tr>\n",
              "      <th>min</th>\n",
              "      <td>89.00000</td>\n",
              "      <td>1.000000</td>\n",
              "      <td>1.000000</td>\n",
              "      <td>1.000000</td>\n",
              "      <td>1.000000</td>\n",
              "      <td>1990.00000</td>\n",
              "      <td>0.000000</td>\n",
              "      <td>1.00000</td>\n",
              "      <td>100.00000</td>\n",
              "      <td>0.00000</td>\n",
              "      <td>1.031350e+04</td>\n",
              "    </tr>\n",
              "    <tr>\n",
              "      <th>25%</th>\n",
              "      <td>25098.50000</td>\n",
              "      <td>25.000000</td>\n",
              "      <td>25.000000</td>\n",
              "      <td>3.000000</td>\n",
              "      <td>3.000000</td>\n",
              "      <td>1997.00000</td>\n",
              "      <td>2559.750000</td>\n",
              "      <td>2512.00000</td>\n",
              "      <td>327.75000</td>\n",
              "      <td>2.00000</td>\n",
              "      <td>2.516402e+06</td>\n",
              "    </tr>\n",
              "    <tr>\n",
              "      <th>50%</th>\n",
              "      <td>50105.50000</td>\n",
              "      <td>50.000000</td>\n",
              "      <td>50.000000</td>\n",
              "      <td>5.000000</td>\n",
              "      <td>5.000000</td>\n",
              "      <td>2005.50000</td>\n",
              "      <td>5092.500000</td>\n",
              "      <td>5045.00000</td>\n",
              "      <td>554.00000</td>\n",
              "      <td>5.00000</td>\n",
              "      <td>5.016180e+06</td>\n",
              "    </tr>\n",
              "    <tr>\n",
              "      <th>75%</th>\n",
              "      <td>74609.75000</td>\n",
              "      <td>75.000000</td>\n",
              "      <td>76.000000</td>\n",
              "      <td>8.000000</td>\n",
              "      <td>8.000000</td>\n",
              "      <td>2014.00000</td>\n",
              "      <td>7511.250000</td>\n",
              "      <td>7540.50000</td>\n",
              "      <td>777.25000</td>\n",
              "      <td>8.00000</td>\n",
              "      <td>7.469092e+06</td>\n",
              "    </tr>\n",
              "    <tr>\n",
              "      <th>max</th>\n",
              "      <td>99999.00000</td>\n",
              "      <td>100.000000</td>\n",
              "      <td>100.000000</td>\n",
              "      <td>10.000000</td>\n",
              "      <td>10.000000</td>\n",
              "      <td>2021.00000</td>\n",
              "      <td>10000.000000</td>\n",
              "      <td>10000.00000</td>\n",
              "      <td>1000.00000</td>\n",
              "      <td>10.00000</td>\n",
              "      <td>1.000677e+07</td>\n",
              "    </tr>\n",
              "  </tbody>\n",
              "</table>\n",
              "</div>\n",
              "      <button class=\"colab-df-convert\" onclick=\"convertToInteractive('df-d10f3d5e-d7ed-4ae1-b150-62c3913ce540')\"\n",
              "              title=\"Convert this dataframe to an interactive table.\"\n",
              "              style=\"display:none;\">\n",
              "        \n",
              "  <svg xmlns=\"http://www.w3.org/2000/svg\" height=\"24px\"viewBox=\"0 0 24 24\"\n",
              "       width=\"24px\">\n",
              "    <path d=\"M0 0h24v24H0V0z\" fill=\"none\"/>\n",
              "    <path d=\"M18.56 5.44l.94 2.06.94-2.06 2.06-.94-2.06-.94-.94-2.06-.94 2.06-2.06.94zm-11 1L8.5 8.5l.94-2.06 2.06-.94-2.06-.94L8.5 2.5l-.94 2.06-2.06.94zm10 10l.94 2.06.94-2.06 2.06-.94-2.06-.94-.94-2.06-.94 2.06-2.06.94z\"/><path d=\"M17.41 7.96l-1.37-1.37c-.4-.4-.92-.59-1.43-.59-.52 0-1.04.2-1.43.59L10.3 9.45l-7.72 7.72c-.78.78-.78 2.05 0 2.83L4 21.41c.39.39.9.59 1.41.59.51 0 1.02-.2 1.41-.59l7.78-7.78 2.81-2.81c.8-.78.8-2.07 0-2.86zM5.41 20L4 18.59l7.72-7.72 1.47 1.35L5.41 20z\"/>\n",
              "  </svg>\n",
              "      </button>\n",
              "      \n",
              "  <style>\n",
              "    .colab-df-container {\n",
              "      display:flex;\n",
              "      flex-wrap:wrap;\n",
              "      gap: 12px;\n",
              "    }\n",
              "\n",
              "    .colab-df-convert {\n",
              "      background-color: #E8F0FE;\n",
              "      border: none;\n",
              "      border-radius: 50%;\n",
              "      cursor: pointer;\n",
              "      display: none;\n",
              "      fill: #1967D2;\n",
              "      height: 32px;\n",
              "      padding: 0 0 0 0;\n",
              "      width: 32px;\n",
              "    }\n",
              "\n",
              "    .colab-df-convert:hover {\n",
              "      background-color: #E2EBFA;\n",
              "      box-shadow: 0px 1px 2px rgba(60, 64, 67, 0.3), 0px 1px 3px 1px rgba(60, 64, 67, 0.15);\n",
              "      fill: #174EA6;\n",
              "    }\n",
              "\n",
              "    [theme=dark] .colab-df-convert {\n",
              "      background-color: #3B4455;\n",
              "      fill: #D2E3FC;\n",
              "    }\n",
              "\n",
              "    [theme=dark] .colab-df-convert:hover {\n",
              "      background-color: #434B5C;\n",
              "      box-shadow: 0px 1px 3px 1px rgba(0, 0, 0, 0.15);\n",
              "      filter: drop-shadow(0px 1px 2px rgba(0, 0, 0, 0.3));\n",
              "      fill: #FFFFFF;\n",
              "    }\n",
              "  </style>\n",
              "\n",
              "      <script>\n",
              "        const buttonEl =\n",
              "          document.querySelector('#df-d10f3d5e-d7ed-4ae1-b150-62c3913ce540 button.colab-df-convert');\n",
              "        buttonEl.style.display =\n",
              "          google.colab.kernel.accessAllowed ? 'block' : 'none';\n",
              "\n",
              "        async function convertToInteractive(key) {\n",
              "          const element = document.querySelector('#df-d10f3d5e-d7ed-4ae1-b150-62c3913ce540');\n",
              "          const dataTable =\n",
              "            await google.colab.kernel.invokeFunction('convertToInteractive',\n",
              "                                                     [key], {});\n",
              "          if (!dataTable) return;\n",
              "\n",
              "          const docLinkHtml = 'Like what you see? Visit the ' +\n",
              "            '<a target=\"_blank\" href=https://colab.research.google.com/notebooks/data_table.ipynb>data table notebook</a>'\n",
              "            + ' to learn more about interactive tables.';\n",
              "          element.innerHTML = '';\n",
              "          dataTable['output_type'] = 'display_data';\n",
              "          await google.colab.output.renderOutput(dataTable, element);\n",
              "          const docLink = document.createElement('div');\n",
              "          docLink.innerHTML = docLinkHtml;\n",
              "          element.appendChild(docLink);\n",
              "        }\n",
              "      </script>\n",
              "    </div>\n",
              "  </div>\n",
              "  "
            ]
          },
          "metadata": {},
          "execution_count": 22
        }
      ]
    },
    {
      "cell_type": "code",
      "source": [
        "numerical_columns = ['squareMeters',\n",
        "                     'numberOfRooms',\n",
        "                     'floors',\n",
        "                     'cityPartRange',\n",
        "                     'numPrevOwners',\n",
        "                     'basement',\n",
        "                     'attic',\n",
        "                     'garage',\n",
        "                     'hasGuestRoom',\n",
        "                     'price']\n",
        "\n",
        "fig, ax = plt.subplots(5, 2, figsize=(15, 25))\n",
        "clean_df[clean_df.category == 'Basic'][numerical_columns].hist(bins=20, alpha=0.8, ax=ax)\n",
        "clean_df[clean_df.category == 'Luxury'][numerical_columns].hist(bins=20, alpha=0.8, ax=ax)\n",
        "plt.show()"
      ],
      "metadata": {
        "colab": {
          "base_uri": "https://localhost:8080/",
          "height": 1000
        },
        "id": "z6pTeGSCj76J",
        "outputId": "f89e2fb8-7bf1-4f48-b9dc-440618e13f62"
      },
      "execution_count": null,
      "outputs": [
        {
          "output_type": "display_data",
          "data": {
            "text/plain": [
              "<Figure size 1080x1800 with 10 Axes>"
            ],
            "image/png": "[encoded data removed]"
          },
          "metadata": {
            "needs_background": "light"
          }
        }
      ]
    },
    {
      "cell_type": "markdown",
      "source": [
        "### Variabel Kategorik"
      ],
      "metadata": {
        "id": "7TAHaBEBgM6D"
      }
    },
    {
      "cell_type": "code",
      "source": [
        "categorical_columns = ['isNewBuilt', 'made', 'hasStormProtector', 'hasStorageRoom', 'category','PoolAndYard']\n",
        "\n",
        "plt.figure(figsize = (15,20))\n",
        "for i in range(0, len(categorical_columns)):\n",
        "    plt.subplot(5, 2, i+1)\n",
        "    ax = sns.countplot(x=clean_df[categorical_columns[i]], palette='winter', orient='h')\n",
        "    ax.tick_params(axis='both', which='major', pad=10)\n",
        "    plt.tight_layout()\n",
        "    plt.xticks(rotation=90,fontsize=10)\n",
        "    plt.yticks(fontsize=10)\n",
        "    plt.ylabel(ylabel='Count',fontsize=15)\n",
        "    plt.xlabel(xlabel=categorical_columns[i],fontsize=15)"
      ],
      "metadata": {
        "colab": {
          "base_uri": "https://localhost:8080/",
          "height": 876
        },
        "id": "iFqXrooR3Jm8",
        "outputId": "8708b8ca-aaeb-49a8-bcdb-458cbd0b46b8"
      },
      "execution_count": null,
      "outputs": [
        {
          "output_type": "display_data",
          "data": {
            "text/plain": [
              "<Figure size 1080x1440 with 6 Axes>"
            ],
            "image/png": "[encoded data removed]"
          },
          "metadata": {
            "needs_background": "light"
          }
        }
      ]
    },
    {
      "cell_type": "markdown",
      "source": [
        "## Feature Engineering"
      ],
      "metadata": {
        "id": "HJ5RQ7BxLAAF"
      }
    },
    {
      "cell_type": "markdown",
      "source": [
        "### Label Encode"
      ],
      "metadata": {
        "id": "Us12BQ-WCzHc"
      }
    },
    {
      "cell_type": "code",
      "source": [
        "s = (clean_df.dtypes != 'int64')\n",
        "object_cols = list(s[s].index)\n",
        "\n",
        "object_cols"
      ],
      "metadata": {
        "colab": {
          "base_uri": "https://localhost:8080/"
        },
        "id": "s7S7207Y5w_0",
        "outputId": "75750930-776c-4361-dd2c-f111cc82f353"
      },
      "execution_count": null,
      "outputs": [
        {
          "output_type": "execute_result",
          "data": {
            "text/plain": [
              "['isNewBuilt',\n",
              " 'hasStormProtector',\n",
              " 'hasStorageRoom',\n",
              " 'price',\n",
              " 'category',\n",
              " 'PoolAndYard']"
            ]
          },
          "metadata": {},
          "execution_count": 25
        }
      ]
    },
    {
      "cell_type": "code",
      "source": [
        "from sklearn.preprocessing import OneHotEncoder\n",
        "\n",
        "object_cols.remove('price')\n",
        "object_cols.remove('category')\n",
        "\n",
        "categorical_data = clean_df[object_cols]\n",
        "\n",
        "OHE=OneHotEncoder(categories='auto')\n",
        "\n",
        "feature_arr = OHE.fit_transform(categorical_data).toarray()\n",
        "\n",
        "ohe_labels = OHE.get_feature_names(object_cols)\n",
        "\n",
        "features = pd.DataFrame(feature_arr,columns=ohe_labels)"
      ],
      "metadata": {
        "id": "JlVnfwoU66gV",
        "colab": {
          "base_uri": "https://localhost:8080/"
        },
        "outputId": "ea75ac2c-d725-466e-8564-23fe39cfe4af"
      },
      "execution_count": null,
      "outputs": [
        {
          "output_type": "stream",
          "name": "stderr",
          "text": [
            "/usr/local/lib/python3.7/dist-packages/sklearn/utils/deprecation.py:87: FutureWarning: Function get_feature_names is deprecated; get_feature_names is deprecated in 1.0 and will be removed in 1.2. Please use get_feature_names_out instead.\n",
            "  warnings.warn(msg, category=FutureWarning)\n"
          ]
        }
      ]
    },
    {
      "cell_type": "code",
      "source": [
        "features"
      ],
      "metadata": {
        "colab": {
          "base_uri": "https://localhost:8080/",
          "height": 522
        },
        "id": "S64rDUJptLC6",
        "outputId": "da51551d-964a-4eee-9380-1cd8ef7d1ba5"
      },
      "execution_count": null,
      "outputs": [
        {
          "output_type": "execute_result",
          "data": {
            "text/plain": [
              "      isNewBuilt_False  isNewBuilt_True  hasStormProtector_False  \\\n",
              "0                  1.0              0.0                      0.0   \n",
              "1                  0.0              1.0                      1.0   \n",
              "2                  1.0              0.0                      1.0   \n",
              "3                  1.0              0.0                      0.0   \n",
              "4                  0.0              1.0                      1.0   \n",
              "...                ...              ...                      ...   \n",
              "9995               1.0              0.0                      0.0   \n",
              "9996               1.0              0.0                      0.0   \n",
              "9997               0.0              1.0                      0.0   \n",
              "9998               1.0              0.0                      0.0   \n",
              "9999               0.0              1.0                      1.0   \n",
              "\n",
              "      hasStormProtector_True  hasStorageRoom_False  hasStorageRoom_True  \\\n",
              "0                        1.0                   1.0                  0.0   \n",
              "1                        0.0                   0.0                  1.0   \n",
              "2                        0.0                   0.0                  1.0   \n",
              "3                        1.0                   1.0                  0.0   \n",
              "4                        0.0                   0.0                  1.0   \n",
              "...                      ...                   ...                  ...   \n",
              "9995                     1.0                   1.0                  0.0   \n",
              "9996                     1.0                   1.0                  0.0   \n",
              "9997                     1.0                   0.0                  1.0   \n",
              "9998                     1.0                   0.0                  1.0   \n",
              "9999                     0.0                   0.0                  1.0   \n",
              "\n",
              "      PoolAndYard_has pool and has yard  PoolAndYard_has pool and no yard  \\\n",
              "0                                   0.0                               1.0   \n",
              "1                                   1.0                               0.0   \n",
              "2                                   0.0                               1.0   \n",
              "3                                   0.0                               0.0   \n",
              "4                                   1.0                               0.0   \n",
              "...                                 ...                               ...   \n",
              "9995                                0.0                               1.0   \n",
              "9996                                1.0                               0.0   \n",
              "9997                                0.0                               0.0   \n",
              "9998                                0.0                               0.0   \n",
              "9999                                0.0                               0.0   \n",
              "\n",
              "      PoolAndYard_no pool and has yard  PoolAndYard_no pool and no yard  \n",
              "0                                  0.0                              0.0  \n",
              "1                                  0.0                              0.0  \n",
              "2                                  0.0                              0.0  \n",
              "3                                  0.0                              1.0  \n",
              "4                                  0.0                              0.0  \n",
              "...                                ...                              ...  \n",
              "9995                               0.0                              0.0  \n",
              "9996                               0.0                              0.0  \n",
              "9997                               0.0                              1.0  \n",
              "9998                               0.0                              1.0  \n",
              "9999                               0.0                              1.0  \n",
              "\n",
              "[10000 rows x 10 columns]"
            ],
            "text/html": [
              "\n",
              "  <div id=\"df-c3fd3702-7664-49aa-94b4-e700635d9a56\">\n",
              "    <div class=\"colab-df-container\">\n",
              "      <div>\n",
              "<style scoped>\n",
              "    .dataframe tbody tr th:only-of-type {\n",
              "        vertical-align: middle;\n",
              "    }\n",
              "\n",
              "    .dataframe tbody tr th {\n",
              "        vertical-align: top;\n",
              "    }\n",
              "\n",
              "    .dataframe thead th {\n",
              "        text-align: right;\n",
              "    }\n",
              "</style>\n",
              "<table border=\"1\" class=\"dataframe\">\n",
              "  <thead>\n",
              "    <tr style=\"text-align: right;\">\n",
              "      <th></th>\n",
              "      <th>isNewBuilt_False</th>\n",
              "      <th>isNewBuilt_True</th>\n",
              "      <th>hasStormProtector_False</th>\n",
              "      <th>hasStormProtector_True</th>\n",
              "      <th>hasStorageRoom_False</th>\n",
              "      <th>hasStorageRoom_True</th>\n",
              "      <th>PoolAndYard_has pool and has yard</th>\n",
              "      <th>PoolAndYard_has pool and no yard</th>\n",
              "      <th>PoolAndYard_no pool and has yard</th>\n",
              "      <th>PoolAndYard_no pool and no yard</th>\n",
              "    </tr>\n",
              "  </thead>\n",
              "  <tbody>\n",
              "    <tr>\n",
              "      <th>0</th>\n",
              "      <td>1.0</td>\n",
              "      <td>0.0</td>\n",
              "      <td>0.0</td>\n",
              "      <td>1.0</td>\n",
              "      <td>1.0</td>\n",
              "      <td>0.0</td>\n",
              "      <td>0.0</td>\n",
              "      <td>1.0</td>\n",
              "      <td>0.0</td>\n",
              "      <td>0.0</td>\n",
              "    </tr>\n",
              "    <tr>\n",
              "      <th>1</th>\n",
              "      <td>0.0</td>\n",
              "      <td>1.0</td>\n",
              "      <td>1.0</td>\n",
              "      <td>0.0</td>\n",
              "      <td>0.0</td>\n",
              "      <td>1.0</td>\n",
              "      <td>1.0</td>\n",
              "      <td>0.0</td>\n",
              "      <td>0.0</td>\n",
              "      <td>0.0</td>\n",
              "    </tr>\n",
              "    <tr>\n",
              "      <th>2</th>\n",
              "      <td>1.0</td>\n",
              "      <td>0.0</td>\n",
              "      <td>1.0</td>\n",
              "      <td>0.0</td>\n",
              "      <td>0.0</td>\n",
              "      <td>1.0</td>\n",
              "      <td>0.0</td>\n",
              "      <td>1.0</td>\n",
              "      <td>0.0</td>\n",
              "      <td>0.0</td>\n",
              "    </tr>\n",
              "    <tr>\n",
              "      <th>3</th>\n",
              "      <td>1.0</td>\n",
              "      <td>0.0</td>\n",
              "      <td>0.0</td>\n",
              "      <td>1.0</td>\n",
              "      <td>1.0</td>\n",
              "      <td>0.0</td>\n",
              "      <td>0.0</td>\n",
              "      <td>0.0</td>\n",
              "      <td>0.0</td>\n",
              "      <td>1.0</td>\n",
              "    </tr>\n",
              "    <tr>\n",
              "      <th>4</th>\n",
              "      <td>0.0</td>\n",
              "      <td>1.0</td>\n",
              "      <td>1.0</td>\n",
              "      <td>0.0</td>\n",
              "      <td>0.0</td>\n",
              "      <td>1.0</td>\n",
              "      <td>1.0</td>\n",
              "      <td>0.0</td>\n",
              "      <td>0.0</td>\n",
              "      <td>0.0</td>\n",
              "    </tr>\n",
              "    <tr>\n",
              "      <th>...</th>\n",
              "      <td>...</td>\n",
              "      <td>...</td>\n",
              "      <td>...</td>\n",
              "      <td>...</td>\n",
              "      <td>...</td>\n",
              "      <td>...</td>\n",
              "      <td>...</td>\n",
              "      <td>...</td>\n",
              "      <td>...</td>\n",
              "      <td>...</td>\n",
              "    </tr>\n",
              "    <tr>\n",
              "      <th>9995</th>\n",
              "      <td>1.0</td>\n",
              "      <td>0.0</td>\n",
              "      <td>0.0</td>\n",
              "      <td>1.0</td>\n",
              "      <td>1.0</td>\n",
              "      <td>0.0</td>\n",
              "      <td>0.0</td>\n",
              "      <td>1.0</td>\n",
              "      <td>0.0</td>\n",
              "      <td>0.0</td>\n",
              "    </tr>\n",
              "    <tr>\n",
              "      <th>9996</th>\n",
              "      <td>1.0</td>\n",
              "      <td>0.0</td>\n",
              "      <td>0.0</td>\n",
              "      <td>1.0</td>\n",
              "      <td>1.0</td>\n",
              "      <td>0.0</td>\n",
              "      <td>1.0</td>\n",
              "      <td>0.0</td>\n",
              "      <td>0.0</td>\n",
              "      <td>0.0</td>\n",
              "    </tr>\n",
              "    <tr>\n",
              "      <th>9997</th>\n",
              "      <td>0.0</td>\n",
              "      <td>1.0</td>\n",
              "      <td>0.0</td>\n",
              "      <td>1.0</td>\n",
              "      <td>0.0</td>\n",
              "      <td>1.0</td>\n",
              "      <td>0.0</td>\n",
              "      <td>0.0</td>\n",
              "      <td>0.0</td>\n",
              "      <td>1.0</td>\n",
              "    </tr>\n",
              "    <tr>\n",
              "      <th>9998</th>\n",
              "      <td>1.0</td>\n",
              "      <td>0.0</td>\n",
              "      <td>0.0</td>\n",
              "      <td>1.0</td>\n",
              "      <td>0.0</td>\n",
              "      <td>1.0</td>\n",
              "      <td>0.0</td>\n",
              "      <td>0.0</td>\n",
              "      <td>0.0</td>\n",
              "      <td>1.0</td>\n",
              "    </tr>\n",
              "    <tr>\n",
              "      <th>9999</th>\n",
              "      <td>0.0</td>\n",
              "      <td>1.0</td>\n",
              "      <td>1.0</td>\n",
              "      <td>0.0</td>\n",
              "      <td>0.0</td>\n",
              "      <td>1.0</td>\n",
              "      <td>0.0</td>\n",
              "      <td>0.0</td>\n",
              "      <td>0.0</td>\n",
              "      <td>1.0</td>\n",
              "    </tr>\n",
              "  </tbody>\n",
              "</table>\n",
              "<p>10000 rows × 10 columns</p>\n",
              "</div>\n",
              "      <button class=\"colab-df-convert\" onclick=\"convertToInteractive('df-c3fd3702-7664-49aa-94b4-e700635d9a56')\"\n",
              "              title=\"Convert this dataframe to an interactive table.\"\n",
              "              style=\"display:none;\">\n",
              "        \n",
              "  <svg xmlns=\"http://www.w3.org/2000/svg\" height=\"24px\"viewBox=\"0 0 24 24\"\n",
              "       width=\"24px\">\n",
              "    <path d=\"M0 0h24v24H0V0z\" fill=\"none\"/>\n",
              "    <path d=\"M18.56 5.44l.94 2.06.94-2.06 2.06-.94-2.06-.94-.94-2.06-.94 2.06-2.06.94zm-11 1L8.5 8.5l.94-2.06 2.06-.94-2.06-.94L8.5 2.5l-.94 2.06-2.06.94zm10 10l.94 2.06.94-2.06 2.06-.94-2.06-.94-.94-2.06-.94 2.06-2.06.94z\"/><path d=\"M17.41 7.96l-1.37-1.37c-.4-.4-.92-.59-1.43-.59-.52 0-1.04.2-1.43.59L10.3 9.45l-7.72 7.72c-.78.78-.78 2.05 0 2.83L4 21.41c.39.39.9.59 1.41.59.51 0 1.02-.2 1.41-.59l7.78-7.78 2.81-2.81c.8-.78.8-2.07 0-2.86zM5.41 20L4 18.59l7.72-7.72 1.47 1.35L5.41 20z\"/>\n",
              "  </svg>\n",
              "      </button>\n",
              "      \n",
              "  <style>\n",
              "    .colab-df-container {\n",
              "      display:flex;\n",
              "      flex-wrap:wrap;\n",
              "      gap: 12px;\n",
              "    }\n",
              "\n",
              "    .colab-df-convert {\n",
              "      background-color: #E8F0FE;\n",
              "      border: none;\n",
              "      border-radius: 50%;\n",
              "      cursor: pointer;\n",
              "      display: none;\n",
              "      fill: #1967D2;\n",
              "      height: 32px;\n",
              "      padding: 0 0 0 0;\n",
              "      width: 32px;\n",
              "    }\n",
              "\n",
              "    .colab-df-convert:hover {\n",
              "      background-color: #E2EBFA;\n",
              "      box-shadow: 0px 1px 2px rgba(60, 64, 67, 0.3), 0px 1px 3px 1px rgba(60, 64, 67, 0.15);\n",
              "      fill: #174EA6;\n",
              "    }\n",
              "\n",
              "    [theme=dark] .colab-df-convert {\n",
              "      background-color: #3B4455;\n",
              "      fill: #D2E3FC;\n",
              "    }\n",
              "\n",
              "    [theme=dark] .colab-df-convert:hover {\n",
              "      background-color: #434B5C;\n",
              "      box-shadow: 0px 1px 3px 1px rgba(0, 0, 0, 0.15);\n",
              "      filter: drop-shadow(0px 1px 2px rgba(0, 0, 0, 0.3));\n",
              "      fill: #FFFFFF;\n",
              "    }\n",
              "  </style>\n",
              "\n",
              "      <script>\n",
              "        const buttonEl =\n",
              "          document.querySelector('#df-c3fd3702-7664-49aa-94b4-e700635d9a56 button.colab-df-convert');\n",
              "        buttonEl.style.display =\n",
              "          google.colab.kernel.accessAllowed ? 'block' : 'none';\n",
              "\n",
              "        async function convertToInteractive(key) {\n",
              "          const element = document.querySelector('#df-c3fd3702-7664-49aa-94b4-e700635d9a56');\n",
              "          const dataTable =\n",
              "            await google.colab.kernel.invokeFunction('convertToInteractive',\n",
              "                                                     [key], {});\n",
              "          if (!dataTable) return;\n",
              "\n",
              "          const docLinkHtml = 'Like what you see? Visit the ' +\n",
              "            '<a target=\"_blank\" href=https://colab.research.google.com/notebooks/data_table.ipynb>data table notebook</a>'\n",
              "            + ' to learn more about interactive tables.';\n",
              "          element.innerHTML = '';\n",
              "          dataTable['output_type'] = 'display_data';\n",
              "          await google.colab.output.renderOutput(dataTable, element);\n",
              "          const docLink = document.createElement('div');\n",
              "          docLink.innerHTML = docLinkHtml;\n",
              "          element.appendChild(docLink);\n",
              "        }\n",
              "      </script>\n",
              "    </div>\n",
              "  </div>\n",
              "  "
            ]
          },
          "metadata": {},
          "execution_count": 27
        }
      ]
    },
    {
      "cell_type": "code",
      "source": [
        "LE = LabelEncoder()\n",
        "clean_df['category'] = LE.fit_transform(clean_df['category'])"
      ],
      "metadata": {
        "id": "CRB7RvtmqOs6"
      },
      "execution_count": null,
      "outputs": []
    },
    {
      "cell_type": "code",
      "source": [
        "clean_df = clean_df.drop(object_cols, axis=1)\n",
        "clean_df = pd.concat([clean_df, features], axis=1)"
      ],
      "metadata": {
        "id": "d-aQLL0Ynum1"
      },
      "execution_count": null,
      "outputs": []
    },
    {
      "cell_type": "code",
      "source": [
        "clean_df"
      ],
      "metadata": {
        "colab": {
          "base_uri": "https://localhost:8080/",
          "height": 522
        },
        "id": "eTTFEppmowrP",
        "outputId": "facb0e06-2f08-4075-8a41-ee59df1cc5f6"
      },
      "execution_count": null,
      "outputs": [
        {
          "output_type": "execute_result",
          "data": {
            "text/plain": [
              "      squareMeters  numberOfRooms  floors  cityPartRange  numPrevOwners  made  \\\n",
              "0            75523              3      63              3              8  2005   \n",
              "1            80771             39      98              8              6  2015   \n",
              "2            55712             58      19              6              8  2021   \n",
              "3            32316             47       6             10              4  2012   \n",
              "4            70429             19      90              3              7  1990   \n",
              "...            ...            ...     ...            ...            ...   ...   \n",
              "9995          1726             89       5              7              6  2009   \n",
              "9996         44403             29      12              9              4  1990   \n",
              "9997         83841              3      69             10             10  2005   \n",
              "9998         59036             70      96              1              3  2010   \n",
              "9999          1440             84      49              6             10  1994   \n",
              "\n",
              "      basement  attic  garage  hasGuestRoom      price  category  \\\n",
              "0         4313   9005     956             7  7559081.5         0   \n",
              "1         3653   2436     128             2  8085989.5         1   \n",
              "2         2937   8852     135             9  5574642.1         0   \n",
              "3          659   7141     359             3  3232561.2         0   \n",
              "4         8435   2429     292             4  7055052.0         1   \n",
              "...        ...    ...     ...           ...        ...       ...   \n",
              "9995      9311   1698     218             4   176425.9         0   \n",
              "9996      9061   1742     230             0  4448474.0         0   \n",
              "9997      8304   7730     345             9  8390030.5         0   \n",
              "9998      2590   6174     339             4  5905107.0         0   \n",
              "9999      8485   2024     278             6   146708.4         0   \n",
              "\n",
              "      isNewBuilt_False  isNewBuilt_True  hasStormProtector_False  \\\n",
              "0                  1.0              0.0                      0.0   \n",
              "1                  0.0              1.0                      1.0   \n",
              "2                  1.0              0.0                      1.0   \n",
              "3                  1.0              0.0                      0.0   \n",
              "4                  0.0              1.0                      1.0   \n",
              "...                ...              ...                      ...   \n",
              "9995               1.0              0.0                      0.0   \n",
              "9996               1.0              0.0                      0.0   \n",
              "9997               0.0              1.0                      0.0   \n",
              "9998               1.0              0.0                      0.0   \n",
              "9999               0.0              1.0                      1.0   \n",
              "\n",
              "      hasStormProtector_True  hasStorageRoom_False  hasStorageRoom_True  \\\n",
              "0                        1.0                   1.0                  0.0   \n",
              "1                        0.0                   0.0                  1.0   \n",
              "2                        0.0                   0.0                  1.0   \n",
              "3                        1.0                   1.0                  0.0   \n",
              "4                        0.0                   0.0                  1.0   \n",
              "...                      ...                   ...                  ...   \n",
              "9995                     1.0                   1.0                  0.0   \n",
              "9996                     1.0                   1.0                  0.0   \n",
              "9997                     1.0                   0.0                  1.0   \n",
              "9998                     1.0                   0.0                  1.0   \n",
              "9999                     0.0                   0.0                  1.0   \n",
              "\n",
              "      PoolAndYard_has pool and has yard  PoolAndYard_has pool and no yard  \\\n",
              "0                                   0.0                               1.0   \n",
              "1                                   1.0                               0.0   \n",
              "2                                   0.0                               1.0   \n",
              "3                                   0.0                               0.0   \n",
              "4                                   1.0                               0.0   \n",
              "...                                 ...                               ...   \n",
              "9995                                0.0                               1.0   \n",
              "9996                                1.0                               0.0   \n",
              "9997                                0.0                               0.0   \n",
              "9998                                0.0                               0.0   \n",
              "9999                                0.0                               0.0   \n",
              "\n",
              "      PoolAndYard_no pool and has yard  PoolAndYard_no pool and no yard  \n",
              "0                                  0.0                              0.0  \n",
              "1                                  0.0                              0.0  \n",
              "2                                  0.0                              0.0  \n",
              "3                                  0.0                              1.0  \n",
              "4                                  0.0                              0.0  \n",
              "...                                ...                              ...  \n",
              "9995                               0.0                              0.0  \n",
              "9996                               0.0                              0.0  \n",
              "9997                               0.0                              1.0  \n",
              "9998                               0.0                              1.0  \n",
              "9999                               0.0                              1.0  \n",
              "\n",
              "[10000 rows x 22 columns]"
            ],
            "text/html": [
              "\n",
              "  <div id=\"df-2ba2f2ca-30b5-4f2d-b4a5-63ca55b84dba\">\n",
              "    <div class=\"colab-df-container\">\n",
              "      <div>\n",
              "<style scoped>\n",
              "    .dataframe tbody tr th:only-of-type {\n",
              "        vertical-align: middle;\n",
              "    }\n",
              "\n",
              "    .dataframe tbody tr th {\n",
              "        vertical-align: top;\n",
              "    }\n",
              "\n",
              "    .dataframe thead th {\n",
              "        text-align: right;\n",
              "    }\n",
              "</style>\n",
              "<table border=\"1\" class=\"dataframe\">\n",
              "  <thead>\n",
              "    <tr style=\"text-align: right;\">\n",
              "      <th></th>\n",
              "      <th>squareMeters</th>\n",
              "      <th>numberOfRooms</th>\n",
              "      <th>floors</th>\n",
              "      <th>cityPartRange</th>\n",
              "      <th>numPrevOwners</th>\n",
              "      <th>made</th>\n",
              "      <th>basement</th>\n",
              "      <th>attic</th>\n",
              "      <th>garage</th>\n",
              "      <th>hasGuestRoom</th>\n",
              "      <th>price</th>\n",
              "      <th>category</th>\n",
              "      <th>isNewBuilt_False</th>\n",
              "      <th>isNewBuilt_True</th>\n",
              "      <th>hasStormProtector_False</th>\n",
              "      <th>hasStormProtector_True</th>\n",
              "      <th>hasStorageRoom_False</th>\n",
              "      <th>hasStorageRoom_True</th>\n",
              "      <th>PoolAndYard_has pool and has yard</th>\n",
              "      <th>PoolAndYard_has pool and no yard</th>\n",
              "      <th>PoolAndYard_no pool and has yard</th>\n",
              "      <th>PoolAndYard_no pool and no yard</th>\n",
              "    </tr>\n",
              "  </thead>\n",
              "  <tbody>\n",
              "    <tr>\n",
              "      <th>0</th>\n",
              "      <td>75523</td>\n",
              "      <td>3</td>\n",
              "      <td>63</td>\n",
              "      <td>3</td>\n",
              "      <td>8</td>\n",
              "      <td>2005</td>\n",
              "      <td>4313</td>\n",
              "      <td>9005</td>\n",
              "      <td>956</td>\n",
              "      <td>7</td>\n",
              "      <td>7559081.5</td>\n",
              "      <td>0</td>\n",
              "      <td>1.0</td>\n",
              "      <td>0.0</td>\n",
              "      <td>0.0</td>\n",
              "      <td>1.0</td>\n",
              "      <td>1.0</td>\n",
              "      <td>0.0</td>\n",
              "      <td>0.0</td>\n",
              "      <td>1.0</td>\n",
              "      <td>0.0</td>\n",
              "      <td>0.0</td>\n",
              "    </tr>\n",
              "    <tr>\n",
              "      <th>1</th>\n",
              "      <td>80771</td>\n",
              "      <td>39</td>\n",
              "      <td>98</td>\n",
              "      <td>8</td>\n",
              "      <td>6</td>\n",
              "      <td>2015</td>\n",
              "      <td>3653</td>\n",
              "      <td>2436</td>\n",
              "      <td>128</td>\n",
              "      <td>2</td>\n",
              "      <td>8085989.5</td>\n",
              "      <td>1</td>\n",
              "      <td>0.0</td>\n",
              "      <td>1.0</td>\n",
              "      <td>1.0</td>\n",
              "      <td>0.0</td>\n",
              "      <td>0.0</td>\n",
              "      <td>1.0</td>\n",
              "      <td>1.0</td>\n",
              "      <td>0.0</td>\n",
              "      <td>0.0</td>\n",
              "      <td>0.0</td>\n",
              "    </tr>\n",
              "    <tr>\n",
              "      <th>2</th>\n",
              "      <td>55712</td>\n",
              "      <td>58</td>\n",
              "      <td>19</td>\n",
              "      <td>6</td>\n",
              "      <td>8</td>\n",
              "      <td>2021</td>\n",
              "      <td>2937</td>\n",
              "      <td>8852</td>\n",
              "      <td>135</td>\n",
              "      <td>9</td>\n",
              "      <td>5574642.1</td>\n",
              "      <td>0</td>\n",
              "      <td>1.0</td>\n",
              "      <td>0.0</td>\n",
              "      <td>1.0</td>\n",
              "      <td>0.0</td>\n",
              "      <td>0.0</td>\n",
              "      <td>1.0</td>\n",
              "      <td>0.0</td>\n",
              "      <td>1.0</td>\n",
              "      <td>0.0</td>\n",
              "      <td>0.0</td>\n",
              "    </tr>\n",
              "    <tr>\n",
              "      <th>3</th>\n",
              "      <td>32316</td>\n",
              "      <td>47</td>\n",
              "      <td>6</td>\n",
              "      <td>10</td>\n",
              "      <td>4</td>\n",
              "      <td>2012</td>\n",
              "      <td>659</td>\n",
              "      <td>7141</td>\n",
              "      <td>359</td>\n",
              "      <td>3</td>\n",
              "      <td>3232561.2</td>\n",
              "      <td>0</td>\n",
              "      <td>1.0</td>\n",
              "      <td>0.0</td>\n",
              "      <td>0.0</td>\n",
              "      <td>1.0</td>\n",
              "      <td>1.0</td>\n",
              "      <td>0.0</td>\n",
              "      <td>0.0</td>\n",
              "      <td>0.0</td>\n",
              "      <td>0.0</td>\n",
              "      <td>1.0</td>\n",
              "    </tr>\n",
              "    <tr>\n",
              "      <th>4</th>\n",
              "      <td>70429</td>\n",
              "      <td>19</td>\n",
              "      <td>90</td>\n",
              "      <td>3</td>\n",
              "      <td>7</td>\n",
              "      <td>1990</td>\n",
              "      <td>8435</td>\n",
              "      <td>2429</td>\n",
              "      <td>292</td>\n",
              "      <td>4</td>\n",
              "      <td>7055052.0</td>\n",
              "      <td>1</td>\n",
              "      <td>0.0</td>\n",
              "      <td>1.0</td>\n",
              "      <td>1.0</td>\n",
              "      <td>0.0</td>\n",
              "      <td>0.0</td>\n",
              "      <td>1.0</td>\n",
              "      <td>1.0</td>\n",
              "      <td>0.0</td>\n",
              "      <td>0.0</td>\n",
              "      <td>0.0</td>\n",
              "    </tr>\n",
              "    <tr>\n",
              "      <th>...</th>\n",
              "      <td>...</td>\n",
              "      <td>...</td>\n",
              "      <td>...</td>\n",
              "      <td>...</td>\n",
              "      <td>...</td>\n",
              "      <td>...</td>\n",
              "      <td>...</td>\n",
              "      <td>...</td>\n",
              "      <td>...</td>\n",
              "      <td>...</td>\n",
              "      <td>...</td>\n",
              "      <td>...</td>\n",
              "      <td>...</td>\n",
              "      <td>...</td>\n",
              "      <td>...</td>\n",
              "      <td>...</td>\n",
              "      <td>...</td>\n",
              "      <td>...</td>\n",
              "      <td>...</td>\n",
              "      <td>...</td>\n",
              "      <td>...</td>\n",
              "      <td>...</td>\n",
              "    </tr>\n",
              "    <tr>\n",
              "      <th>9995</th>\n",
              "      <td>1726</td>\n",
              "      <td>89</td>\n",
              "      <td>5</td>\n",
              "      <td>7</td>\n",
              "      <td>6</td>\n",
              "      <td>2009</td>\n",
              "      <td>9311</td>\n",
              "      <td>1698</td>\n",
              "      <td>218</td>\n",
              "      <td>4</td>\n",
              "      <td>176425.9</td>\n",
              "      <td>0</td>\n",
              "      <td>1.0</td>\n",
              "      <td>0.0</td>\n",
              "      <td>0.0</td>\n",
              "      <td>1.0</td>\n",
              "      <td>1.0</td>\n",
              "      <td>0.0</td>\n",
              "      <td>0.0</td>\n",
              "      <td>1.0</td>\n",
              "      <td>0.0</td>\n",
              "      <td>0.0</td>\n",
              "    </tr>\n",
              "    <tr>\n",
              "      <th>9996</th>\n",
              "      <td>44403</td>\n",
              "      <td>29</td>\n",
              "      <td>12</td>\n",
              "      <td>9</td>\n",
              "      <td>4</td>\n",
              "      <td>1990</td>\n",
              "      <td>9061</td>\n",
              "      <td>1742</td>\n",
              "      <td>230</td>\n",
              "      <td>0</td>\n",
              "      <td>4448474.0</td>\n",
              "      <td>0</td>\n",
              "      <td>1.0</td>\n",
              "      <td>0.0</td>\n",
              "      <td>0.0</td>\n",
              "      <td>1.0</td>\n",
              "      <td>1.0</td>\n",
              "      <td>0.0</td>\n",
              "      <td>1.0</td>\n",
              "      <td>0.0</td>\n",
              "      <td>0.0</td>\n",
              "      <td>0.0</td>\n",
              "    </tr>\n",
              "    <tr>\n",
              "      <th>9997</th>\n",
              "      <td>83841</td>\n",
              "      <td>3</td>\n",
              "      <td>69</td>\n",
              "      <td>10</td>\n",
              "      <td>10</td>\n",
              "      <td>2005</td>\n",
              "      <td>8304</td>\n",
              "      <td>7730</td>\n",
              "      <td>345</td>\n",
              "      <td>9</td>\n",
              "      <td>8390030.5</td>\n",
              "      <td>0</td>\n",
              "      <td>0.0</td>\n",
              "      <td>1.0</td>\n",
              "      <td>0.0</td>\n",
              "      <td>1.0</td>\n",
              "      <td>0.0</td>\n",
              "      <td>1.0</td>\n",
              "      <td>0.0</td>\n",
              "      <td>0.0</td>\n",
              "      <td>0.0</td>\n",
              "      <td>1.0</td>\n",
              "    </tr>\n",
              "    <tr>\n",
              "      <th>9998</th>\n",
              "      <td>59036</td>\n",
              "      <td>70</td>\n",
              "      <td>96</td>\n",
              "      <td>1</td>\n",
              "      <td>3</td>\n",
              "      <td>2010</td>\n",
              "      <td>2590</td>\n",
              "      <td>6174</td>\n",
              "      <td>339</td>\n",
              "      <td>4</td>\n",
              "      <td>5905107.0</td>\n",
              "      <td>0</td>\n",
              "      <td>1.0</td>\n",
              "      <td>0.0</td>\n",
              "      <td>0.0</td>\n",
              "      <td>1.0</td>\n",
              "      <td>0.0</td>\n",
              "      <td>1.0</td>\n",
              "      <td>0.0</td>\n",
              "      <td>0.0</td>\n",
              "      <td>0.0</td>\n",
              "      <td>1.0</td>\n",
              "    </tr>\n",
              "    <tr>\n",
              "      <th>9999</th>\n",
              "      <td>1440</td>\n",
              "      <td>84</td>\n",
              "      <td>49</td>\n",
              "      <td>6</td>\n",
              "      <td>10</td>\n",
              "      <td>1994</td>\n",
              "      <td>8485</td>\n",
              "      <td>2024</td>\n",
              "      <td>278</td>\n",
              "      <td>6</td>\n",
              "      <td>146708.4</td>\n",
              "      <td>0</td>\n",
              "      <td>0.0</td>\n",
              "      <td>1.0</td>\n",
              "      <td>1.0</td>\n",
              "      <td>0.0</td>\n",
              "      <td>0.0</td>\n",
              "      <td>1.0</td>\n",
              "      <td>0.0</td>\n",
              "      <td>0.0</td>\n",
              "      <td>0.0</td>\n",
              "      <td>1.0</td>\n",
              "    </tr>\n",
              "  </tbody>\n",
              "</table>\n",
              "<p>10000 rows × 22 columns</p>\n",
              "</div>\n",
              "      <button class=\"colab-df-convert\" onclick=\"convertToInteractive('df-2ba2f2ca-30b5-4f2d-b4a5-63ca55b84dba')\"\n",
              "              title=\"Convert this dataframe to an interactive table.\"\n",
              "              style=\"display:none;\">\n",
              "        \n",
              "  <svg xmlns=\"http://www.w3.org/2000/svg\" height=\"24px\"viewBox=\"0 0 24 24\"\n",
              "       width=\"24px\">\n",
              "    <path d=\"M0 0h24v24H0V0z\" fill=\"none\"/>\n",
              "    <path d=\"M18.56 5.44l.94 2.06.94-2.06 2.06-.94-2.06-.94-.94-2.06-.94 2.06-2.06.94zm-11 1L8.5 8.5l.94-2.06 2.06-.94-2.06-.94L8.5 2.5l-.94 2.06-2.06.94zm10 10l.94 2.06.94-2.06 2.06-.94-2.06-.94-.94-2.06-.94 2.06-2.06.94z\"/><path d=\"M17.41 7.96l-1.37-1.37c-.4-.4-.92-.59-1.43-.59-.52 0-1.04.2-1.43.59L10.3 9.45l-7.72 7.72c-.78.78-.78 2.05 0 2.83L4 21.41c.39.39.9.59 1.41.59.51 0 1.02-.2 1.41-.59l7.78-7.78 2.81-2.81c.8-.78.8-2.07 0-2.86zM5.41 20L4 18.59l7.72-7.72 1.47 1.35L5.41 20z\"/>\n",
              "  </svg>\n",
              "      </button>\n",
              "      \n",
              "  <style>\n",
              "    .colab-df-container {\n",
              "      display:flex;\n",
              "      flex-wrap:wrap;\n",
              "      gap: 12px;\n",
              "    }\n",
              "\n",
              "    .colab-df-convert {\n",
              "      background-color: #E8F0FE;\n",
              "      border: none;\n",
              "      border-radius: 50%;\n",
              "      cursor: pointer;\n",
              "      display: none;\n",
              "      fill: #1967D2;\n",
              "      height: 32px;\n",
              "      padding: 0 0 0 0;\n",
              "      width: 32px;\n",
              "    }\n",
              "\n",
              "    .colab-df-convert:hover {\n",
              "      background-color: #E2EBFA;\n",
              "      box-shadow: 0px 1px 2px rgba(60, 64, 67, 0.3), 0px 1px 3px 1px rgba(60, 64, 67, 0.15);\n",
              "      fill: #174EA6;\n",
              "    }\n",
              "\n",
              "    [theme=dark] .colab-df-convert {\n",
              "      background-color: #3B4455;\n",
              "      fill: #D2E3FC;\n",
              "    }\n",
              "\n",
              "    [theme=dark] .colab-df-convert:hover {\n",
              "      background-color: #434B5C;\n",
              "      box-shadow: 0px 1px 3px 1px rgba(0, 0, 0, 0.15);\n",
              "      filter: drop-shadow(0px 1px 2px rgba(0, 0, 0, 0.3));\n",
              "      fill: #FFFFFF;\n",
              "    }\n",
              "  </style>\n",
              "\n",
              "      <script>\n",
              "        const buttonEl =\n",
              "          document.querySelector('#df-2ba2f2ca-30b5-4f2d-b4a5-63ca55b84dba button.colab-df-convert');\n",
              "        buttonEl.style.display =\n",
              "          google.colab.kernel.accessAllowed ? 'block' : 'none';\n",
              "\n",
              "        async function convertToInteractive(key) {\n",
              "          const element = document.querySelector('#df-2ba2f2ca-30b5-4f2d-b4a5-63ca55b84dba');\n",
              "          const dataTable =\n",
              "            await google.colab.kernel.invokeFunction('convertToInteractive',\n",
              "                                                     [key], {});\n",
              "          if (!dataTable) return;\n",
              "\n",
              "          const docLinkHtml = 'Like what you see? Visit the ' +\n",
              "            '<a target=\"_blank\" href=https://colab.research.google.com/notebooks/data_table.ipynb>data table notebook</a>'\n",
              "            + ' to learn more about interactive tables.';\n",
              "          element.innerHTML = '';\n",
              "          dataTable['output_type'] = 'display_data';\n",
              "          await google.colab.output.renderOutput(dataTable, element);\n",
              "          const docLink = document.createElement('div');\n",
              "          docLink.innerHTML = docLinkHtml;\n",
              "          element.appendChild(docLink);\n",
              "        }\n",
              "      </script>\n",
              "    </div>\n",
              "  </div>\n",
              "  "
            ]
          },
          "metadata": {},
          "execution_count": 30
        }
      ]
    },
    {
      "cell_type": "markdown",
      "source": [
        "### Feature Selection"
      ],
      "metadata": {
        "id": "IEyrCr6_ozHG"
      }
    },
    {
      "cell_type": "code",
      "source": [
        "X = clean_df.drop(['category', 'made'], axis=1)\n",
        "y = clean_df['category']"
      ],
      "metadata": {
        "id": "Cnje8Lt9pOiN"
      },
      "execution_count": null,
      "outputs": []
    },
    {
      "cell_type": "markdown",
      "source": [
        "## Pemodelan"
      ],
      "metadata": {
        "id": "mulLYDUzI5AK"
      }
    },
    {
      "cell_type": "markdown",
      "source": [
        "### Split Data"
      ],
      "metadata": {
        "id": "IUIE23yCgake"
      }
    },
    {
      "cell_type": "code",
      "source": [
        "from sklearn.model_selection import train_test_split\n",
        "\n",
        "X_train, X_test, y_train, y_test = train_test_split(X, y, test_size=0.2, random_state=42)"
      ],
      "metadata": {
        "id": "6F8jEgJ7rQ8b"
      },
      "execution_count": null,
      "outputs": []
    },
    {
      "cell_type": "code",
      "source": [
        "print(\"X_train dataset shape: \", X_train.shape)\n",
        "print(\"y_train dataset shape: \", y_train.shape)\n",
        "print(\"X_test dataset shape: \", X_test.shape)\n",
        "print(\"y_test dataset shape: \", y_test.shape)"
      ],
      "metadata": {
        "colab": {
          "base_uri": "https://localhost:8080/"
        },
        "id": "Cb1JhxsBrkdd",
        "outputId": "0c2a5d88-08a7-4fef-d7fe-f8fcce66c1e1"
      },
      "execution_count": null,
      "outputs": [
        {
          "output_type": "stream",
          "name": "stdout",
          "text": [
            "X_train dataset shape:  (8000, 20)\n",
            "y_train dataset shape:  (8000,)\n",
            "X_test dataset shape:  (2000, 20)\n",
            "y_test dataset shape:  (2000,)\n"
          ]
        }
      ]
    },
    {
      "cell_type": "markdown",
      "source": [
        "### Baseline Model"
      ],
      "metadata": {
        "id": "iFbFZEiQsvSE"
      }
    },
    {
      "cell_type": "code",
      "execution_count": null,
      "metadata": {
        "id": "EYriQZ2v9Hej"
      },
      "outputs": [],
      "source": [
        "#Machine learning Model\n",
        "from sklearn.tree import DecisionTreeClassifier\n",
        "from sklearn.linear_model import LogisticRegression\n",
        "from sklearn.neighbors import KNeighborsClassifier\n",
        "from sklearn.naive_bayes import GaussianNB\n",
        "from sklearn.svm import SVC, LinearSVC\n",
        "from sklearn.ensemble import RandomForestClassifier , GradientBoostingClassifier\n",
        "from sklearn.ensemble import ExtraTreesClassifier\n",
        "from lightgbm import LGBMClassifier\n",
        "from xgboost import XGBClassifier"
      ]
    },
    {
      "cell_type": "code",
      "execution_count": null,
      "metadata": {
        "id": "76rd1Sbp9IFB"
      },
      "outputs": [],
      "source": [
        "#Cross Validation -> Untuk menangani data yang tidak balance\n",
        "from sklearn.model_selection import StratifiedKFold \n",
        "from sklearn.model_selection import RepeatedStratifiedKFold"
      ]
    },
    {
      "cell_type": "code",
      "execution_count": null,
      "metadata": {
        "id": "RXStjojx9KL4"
      },
      "outputs": [],
      "source": [
        "#Evaluation\n",
        "from sklearn import metrics\n",
        "from sklearn.metrics import classification_report, roc_auc_score, roc_curve\n",
        "from sklearn.metrics import make_scorer,accuracy_score,roc_auc_score,precision_score,recall_score,f1_score,log_loss\n",
        "from sklearn.metrics import confusion_matrix"
      ]
    },
    {
      "cell_type": "code",
      "execution_count": null,
      "metadata": {
        "colab": {
          "base_uri": "https://localhost:8080/"
        },
        "id": "J-SN6-ro9-FG",
        "outputId": "c2916409-ef20-47cd-8753-d6c8b6d6990f"
      },
      "outputs": [
        {
          "output_type": "stream",
          "name": "stdout",
          "text": [
            "----------BEFORE------------\n",
            "DecisionTreeClassifier Acc Train: [], 1 of KFold 2\n",
            "DecisionTreeClassifier Acc Test: [], 1 of KFold 2\n",
            "DecisionTreeClassifier Recall: [], 1 of KFold 2\n",
            "DecisionTreeClassifier Precission: [], 1 of KFold 2\n",
            "DecisionTreeClassifier AUC: [], 1 of KFold 2\n",
            "---------------------------\n",
            "----------AFTER------------\n",
            "DecisionTreeClassifier Acc Train: [1.0], 1 of KFold 2\n",
            "DecisionTreeClassifier Acc Test: [1.0], 1 of KFold 2\n",
            "DecisionTreeClassifier Recall: [1.0], 1 of KFold 2\n",
            "DecisionTreeClassifier Precission: [1.0], 1 of KFold 2\n",
            "DecisionTreeClassifier AUC: [1.0], 1 of KFold 2\n",
            "---------------------------\n",
            "----------BEFORE------------\n",
            "DecisionTreeClassifier Acc Train: [1.0], 2 of KFold 2\n",
            "DecisionTreeClassifier Acc Test: [1.0], 2 of KFold 2\n",
            "DecisionTreeClassifier Recall: [1.0], 2 of KFold 2\n",
            "DecisionTreeClassifier Precission: [1.0], 2 of KFold 2\n",
            "DecisionTreeClassifier AUC: [1.0], 2 of KFold 2\n",
            "---------------------------\n",
            "----------AFTER------------\n",
            "DecisionTreeClassifier Acc Train: [1.0, 1.0], 2 of KFold 2\n",
            "DecisionTreeClassifier Acc Test: [1.0, 1.0], 2 of KFold 2\n",
            "DecisionTreeClassifier Recall: [1.0, 1.0], 2 of KFold 2\n",
            "DecisionTreeClassifier Precission: [1.0, 1.0], 2 of KFold 2\n",
            "DecisionTreeClassifier AUC: [1.0, 1.0], 2 of KFold 2\n",
            "---------------------------\n",
            "----------FINAL------------\n",
            "DecisionTreeClassifier Acc Train: 1.0\n",
            "DecisionTreeClassifier Acc Test: 1.0\n",
            "DecisionTreeClassifier Recall: 1.0\n",
            "DecisionTreeClassifier Precission: 1.0\n",
            "DecisionTreeClassifier AUC: 1.0\n",
            "---------------------------\n",
            "----------BEFORE------------\n",
            "GaussianNB Acc Train: [], 1 of KFold 2\n",
            "GaussianNB Acc Test: [], 1 of KFold 2\n",
            "GaussianNB Recall: [], 1 of KFold 2\n",
            "GaussianNB Precission: [], 1 of KFold 2\n",
            "GaussianNB AUC: [], 1 of KFold 2\n",
            "---------------------------\n",
            "----------AFTER------------\n",
            "GaussianNB Acc Train: [0.8734], 1 of KFold 2\n",
            "GaussianNB Acc Test: [0.8736], 1 of KFold 2\n",
            "GaussianNB Recall: [0.0], 1 of KFold 2\n",
            "GaussianNB Precission: [0.0], 1 of KFold 2\n",
            "GaussianNB AUC: [0.5], 1 of KFold 2\n",
            "---------------------------\n",
            "----------BEFORE------------\n",
            "GaussianNB Acc Train: [0.8734], 2 of KFold 2\n",
            "GaussianNB Acc Test: [0.8736], 2 of KFold 2\n",
            "GaussianNB Recall: [0.0], 2 of KFold 2\n",
            "GaussianNB Precission: [0.0], 2 of KFold 2\n",
            "GaussianNB AUC: [0.5], 2 of KFold 2\n",
            "---------------------------\n",
            "----------AFTER------------\n",
            "GaussianNB Acc Train: [0.8734, 0.8736], 2 of KFold 2\n",
            "GaussianNB Acc Test: [0.8736, 0.8734], 2 of KFold 2\n",
            "GaussianNB Recall: [0.0, 0.0], 2 of KFold 2\n",
            "GaussianNB Precission: [0.0, 0.0], 2 of KFold 2\n",
            "GaussianNB AUC: [0.5, 0.5], 2 of KFold 2\n",
            "---------------------------\n",
            "----------FINAL------------\n",
            "GaussianNB Acc Train: 0.8734999999999999\n",
            "GaussianNB Acc Test: 0.8734999999999999\n",
            "GaussianNB Recall: 0.0\n",
            "GaussianNB Precission: 0.0\n",
            "GaussianNB AUC: 0.5\n",
            "---------------------------\n",
            "----------BEFORE------------\n",
            "SVC Acc Train: [], 1 of KFold 2\n",
            "SVC Acc Test: [], 1 of KFold 2\n",
            "SVC Recall: [], 1 of KFold 2\n",
            "SVC Precission: [], 1 of KFold 2\n",
            "SVC AUC: [], 1 of KFold 2\n",
            "---------------------------\n"
          ]
        },
        {
          "output_type": "stream",
          "name": "stderr",
          "text": [
            "/usr/local/lib/python3.7/dist-packages/sklearn/metrics/_classification.py:1318: UndefinedMetricWarning: Precision is ill-defined and being set to 0.0 due to no predicted samples. Use `zero_division` parameter to control this behavior.\n",
            "  _warn_prf(average, modifier, msg_start, len(result))\n",
            "/usr/local/lib/python3.7/dist-packages/sklearn/metrics/_classification.py:1318: UndefinedMetricWarning: Precision is ill-defined and being set to 0.0 due to no predicted samples. Use `zero_division` parameter to control this behavior.\n",
            "  _warn_prf(average, modifier, msg_start, len(result))\n",
            "/usr/local/lib/python3.7/dist-packages/sklearn/metrics/_classification.py:1318: UndefinedMetricWarning: Precision is ill-defined and being set to 0.0 due to no predicted samples. Use `zero_division` parameter to control this behavior.\n",
            "  _warn_prf(average, modifier, msg_start, len(result))\n"
          ]
        },
        {
          "output_type": "stream",
          "name": "stdout",
          "text": [
            "----------AFTER------------\n",
            "SVC Acc Train: [0.8734], 1 of KFold 2\n",
            "SVC Acc Test: [0.8736], 1 of KFold 2\n",
            "SVC Recall: [0.0], 1 of KFold 2\n",
            "SVC Precission: [0.0], 1 of KFold 2\n",
            "SVC AUC: [0.5], 1 of KFold 2\n",
            "---------------------------\n",
            "----------BEFORE------------\n",
            "SVC Acc Train: [0.8734], 2 of KFold 2\n",
            "SVC Acc Test: [0.8736], 2 of KFold 2\n",
            "SVC Recall: [0.0], 2 of KFold 2\n",
            "SVC Precission: [0.0], 2 of KFold 2\n",
            "SVC AUC: [0.5], 2 of KFold 2\n",
            "---------------------------\n"
          ]
        },
        {
          "output_type": "stream",
          "name": "stderr",
          "text": [
            "/usr/local/lib/python3.7/dist-packages/sklearn/metrics/_classification.py:1318: UndefinedMetricWarning: Precision is ill-defined and being set to 0.0 due to no predicted samples. Use `zero_division` parameter to control this behavior.\n",
            "  _warn_prf(average, modifier, msg_start, len(result))\n"
          ]
        },
        {
          "output_type": "stream",
          "name": "stdout",
          "text": [
            "----------AFTER------------\n",
            "SVC Acc Train: [0.8734, 0.8736], 2 of KFold 2\n",
            "SVC Acc Test: [0.8736, 0.8734], 2 of KFold 2\n",
            "SVC Recall: [0.0, 0.0], 2 of KFold 2\n",
            "SVC Precission: [0.0, 0.0], 2 of KFold 2\n",
            "SVC AUC: [0.5, 0.5], 2 of KFold 2\n",
            "---------------------------\n",
            "----------FINAL------------\n",
            "SVC Acc Train: 0.8734999999999999\n",
            "SVC Acc Test: 0.8734999999999999\n",
            "SVC Recall: 0.0\n",
            "SVC Precission: 0.0\n",
            "SVC AUC: 0.5\n",
            "---------------------------\n",
            "----------BEFORE------------\n",
            "RandomForestClassifier Acc Train: [], 1 of KFold 2\n",
            "RandomForestClassifier Acc Test: [], 1 of KFold 2\n",
            "RandomForestClassifier Recall: [], 1 of KFold 2\n",
            "RandomForestClassifier Precission: [], 1 of KFold 2\n",
            "RandomForestClassifier AUC: [], 1 of KFold 2\n",
            "---------------------------\n",
            "----------AFTER------------\n",
            "RandomForestClassifier Acc Train: [1.0], 1 of KFold 2\n",
            "RandomForestClassifier Acc Test: [1.0], 1 of KFold 2\n",
            "RandomForestClassifier Recall: [1.0], 1 of KFold 2\n",
            "RandomForestClassifier Precission: [1.0], 1 of KFold 2\n",
            "RandomForestClassifier AUC: [1.0], 1 of KFold 2\n",
            "---------------------------\n",
            "----------BEFORE------------\n",
            "RandomForestClassifier Acc Train: [1.0], 2 of KFold 2\n",
            "RandomForestClassifier Acc Test: [1.0], 2 of KFold 2\n",
            "RandomForestClassifier Recall: [1.0], 2 of KFold 2\n",
            "RandomForestClassifier Precission: [1.0], 2 of KFold 2\n",
            "RandomForestClassifier AUC: [1.0], 2 of KFold 2\n",
            "---------------------------\n",
            "----------AFTER------------\n",
            "RandomForestClassifier Acc Train: [1.0, 1.0], 2 of KFold 2\n",
            "RandomForestClassifier Acc Test: [1.0, 1.0], 2 of KFold 2\n",
            "RandomForestClassifier Recall: [1.0, 1.0], 2 of KFold 2\n",
            "RandomForestClassifier Precission: [1.0, 1.0], 2 of KFold 2\n",
            "RandomForestClassifier AUC: [1.0, 1.0], 2 of KFold 2\n",
            "---------------------------\n",
            "----------FINAL------------\n",
            "RandomForestClassifier Acc Train: 1.0\n",
            "RandomForestClassifier Acc Test: 1.0\n",
            "RandomForestClassifier Recall: 1.0\n",
            "RandomForestClassifier Precission: 1.0\n",
            "RandomForestClassifier AUC: 1.0\n",
            "---------------------------\n"
          ]
        }
      ],
      "source": [
        "# Modelling Algorithms\n",
        "# StratifiedKFold adalah Cross Validation (CV)\n",
        "\n",
        "kf = StratifiedKFold(n_splits=2,shuffle=True,random_state=42)\n",
        "\n",
        "## Collect all model in one list\n",
        "all_model = [DecisionTreeClassifier,\n",
        "             GaussianNB,\n",
        "             SVC,\n",
        "             RandomForestClassifier]\n",
        "\n",
        "model_name = ['DecisionTreeClassifier',\n",
        "              'GaussianNB',\n",
        "              'SVC',\n",
        "              'RandomForestClassifier']\n",
        "## loop for all model\n",
        "\n",
        "datatr = []\n",
        "datasc = []\n",
        "Recall =[]\n",
        "Precision =[]\n",
        "auc =[]\n",
        "\n",
        "for idx, model_type in enumerate(all_model):\n",
        "    num = 1\n",
        "    AccTrain = []\n",
        "    AccTest = []\n",
        "    RecallTemp = []\n",
        "    PrecisionTemp = []\n",
        "    AucTemp = []\n",
        "    nfold = 1\n",
        "    for train_index,test_index in kf.split(X,y): \n",
        "\n",
        "        print(\"----------BEFORE------------\")\n",
        "        print(\"{} Acc Train: {}, {} of KFold {}\".format(model_name[idx], AccTrain, nfold, kf.n_splits))\n",
        "        print(\"{} Acc Test: {}, {} of KFold {}\".format(model_name[idx], AccTest, nfold, kf.n_splits))\n",
        "        print(\"{} Recall: {}, {} of KFold {}\".format(model_name[idx], RecallTemp, nfold, kf.n_splits))\n",
        "        print(\"{} Precission: {}, {} of KFold {}\".format(model_name[idx], PrecisionTemp, nfold, kf.n_splits))\n",
        "        print(\"{} AUC: {}, {} of KFold {}\".format(model_name[idx], AucTemp, nfold, kf.n_splits))\n",
        "        print(\"---------------------------\")\n",
        "        \n",
        "        X_train, X_test = X.loc[train_index], X.loc[test_index]\n",
        "        y_train, y_test = y.loc[train_index], y.loc[test_index]\n",
        "        \n",
        "        model = model_type()\n",
        "        model.fit(X_train,y_train)\n",
        "        y_pred=model.predict(X_test)\n",
        "        \n",
        "        AccTrain.append(model.score(X_train , y_train))\n",
        "        AccTest.append(model.score(X_test , y_test))\n",
        "        RecallTemp.append(recall_score(y_test,y_pred))\n",
        "        PrecisionTemp.append(precision_score(y_test,y_pred))\n",
        "        AucTemp.append(roc_auc_score(y_test, y_pred))\n",
        "        \n",
        "        print(\"----------AFTER------------\")\n",
        "        print(\"{} Acc Train: {}, {} of KFold {}\".format(model_name[idx], AccTrain, nfold, kf.n_splits))\n",
        "        print(\"{} Acc Test: {}, {} of KFold {}\".format(model_name[idx], AccTest, nfold, kf.n_splits))\n",
        "        print(\"{} Recall: {}, {} of KFold {}\".format(model_name[idx], RecallTemp, nfold, kf.n_splits))\n",
        "        print(\"{} Precission: {}, {} of KFold {}\".format(model_name[idx], PrecisionTemp, nfold, kf.n_splits))\n",
        "        print(\"{} AUC: {}, {} of KFold {}\".format(model_name[idx], AucTemp, nfold, kf.n_splits))\n",
        "        print(\"---------------------------\")\n",
        "        \n",
        "        nfold += 1\n",
        "    \n",
        "    print(\"----------FINAL------------\")\n",
        "    print(\"{} Acc Train: {}\".format(model_name[idx], np.mean(AccTrain)))\n",
        "    print(\"{} Acc Test: {}\".format(model_name[idx], np.mean(AccTest)))\n",
        "    print(\"{} Recall: {}\".format(model_name[idx], np.mean(RecallTemp)))\n",
        "    print(\"{} Precission: {}\".format(model_name[idx], np.mean(PrecisionTemp)))\n",
        "    print(\"{} AUC: {}\".format(model_name[idx], np.mean(AucTemp)))\n",
        "    print(\"---------------------------\")\n",
        "    datatr.append(np.mean(AccTrain))\n",
        "    datasc.append(np.mean(AccTest))\n",
        "    Recall.append(np.mean(RecallTemp))\n",
        "    Precision.append(np.mean(PrecisionTemp))\n",
        "    auc.append(np.mean(AucTemp))"
      ]
    },
    {
      "cell_type": "code",
      "execution_count": null,
      "metadata": {
        "colab": {
          "base_uri": "https://localhost:8080/",
          "height": 175
        },
        "id": "d0QO9Eg6AkJz",
        "outputId": "ff1f4160-6b82-4170-b9ca-a38062b9e142"
      },
      "outputs": [
        {
          "output_type": "execute_result",
          "data": {
            "text/plain": [
              "                    model  Accuracy training  Accuracy test  Precision  \\\n",
              "0  DecisionTreeClassifier             1.0000         1.0000        1.0   \n",
              "3  RandomForestClassifier             1.0000         1.0000        1.0   \n",
              "1              GaussianNB             0.8735         0.8735        0.0   \n",
              "2                     SVC             0.8735         0.8735        0.0   \n",
              "\n",
              "   Recall  AUC  gap  \n",
              "0     1.0  1.0  0.0  \n",
              "3     1.0  1.0  0.0  \n",
              "1     0.0  0.5  0.0  \n",
              "2     0.0  0.5  0.0  "
            ],
            "text/html": [
              "\n",
              "  <div id=\"df-7972ec67-a9b9-4cf5-b1f5-d90092e0b477\">\n",
              "    <div class=\"colab-df-container\">\n",
              "      <div>\n",
              "<style scoped>\n",
              "    .dataframe tbody tr th:only-of-type {\n",
              "        vertical-align: middle;\n",
              "    }\n",
              "\n",
              "    .dataframe tbody tr th {\n",
              "        vertical-align: top;\n",
              "    }\n",
              "\n",
              "    .dataframe thead th {\n",
              "        text-align: right;\n",
              "    }\n",
              "</style>\n",
              "<table border=\"1\" class=\"dataframe\">\n",
              "  <thead>\n",
              "    <tr style=\"text-align: right;\">\n",
              "      <th></th>\n",
              "      <th>model</th>\n",
              "      <th>Accuracy training</th>\n",
              "      <th>Accuracy test</th>\n",
              "      <th>Precision</th>\n",
              "      <th>Recall</th>\n",
              "      <th>AUC</th>\n",
              "      <th>gap</th>\n",
              "    </tr>\n",
              "  </thead>\n",
              "  <tbody>\n",
              "    <tr>\n",
              "      <th>0</th>\n",
              "      <td>DecisionTreeClassifier</td>\n",
              "      <td>1.0000</td>\n",
              "      <td>1.0000</td>\n",
              "      <td>1.0</td>\n",
              "      <td>1.0</td>\n",
              "      <td>1.0</td>\n",
              "      <td>0.0</td>\n",
              "    </tr>\n",
              "    <tr>\n",
              "      <th>3</th>\n",
              "      <td>RandomForestClassifier</td>\n",
              "      <td>1.0000</td>\n",
              "      <td>1.0000</td>\n",
              "      <td>1.0</td>\n",
              "      <td>1.0</td>\n",
              "      <td>1.0</td>\n",
              "      <td>0.0</td>\n",
              "    </tr>\n",
              "    <tr>\n",
              "      <th>1</th>\n",
              "      <td>GaussianNB</td>\n",
              "      <td>0.8735</td>\n",
              "      <td>0.8735</td>\n",
              "      <td>0.0</td>\n",
              "      <td>0.0</td>\n",
              "      <td>0.5</td>\n",
              "      <td>0.0</td>\n",
              "    </tr>\n",
              "    <tr>\n",
              "      <th>2</th>\n",
              "      <td>SVC</td>\n",
              "      <td>0.8735</td>\n",
              "      <td>0.8735</td>\n",
              "      <td>0.0</td>\n",
              "      <td>0.0</td>\n",
              "      <td>0.5</td>\n",
              "      <td>0.0</td>\n",
              "    </tr>\n",
              "  </tbody>\n",
              "</table>\n",
              "</div>\n",
              "      <button class=\"colab-df-convert\" onclick=\"convertToInteractive('df-7972ec67-a9b9-4cf5-b1f5-d90092e0b477')\"\n",
              "              title=\"Convert this dataframe to an interactive table.\"\n",
              "              style=\"display:none;\">\n",
              "        \n",
              "  <svg xmlns=\"http://www.w3.org/2000/svg\" height=\"24px\"viewBox=\"0 0 24 24\"\n",
              "       width=\"24px\">\n",
              "    <path d=\"M0 0h24v24H0V0z\" fill=\"none\"/>\n",
              "    <path d=\"M18.56 5.44l.94 2.06.94-2.06 2.06-.94-2.06-.94-.94-2.06-.94 2.06-2.06.94zm-11 1L8.5 8.5l.94-2.06 2.06-.94-2.06-.94L8.5 2.5l-.94 2.06-2.06.94zm10 10l.94 2.06.94-2.06 2.06-.94-2.06-.94-.94-2.06-.94 2.06-2.06.94z\"/><path d=\"M17.41 7.96l-1.37-1.37c-.4-.4-.92-.59-1.43-.59-.52 0-1.04.2-1.43.59L10.3 9.45l-7.72 7.72c-.78.78-.78 2.05 0 2.83L4 21.41c.39.39.9.59 1.41.59.51 0 1.02-.2 1.41-.59l7.78-7.78 2.81-2.81c.8-.78.8-2.07 0-2.86zM5.41 20L4 18.59l7.72-7.72 1.47 1.35L5.41 20z\"/>\n",
              "  </svg>\n",
              "      </button>\n",
              "      \n",
              "  <style>\n",
              "    .colab-df-container {\n",
              "      display:flex;\n",
              "      flex-wrap:wrap;\n",
              "      gap: 12px;\n",
              "    }\n",
              "\n",
              "    .colab-df-convert {\n",
              "      background-color: #E8F0FE;\n",
              "      border: none;\n",
              "      border-radius: 50%;\n",
              "      cursor: pointer;\n",
              "      display: none;\n",
              "      fill: #1967D2;\n",
              "      height: 32px;\n",
              "      padding: 0 0 0 0;\n",
              "      width: 32px;\n",
              "    }\n",
              "\n",
              "    .colab-df-convert:hover {\n",
              "      background-color: #E2EBFA;\n",
              "      box-shadow: 0px 1px 2px rgba(60, 64, 67, 0.3), 0px 1px 3px 1px rgba(60, 64, 67, 0.15);\n",
              "      fill: #174EA6;\n",
              "    }\n",
              "\n",
              "    [theme=dark] .colab-df-convert {\n",
              "      background-color: #3B4455;\n",
              "      fill: #D2E3FC;\n",
              "    }\n",
              "\n",
              "    [theme=dark] .colab-df-convert:hover {\n",
              "      background-color: #434B5C;\n",
              "      box-shadow: 0px 1px 3px 1px rgba(0, 0, 0, 0.15);\n",
              "      filter: drop-shadow(0px 1px 2px rgba(0, 0, 0, 0.3));\n",
              "      fill: #FFFFFF;\n",
              "    }\n",
              "  </style>\n",
              "\n",
              "      <script>\n",
              "        const buttonEl =\n",
              "          document.querySelector('#df-7972ec67-a9b9-4cf5-b1f5-d90092e0b477 button.colab-df-convert');\n",
              "        buttonEl.style.display =\n",
              "          google.colab.kernel.accessAllowed ? 'block' : 'none';\n",
              "\n",
              "        async function convertToInteractive(key) {\n",
              "          const element = document.querySelector('#df-7972ec67-a9b9-4cf5-b1f5-d90092e0b477');\n",
              "          const dataTable =\n",
              "            await google.colab.kernel.invokeFunction('convertToInteractive',\n",
              "                                                     [key], {});\n",
              "          if (!dataTable) return;\n",
              "\n",
              "          const docLinkHtml = 'Like what you see? Visit the ' +\n",
              "            '<a target=\"_blank\" href=https://colab.research.google.com/notebooks/data_table.ipynb>data table notebook</a>'\n",
              "            + ' to learn more about interactive tables.';\n",
              "          element.innerHTML = '';\n",
              "          dataTable['output_type'] = 'display_data';\n",
              "          await google.colab.output.renderOutput(dataTable, element);\n",
              "          const docLink = document.createElement('div');\n",
              "          docLink.innerHTML = docLinkHtml;\n",
              "          element.appendChild(docLink);\n",
              "        }\n",
              "      </script>\n",
              "    </div>\n",
              "  </div>\n",
              "  "
            ]
          },
          "metadata": {},
          "execution_count": 50
        }
      ],
      "source": [
        "## compare model each other\n",
        "data_hasil = pd.DataFrame()\n",
        "data_hasil['model'] = model_name\n",
        "data_hasil['Accuracy training'] = datatr\n",
        "data_hasil['Accuracy test'] = datasc\n",
        "data_hasil['Precision'] = Precision\n",
        "data_hasil['Recall']= Recall\n",
        "data_hasil['AUC'] = auc\n",
        "data_hasil['gap'] = abs(data_hasil['Accuracy training'] - data_hasil['Accuracy test'])\n",
        "data_hasil.sort_values(by='Accuracy test',ascending=False)"
      ]
    },
    {
      "cell_type": "markdown",
      "metadata": {
        "id": "wPtldgmJA7ZY"
      },
      "source": [
        "### DecisionTreeClassifier "
      ]
    },
    {
      "cell_type": "code",
      "execution_count": null,
      "metadata": {
        "id": "rok_4-Rk4eZi"
      },
      "outputs": [],
      "source": [
        "model = DecisionTreeClassifier()\n",
        "model.fit(X_train,y_train)\n",
        "y_pred=model.predict(X_test)"
      ]
    },
    {
      "cell_type": "code",
      "execution_count": null,
      "metadata": {
        "colab": {
          "base_uri": "https://localhost:8080/"
        },
        "id": "wkiK4XtY4g8D",
        "outputId": "fce1de29-69cc-49cb-bdaa-e23cd3c4633c"
      },
      "outputs": [
        {
          "output_type": "stream",
          "name": "stdout",
          "text": [
            "              precision    recall  f1-score   support\n",
            "\n",
            "           0       1.00      1.00      1.00      4367\n",
            "           1       1.00      1.00      1.00       633\n",
            "\n",
            "    accuracy                           1.00      5000\n",
            "   macro avg       1.00      1.00      1.00      5000\n",
            "weighted avg       1.00      1.00      1.00      5000\n",
            "\n"
          ]
        }
      ],
      "source": [
        "report = classification_report(y_true=y_test, y_pred=model.predict(X_test))\n",
        "print(report)"
      ]
    },
    {
      "cell_type": "code",
      "execution_count": null,
      "metadata": {
        "colab": {
          "base_uri": "https://localhost:8080/",
          "height": 483
        },
        "id": "uec71hIm4jJ3",
        "outputId": "281f5584-f5c7-48ca-b5da-e4630d5c0dad"
      },
      "outputs": [
        {
          "output_type": "display_data",
          "data": {
            "text/plain": [
              "<Figure size 576x576 with 2 Axes>"
            ],
            "image/png": "[encoded data removed]"
          },
          "metadata": {
            "needs_background": "light"
          }
        }
      ],
      "source": [
        "confusion = confusion_matrix(y_true=y_test, y_pred=model.predict(X_test))\n",
        "plt.figure(figsize=(8, 8))\n",
        "sns.heatmap(confusion,\n",
        "            xticklabels=[\"Positive\", \"Negative\"],\n",
        "            yticklabels=[\"Positive\", \"Negative\"],\n",
        "            annot=True, \n",
        "            annot_kws={\"fontsize\": \"xx-large\"},\n",
        "            cmap='winter')\n",
        "\n",
        "plt.show()"
      ]
    },
    {
      "cell_type": "markdown",
      "metadata": {
        "id": "OmNsE57fGZMK"
      },
      "source": [
        "#### Feature Importance"
      ]
    },
    {
      "cell_type": "code",
      "execution_count": null,
      "metadata": {
        "colab": {
          "base_uri": "https://localhost:8080/",
          "height": 542
        },
        "id": "-RXXGJTyGbL2",
        "outputId": "0408c1dd-f92c-4a7b-ed6f-d3f68b9c20af"
      },
      "outputs": [
        {
          "output_type": "display_data",
          "data": {
            "text/html": [
              "<html>\n",
              "<head><meta charset=\"utf-8\" /></head>\n",
              "<body>\n",
              "    <div>            <script src=\"https://cdnjs.cloudflare.com/ajax/libs/mathjax/2.7.5/MathJax.js?config=TeX-AMS-MML_SVG\"></script><script type=\"text/javascript\">if (window.MathJax) {MathJax.Hub.Config({SVG: {font: \"STIX-Web\"}});}</script>                <script type=\"text/javascript\">window.PlotlyConfig = {MathJaxConfig: 'local'};</script>\n",
              "        <script src=\"https://cdn.plot.ly/plotly-2.8.3.min.js\"></script>                <div id=\"78635fb7-aa8f-4820-83c7-783a3454e70a\" class=\"plotly-graph-div\" style=\"height:525px; width:100%;\"></div>            <script type=\"text/javascript\">                                    window.PLOTLYENV=window.PLOTLYENV || {};                                    if (document.getElementById(\"78635fb7-aa8f-4820-83c7-783a3454e70a\")) {                    Plotly.newPlot(                        \"78635fb7-aa8f-4820-83c7-783a3454e70a\",                        [{\"marker\":{\"color\":\"steelblue\"},\"orientation\":\"h\",\"x\":[0.0,0.0,0.0,0.0,0.0,0.0,0.0,0.0,0.0,0.0,0.580820193057138,0.0,0.0,0.0,0.0,0.0,0.41917980694286205,0.0,0.0,0.0],\"y\":[\"squareMeters\",\"numberOfRooms\",\"floors\",\"cityPartRange\",\"numPrevOwners\",\"basement\",\"attic\",\"garage\",\"hasGuestRoom\",\"price\",\"isNewBuilt_False\",\"isNewBuilt_True\",\"hasStormProtector_False\",\"hasStormProtector_True\",\"hasStorageRoom_False\",\"hasStorageRoom_True\",\"PoolAndYard_has pool and has yard\",\"PoolAndYard_has pool and no yard\",\"PoolAndYard_no pool and has yard\",\"PoolAndYard_no pool and no yard\"],\"type\":\"bar\"}],                        {\"template\":{\"data\":{\"bar\":[{\"error_x\":{\"color\":\"#2a3f5f\"},\"error_y\":{\"color\":\"#2a3f5f\"},\"marker\":{\"line\":{\"color\":\"#E5ECF6\",\"width\":0.5},\"pattern\":{\"fillmode\":\"overlay\",\"size\":10,\"solidity\":0.2}},\"type\":\"bar\"}],\"barpolar\":[{\"marker\":{\"line\":{\"color\":\"#E5ECF6\",\"width\":0.5},\"pattern\":{\"fillmode\":\"overlay\",\"size\":10,\"solidity\":0.2}},\"type\":\"barpolar\"}],\"carpet\":[{\"aaxis\":{\"endlinecolor\":\"#2a3f5f\",\"gridcolor\":\"white\",\"linecolor\":\"white\",\"minorgridcolor\":\"white\",\"startlinecolor\":\"#2a3f5f\"},\"baxis\":{\"endlinecolor\":\"#2a3f5f\",\"gridcolor\":\"white\",\"linecolor\":\"white\",\"minorgridcolor\":\"white\",\"startlinecolor\":\"#2a3f5f\"},\"type\":\"carpet\"}],\"choropleth\":[{\"colorbar\":{\"outlinewidth\":0,\"ticks\":\"\"},\"type\":\"choropleth\"}],\"contour\":[{\"colorbar\":{\"outlinewidth\":0,\"ticks\":\"\"},\"colorscale\":[[0.0,\"#0d0887\"],[0.1111111111111111,\"#46039f\"],[0.2222222222222222,\"#7201a8\"],[0.3333333333333333,\"#9c179e\"],[0.4444444444444444,\"#bd3786\"],[0.5555555555555556,\"#d8576b\"],[0.6666666666666666,\"#ed7953\"],[0.7777777777777778,\"#fb9f3a\"],[0.8888888888888888,\"#fdca26\"],[1.0,\"#f0f921\"]],\"type\":\"contour\"}],\"contourcarpet\":[{\"colorbar\":{\"outlinewidth\":0,\"ticks\":\"\"},\"type\":\"contourcarpet\"}],\"heatmap\":[{\"colorbar\":{\"outlinewidth\":0,\"ticks\":\"\"},\"colorscale\":[[0.0,\"#0d0887\"],[0.1111111111111111,\"#46039f\"],[0.2222222222222222,\"#7201a8\"],[0.3333333333333333,\"#9c179e\"],[0.4444444444444444,\"#bd3786\"],[0.5555555555555556,\"#d8576b\"],[0.6666666666666666,\"#ed7953\"],[0.7777777777777778,\"#fb9f3a\"],[0.8888888888888888,\"#fdca26\"],[1.0,\"#f0f921\"]],\"type\":\"heatmap\"}],\"heatmapgl\":[{\"colorbar\":{\"outlinewidth\":0,\"ticks\":\"\"},\"colorscale\":[[0.0,\"#0d0887\"],[0.1111111111111111,\"#46039f\"],[0.2222222222222222,\"#7201a8\"],[0.3333333333333333,\"#9c179e\"],[0.4444444444444444,\"#bd3786\"],[0.5555555555555556,\"#d8576b\"],[0.6666666666666666,\"#ed7953\"],[0.7777777777777778,\"#fb9f3a\"],[0.8888888888888888,\"#fdca26\"],[1.0,\"#f0f921\"]],\"type\":\"heatmapgl\"}],\"histogram\":[{\"marker\":{\"pattern\":{\"fillmode\":\"overlay\",\"size\":10,\"solidity\":0.2}},\"type\":\"histogram\"}],\"histogram2d\":[{\"colorbar\":{\"outlinewidth\":0,\"ticks\":\"\"},\"colorscale\":[[0.0,\"#0d0887\"],[0.1111111111111111,\"#46039f\"],[0.2222222222222222,\"#7201a8\"],[0.3333333333333333,\"#9c179e\"],[0.4444444444444444,\"#bd3786\"],[0.5555555555555556,\"#d8576b\"],[0.6666666666666666,\"#ed7953\"],[0.7777777777777778,\"#fb9f3a\"],[0.8888888888888888,\"#fdca26\"],[1.0,\"#f0f921\"]],\"type\":\"histogram2d\"}],\"histogram2dcontour\":[{\"colorbar\":{\"outlinewidth\":0,\"ticks\":\"\"},\"colorscale\":[[0.0,\"#0d0887\"],[0.1111111111111111,\"#46039f\"],[0.2222222222222222,\"#7201a8\"],[0.3333333333333333,\"#9c179e\"],[0.4444444444444444,\"#bd3786\"],[0.5555555555555556,\"#d8576b\"],[0.6666666666666666,\"#ed7953\"],[0.7777777777777778,\"#fb9f3a\"],[0.8888888888888888,\"#fdca26\"],[1.0,\"#f0f921\"]],\"type\":\"histogram2dcontour\"}],\"mesh3d\":[{\"colorbar\":{\"outlinewidth\":0,\"ticks\":\"\"},\"type\":\"mesh3d\"}],\"parcoords\":[{\"line\":{\"colorbar\":{\"outlinewidth\":0,\"ticks\":\"\"}},\"type\":\"parcoords\"}],\"pie\":[{\"automargin\":true,\"type\":\"pie\"}],\"scatter\":[{\"marker\":{\"colorbar\":{\"outlinewidth\":0,\"ticks\":\"\"}},\"type\":\"scatter\"}],\"scatter3d\":[{\"line\":{\"colorbar\":{\"outlinewidth\":0,\"ticks\":\"\"}},\"marker\":{\"colorbar\":{\"outlinewidth\":0,\"ticks\":\"\"}},\"type\":\"scatter3d\"}],\"scattercarpet\":[{\"marker\":{\"colorbar\":{\"outlinewidth\":0,\"ticks\":\"\"}},\"type\":\"scattercarpet\"}],\"scattergeo\":[{\"marker\":{\"colorbar\":{\"outlinewidth\":0,\"ticks\":\"\"}},\"type\":\"scattergeo\"}],\"scattergl\":[{\"marker\":{\"colorbar\":{\"outlinewidth\":0,\"ticks\":\"\"}},\"type\":\"scattergl\"}],\"scattermapbox\":[{\"marker\":{\"colorbar\":{\"outlinewidth\":0,\"ticks\":\"\"}},\"type\":\"scattermapbox\"}],\"scatterpolar\":[{\"marker\":{\"colorbar\":{\"outlinewidth\":0,\"ticks\":\"\"}},\"type\":\"scatterpolar\"}],\"scatterpolargl\":[{\"marker\":{\"colorbar\":{\"outlinewidth\":0,\"ticks\":\"\"}},\"type\":\"scatterpolargl\"}],\"scatterternary\":[{\"marker\":{\"colorbar\":{\"outlinewidth\":0,\"ticks\":\"\"}},\"type\":\"scatterternary\"}],\"surface\":[{\"colorbar\":{\"outlinewidth\":0,\"ticks\":\"\"},\"colorscale\":[[0.0,\"#0d0887\"],[0.1111111111111111,\"#46039f\"],[0.2222222222222222,\"#7201a8\"],[0.3333333333333333,\"#9c179e\"],[0.4444444444444444,\"#bd3786\"],[0.5555555555555556,\"#d8576b\"],[0.6666666666666666,\"#ed7953\"],[0.7777777777777778,\"#fb9f3a\"],[0.8888888888888888,\"#fdca26\"],[1.0,\"#f0f921\"]],\"type\":\"surface\"}],\"table\":[{\"cells\":{\"fill\":{\"color\":\"#EBF0F8\"},\"line\":{\"color\":\"white\"}},\"header\":{\"fill\":{\"color\":\"#C8D4E3\"},\"line\":{\"color\":\"white\"}},\"type\":\"table\"}]},\"layout\":{\"annotationdefaults\":{\"arrowcolor\":\"#2a3f5f\",\"arrowhead\":0,\"arrowwidth\":1},\"autotypenumbers\":\"strict\",\"coloraxis\":{\"colorbar\":{\"outlinewidth\":0,\"ticks\":\"\"}},\"colorscale\":{\"diverging\":[[0,\"#8e0152\"],[0.1,\"#c51b7d\"],[0.2,\"#de77ae\"],[0.3,\"#f1b6da\"],[0.4,\"#fde0ef\"],[0.5,\"#f7f7f7\"],[0.6,\"#e6f5d0\"],[0.7,\"#b8e186\"],[0.8,\"#7fbc41\"],[0.9,\"#4d9221\"],[1,\"#276419\"]],\"sequential\":[[0.0,\"#0d0887\"],[0.1111111111111111,\"#46039f\"],[0.2222222222222222,\"#7201a8\"],[0.3333333333333333,\"#9c179e\"],[0.4444444444444444,\"#bd3786\"],[0.5555555555555556,\"#d8576b\"],[0.6666666666666666,\"#ed7953\"],[0.7777777777777778,\"#fb9f3a\"],[0.8888888888888888,\"#fdca26\"],[1.0,\"#f0f921\"]],\"sequentialminus\":[[0.0,\"#0d0887\"],[0.1111111111111111,\"#46039f\"],[0.2222222222222222,\"#7201a8\"],[0.3333333333333333,\"#9c179e\"],[0.4444444444444444,\"#bd3786\"],[0.5555555555555556,\"#d8576b\"],[0.6666666666666666,\"#ed7953\"],[0.7777777777777778,\"#fb9f3a\"],[0.8888888888888888,\"#fdca26\"],[1.0,\"#f0f921\"]]},\"colorway\":[\"#636efa\",\"#EF553B\",\"#00cc96\",\"#ab63fa\",\"#FFA15A\",\"#19d3f3\",\"#FF6692\",\"#B6E880\",\"#FF97FF\",\"#FECB52\"],\"font\":{\"color\":\"#2a3f5f\"},\"geo\":{\"bgcolor\":\"white\",\"lakecolor\":\"white\",\"landcolor\":\"#E5ECF6\",\"showlakes\":true,\"showland\":true,\"subunitcolor\":\"white\"},\"hoverlabel\":{\"align\":\"left\"},\"hovermode\":\"closest\",\"mapbox\":{\"style\":\"light\"},\"paper_bgcolor\":\"white\",\"plot_bgcolor\":\"#E5ECF6\",\"polar\":{\"angularaxis\":{\"gridcolor\":\"white\",\"linecolor\":\"white\",\"ticks\":\"\"},\"bgcolor\":\"#E5ECF6\",\"radialaxis\":{\"gridcolor\":\"white\",\"linecolor\":\"white\",\"ticks\":\"\"}},\"scene\":{\"xaxis\":{\"backgroundcolor\":\"#E5ECF6\",\"gridcolor\":\"white\",\"gridwidth\":2,\"linecolor\":\"white\",\"showbackground\":true,\"ticks\":\"\",\"zerolinecolor\":\"white\"},\"yaxis\":{\"backgroundcolor\":\"#E5ECF6\",\"gridcolor\":\"white\",\"gridwidth\":2,\"linecolor\":\"white\",\"showbackground\":true,\"ticks\":\"\",\"zerolinecolor\":\"white\"},\"zaxis\":{\"backgroundcolor\":\"#E5ECF6\",\"gridcolor\":\"white\",\"gridwidth\":2,\"linecolor\":\"white\",\"showbackground\":true,\"ticks\":\"\",\"zerolinecolor\":\"white\"}},\"shapedefaults\":{\"line\":{\"color\":\"#2a3f5f\"}},\"ternary\":{\"aaxis\":{\"gridcolor\":\"white\",\"linecolor\":\"white\",\"ticks\":\"\"},\"baxis\":{\"gridcolor\":\"white\",\"linecolor\":\"white\",\"ticks\":\"\"},\"bgcolor\":\"#E5ECF6\",\"caxis\":{\"gridcolor\":\"white\",\"linecolor\":\"white\",\"ticks\":\"\"}},\"title\":{\"x\":0.05},\"xaxis\":{\"automargin\":true,\"gridcolor\":\"white\",\"linecolor\":\"white\",\"ticks\":\"\",\"title\":{\"standoff\":15},\"zerolinecolor\":\"white\",\"zerolinewidth\":2},\"yaxis\":{\"automargin\":true,\"gridcolor\":\"white\",\"linecolor\":\"white\",\"ticks\":\"\",\"title\":{\"standoff\":15},\"zerolinecolor\":\"white\",\"zerolinewidth\":2}}},\"title\":{\"text\":\"<b>Estimating feature importance through the DecisionTreeClassifier model\",\"x\":0.5},\"yaxis\":{\"title\":{\"text\":\"Feature\"},\"categoryorder\":\"total ascending\"},\"xaxis\":{\"title\":{\"text\":\"Feature importance\"}},\"barmode\":\"stack\"},                        {\"responsive\": true}                    ).then(function(){\n",
              "                            \n",
              "var gd = document.getElementById('78635fb7-aa8f-4820-83c7-783a3454e70a');\n",
              "var x = new MutationObserver(function (mutations, observer) {{\n",
              "        var display = window.getComputedStyle(gd).display;\n",
              "        if (!display || display === 'none') {{\n",
              "            console.log([gd, 'removed!']);\n",
              "            Plotly.purge(gd);\n",
              "            observer.disconnect();\n",
              "        }}\n",
              "}});\n",
              "\n",
              "// Listen for the removal of the full notebook cells\n",
              "var notebookContainer = gd.closest('#notebook-container');\n",
              "if (notebookContainer) {{\n",
              "    x.observe(notebookContainer, {childList: true});\n",
              "}}\n",
              "\n",
              "// Listen for the clearing of the current output cell\n",
              "var outputEl = gd.closest('.output');\n",
              "if (outputEl) {{\n",
              "    x.observe(outputEl, {childList: true});\n",
              "}}\n",
              "\n",
              "                        })                };                            </script>        </div>\n",
              "</body>\n",
              "</html>"
            ]
          },
          "metadata": {}
        }
      ],
      "source": [
        "import plotly.graph_objects as go\n",
        "\n",
        "model.fit(X_train, y_train)\n",
        "fig = go.Figure(go.Bar(\n",
        "            x=model.feature_importances_,\n",
        "            y=X_train.columns,\n",
        "            orientation='h', marker_color='steelblue'))\n",
        "fig.update_layout(title='<b>Estimating feature importance through the DecisionTreeClassifier model', title_x=0.5, \n",
        "                 xaxis_title=\"Feature importance\", yaxis_title='Feature', barmode='stack', yaxis={'categoryorder':'total ascending'})\n",
        "\n",
        "fig.show()"
      ]
    },
    {
      "cell_type": "markdown",
      "metadata": {
        "id": "t0J2ie0p468q"
      },
      "source": [
        "### RandomForestClassifier"
      ]
    },
    {
      "cell_type": "code",
      "execution_count": null,
      "metadata": {
        "id": "tMeOo_z85AdT"
      },
      "outputs": [],
      "source": [
        "random_forest = RandomForestClassifier()\n",
        "random_forest.fit(X_train,y_train)\n",
        "y_pred=random_forest.predict(X_test)"
      ]
    },
    {
      "cell_type": "code",
      "execution_count": null,
      "metadata": {
        "colab": {
          "base_uri": "https://localhost:8080/"
        },
        "id": "N8x-WpyV5C0Y",
        "outputId": "e478682a-ab20-40e9-846f-594699c402a1"
      },
      "outputs": [
        {
          "output_type": "stream",
          "name": "stdout",
          "text": [
            "              precision    recall  f1-score   support\n",
            "\n",
            "           0       1.00      1.00      1.00      4367\n",
            "           1       1.00      1.00      1.00       633\n",
            "\n",
            "    accuracy                           1.00      5000\n",
            "   macro avg       1.00      1.00      1.00      5000\n",
            "weighted avg       1.00      1.00      1.00      5000\n",
            "\n"
          ]
        }
      ],
      "source": [
        "report_random_forest = classification_report(y_true=y_test, y_pred=random_forest.predict(X_test))\n",
        "print(report_random_forest)"
      ]
    },
    {
      "cell_type": "code",
      "execution_count": null,
      "metadata": {
        "colab": {
          "base_uri": "https://localhost:8080/",
          "height": 483
        },
        "id": "9bsVgiUS5EuR",
        "outputId": "a84b150b-2283-4fd4-f96e-5d9ea74e4227"
      },
      "outputs": [
        {
          "output_type": "display_data",
          "data": {
            "text/plain": [
              "<Figure size 576x576 with 2 Axes>"
            ],
            "image/png": "[encoded data removed]"
          },
          "metadata": {
            "needs_background": "light"
          }
        }
      ],
      "source": [
        "confusion_random_forest = confusion_matrix(y_true=y_test, y_pred=random_forest.predict(X_test))\n",
        "plt.figure(figsize=(8, 8))\n",
        "sns.heatmap(confusion_random_forest,\n",
        "            xticklabels=[\"Positive\", \"Negative\"],\n",
        "            yticklabels=[\"Positive\", \"Negative\"],\n",
        "            annot=True, \n",
        "            annot_kws={\"fontsize\": \"xx-large\"},\n",
        "            cmap='winter')\n",
        "\n",
        "plt.show()"
      ]
    },
    {
      "cell_type": "markdown",
      "metadata": {
        "id": "FECdxAjBHKw0"
      },
      "source": [
        "#### Feature Importance"
      ]
    },
    {
      "cell_type": "code",
      "execution_count": null,
      "metadata": {
        "colab": {
          "base_uri": "https://localhost:8080/",
          "height": 542
        },
        "id": "tJfjzZnUHM7t",
        "outputId": "e58362e0-dd84-4c6a-bc9d-0235d2966f74"
      },
      "outputs": [
        {
          "output_type": "display_data",
          "data": {
            "text/html": [
              "<html>\n",
              "<head><meta charset=\"utf-8\" /></head>\n",
              "<body>\n",
              "    <div>            <script src=\"https://cdnjs.cloudflare.com/ajax/libs/mathjax/2.7.5/MathJax.js?config=TeX-AMS-MML_SVG\"></script><script type=\"text/javascript\">if (window.MathJax) {MathJax.Hub.Config({SVG: {font: \"STIX-Web\"}});}</script>                <script type=\"text/javascript\">window.PlotlyConfig = {MathJaxConfig: 'local'};</script>\n",
              "        <script src=\"https://cdn.plot.ly/plotly-2.8.3.min.js\"></script>                <div id=\"dd38c48f-d6de-4936-b982-4271ff7c3dd3\" class=\"plotly-graph-div\" style=\"height:525px; width:100%;\"></div>            <script type=\"text/javascript\">                                    window.PLOTLYENV=window.PLOTLYENV || {};                                    if (document.getElementById(\"dd38c48f-d6de-4936-b982-4271ff7c3dd3\")) {                    Plotly.newPlot(                        \"dd38c48f-d6de-4936-b982-4271ff7c3dd3\",                        [{\"marker\":{\"color\":\"steelblue\"},\"orientation\":\"h\",\"x\":[0.003023818104790908,0.0031263585428115714,0.0023267195499784856,0.0014442125335226476,0.0015173614095748194,0.0034153074632448156,0.002662662170080033,0.0030526926714254353,0.0013523633823946297,0.0027822047450916606,0.16811790891846756,0.14127214223708262,0.00029198812464414583,0.0002775059011787018,0.0002143509914559289,0.00022430695327211618,0.47420313275967296,0.07429754347743919,0.06317750111748954,0.05321991894638241],\"y\":[\"squareMeters\",\"numberOfRooms\",\"floors\",\"cityPartRange\",\"numPrevOwners\",\"basement\",\"attic\",\"garage\",\"hasGuestRoom\",\"price\",\"isNewBuilt_False\",\"isNewBuilt_True\",\"hasStormProtector_False\",\"hasStormProtector_True\",\"hasStorageRoom_False\",\"hasStorageRoom_True\",\"PoolAndYard_has pool and has yard\",\"PoolAndYard_has pool and no yard\",\"PoolAndYard_no pool and has yard\",\"PoolAndYard_no pool and no yard\"],\"type\":\"bar\"}],                        {\"template\":{\"data\":{\"bar\":[{\"error_x\":{\"color\":\"#2a3f5f\"},\"error_y\":{\"color\":\"#2a3f5f\"},\"marker\":{\"line\":{\"color\":\"#E5ECF6\",\"width\":0.5},\"pattern\":{\"fillmode\":\"overlay\",\"size\":10,\"solidity\":0.2}},\"type\":\"bar\"}],\"barpolar\":[{\"marker\":{\"line\":{\"color\":\"#E5ECF6\",\"width\":0.5},\"pattern\":{\"fillmode\":\"overlay\",\"size\":10,\"solidity\":0.2}},\"type\":\"barpolar\"}],\"carpet\":[{\"aaxis\":{\"endlinecolor\":\"#2a3f5f\",\"gridcolor\":\"white\",\"linecolor\":\"white\",\"minorgridcolor\":\"white\",\"startlinecolor\":\"#2a3f5f\"},\"baxis\":{\"endlinecolor\":\"#2a3f5f\",\"gridcolor\":\"white\",\"linecolor\":\"white\",\"minorgridcolor\":\"white\",\"startlinecolor\":\"#2a3f5f\"},\"type\":\"carpet\"}],\"choropleth\":[{\"colorbar\":{\"outlinewidth\":0,\"ticks\":\"\"},\"type\":\"choropleth\"}],\"contour\":[{\"colorbar\":{\"outlinewidth\":0,\"ticks\":\"\"},\"colorscale\":[[0.0,\"#0d0887\"],[0.1111111111111111,\"#46039f\"],[0.2222222222222222,\"#7201a8\"],[0.3333333333333333,\"#9c179e\"],[0.4444444444444444,\"#bd3786\"],[0.5555555555555556,\"#d8576b\"],[0.6666666666666666,\"#ed7953\"],[0.7777777777777778,\"#fb9f3a\"],[0.8888888888888888,\"#fdca26\"],[1.0,\"#f0f921\"]],\"type\":\"contour\"}],\"contourcarpet\":[{\"colorbar\":{\"outlinewidth\":0,\"ticks\":\"\"},\"type\":\"contourcarpet\"}],\"heatmap\":[{\"colorbar\":{\"outlinewidth\":0,\"ticks\":\"\"},\"colorscale\":[[0.0,\"#0d0887\"],[0.1111111111111111,\"#46039f\"],[0.2222222222222222,\"#7201a8\"],[0.3333333333333333,\"#9c179e\"],[0.4444444444444444,\"#bd3786\"],[0.5555555555555556,\"#d8576b\"],[0.6666666666666666,\"#ed7953\"],[0.7777777777777778,\"#fb9f3a\"],[0.8888888888888888,\"#fdca26\"],[1.0,\"#f0f921\"]],\"type\":\"heatmap\"}],\"heatmapgl\":[{\"colorbar\":{\"outlinewidth\":0,\"ticks\":\"\"},\"colorscale\":[[0.0,\"#0d0887\"],[0.1111111111111111,\"#46039f\"],[0.2222222222222222,\"#7201a8\"],[0.3333333333333333,\"#9c179e\"],[0.4444444444444444,\"#bd3786\"],[0.5555555555555556,\"#d8576b\"],[0.6666666666666666,\"#ed7953\"],[0.7777777777777778,\"#fb9f3a\"],[0.8888888888888888,\"#fdca26\"],[1.0,\"#f0f921\"]],\"type\":\"heatmapgl\"}],\"histogram\":[{\"marker\":{\"pattern\":{\"fillmode\":\"overlay\",\"size\":10,\"solidity\":0.2}},\"type\":\"histogram\"}],\"histogram2d\":[{\"colorbar\":{\"outlinewidth\":0,\"ticks\":\"\"},\"colorscale\":[[0.0,\"#0d0887\"],[0.1111111111111111,\"#46039f\"],[0.2222222222222222,\"#7201a8\"],[0.3333333333333333,\"#9c179e\"],[0.4444444444444444,\"#bd3786\"],[0.5555555555555556,\"#d8576b\"],[0.6666666666666666,\"#ed7953\"],[0.7777777777777778,\"#fb9f3a\"],[0.8888888888888888,\"#fdca26\"],[1.0,\"#f0f921\"]],\"type\":\"histogram2d\"}],\"histogram2dcontour\":[{\"colorbar\":{\"outlinewidth\":0,\"ticks\":\"\"},\"colorscale\":[[0.0,\"#0d0887\"],[0.1111111111111111,\"#46039f\"],[0.2222222222222222,\"#7201a8\"],[0.3333333333333333,\"#9c179e\"],[0.4444444444444444,\"#bd3786\"],[0.5555555555555556,\"#d8576b\"],[0.6666666666666666,\"#ed7953\"],[0.7777777777777778,\"#fb9f3a\"],[0.8888888888888888,\"#fdca26\"],[1.0,\"#f0f921\"]],\"type\":\"histogram2dcontour\"}],\"mesh3d\":[{\"colorbar\":{\"outlinewidth\":0,\"ticks\":\"\"},\"type\":\"mesh3d\"}],\"parcoords\":[{\"line\":{\"colorbar\":{\"outlinewidth\":0,\"ticks\":\"\"}},\"type\":\"parcoords\"}],\"pie\":[{\"automargin\":true,\"type\":\"pie\"}],\"scatter\":[{\"marker\":{\"colorbar\":{\"outlinewidth\":0,\"ticks\":\"\"}},\"type\":\"scatter\"}],\"scatter3d\":[{\"line\":{\"colorbar\":{\"outlinewidth\":0,\"ticks\":\"\"}},\"marker\":{\"colorbar\":{\"outlinewidth\":0,\"ticks\":\"\"}},\"type\":\"scatter3d\"}],\"scattercarpet\":[{\"marker\":{\"colorbar\":{\"outlinewidth\":0,\"ticks\":\"\"}},\"type\":\"scattercarpet\"}],\"scattergeo\":[{\"marker\":{\"colorbar\":{\"outlinewidth\":0,\"ticks\":\"\"}},\"type\":\"scattergeo\"}],\"scattergl\":[{\"marker\":{\"colorbar\":{\"outlinewidth\":0,\"ticks\":\"\"}},\"type\":\"scattergl\"}],\"scattermapbox\":[{\"marker\":{\"colorbar\":{\"outlinewidth\":0,\"ticks\":\"\"}},\"type\":\"scattermapbox\"}],\"scatterpolar\":[{\"marker\":{\"colorbar\":{\"outlinewidth\":0,\"ticks\":\"\"}},\"type\":\"scatterpolar\"}],\"scatterpolargl\":[{\"marker\":{\"colorbar\":{\"outlinewidth\":0,\"ticks\":\"\"}},\"type\":\"scatterpolargl\"}],\"scatterternary\":[{\"marker\":{\"colorbar\":{\"outlinewidth\":0,\"ticks\":\"\"}},\"type\":\"scatterternary\"}],\"surface\":[{\"colorbar\":{\"outlinewidth\":0,\"ticks\":\"\"},\"colorscale\":[[0.0,\"#0d0887\"],[0.1111111111111111,\"#46039f\"],[0.2222222222222222,\"#7201a8\"],[0.3333333333333333,\"#9c179e\"],[0.4444444444444444,\"#bd3786\"],[0.5555555555555556,\"#d8576b\"],[0.6666666666666666,\"#ed7953\"],[0.7777777777777778,\"#fb9f3a\"],[0.8888888888888888,\"#fdca26\"],[1.0,\"#f0f921\"]],\"type\":\"surface\"}],\"table\":[{\"cells\":{\"fill\":{\"color\":\"#EBF0F8\"},\"line\":{\"color\":\"white\"}},\"header\":{\"fill\":{\"color\":\"#C8D4E3\"},\"line\":{\"color\":\"white\"}},\"type\":\"table\"}]},\"layout\":{\"annotationdefaults\":{\"arrowcolor\":\"#2a3f5f\",\"arrowhead\":0,\"arrowwidth\":1},\"autotypenumbers\":\"strict\",\"coloraxis\":{\"colorbar\":{\"outlinewidth\":0,\"ticks\":\"\"}},\"colorscale\":{\"diverging\":[[0,\"#8e0152\"],[0.1,\"#c51b7d\"],[0.2,\"#de77ae\"],[0.3,\"#f1b6da\"],[0.4,\"#fde0ef\"],[0.5,\"#f7f7f7\"],[0.6,\"#e6f5d0\"],[0.7,\"#b8e186\"],[0.8,\"#7fbc41\"],[0.9,\"#4d9221\"],[1,\"#276419\"]],\"sequential\":[[0.0,\"#0d0887\"],[0.1111111111111111,\"#46039f\"],[0.2222222222222222,\"#7201a8\"],[0.3333333333333333,\"#9c179e\"],[0.4444444444444444,\"#bd3786\"],[0.5555555555555556,\"#d8576b\"],[0.6666666666666666,\"#ed7953\"],[0.7777777777777778,\"#fb9f3a\"],[0.8888888888888888,\"#fdca26\"],[1.0,\"#f0f921\"]],\"sequentialminus\":[[0.0,\"#0d0887\"],[0.1111111111111111,\"#46039f\"],[0.2222222222222222,\"#7201a8\"],[0.3333333333333333,\"#9c179e\"],[0.4444444444444444,\"#bd3786\"],[0.5555555555555556,\"#d8576b\"],[0.6666666666666666,\"#ed7953\"],[0.7777777777777778,\"#fb9f3a\"],[0.8888888888888888,\"#fdca26\"],[1.0,\"#f0f921\"]]},\"colorway\":[\"#636efa\",\"#EF553B\",\"#00cc96\",\"#ab63fa\",\"#FFA15A\",\"#19d3f3\",\"#FF6692\",\"#B6E880\",\"#FF97FF\",\"#FECB52\"],\"font\":{\"color\":\"#2a3f5f\"},\"geo\":{\"bgcolor\":\"white\",\"lakecolor\":\"white\",\"landcolor\":\"#E5ECF6\",\"showlakes\":true,\"showland\":true,\"subunitcolor\":\"white\"},\"hoverlabel\":{\"align\":\"left\"},\"hovermode\":\"closest\",\"mapbox\":{\"style\":\"light\"},\"paper_bgcolor\":\"white\",\"plot_bgcolor\":\"#E5ECF6\",\"polar\":{\"angularaxis\":{\"gridcolor\":\"white\",\"linecolor\":\"white\",\"ticks\":\"\"},\"bgcolor\":\"#E5ECF6\",\"radialaxis\":{\"gridcolor\":\"white\",\"linecolor\":\"white\",\"ticks\":\"\"}},\"scene\":{\"xaxis\":{\"backgroundcolor\":\"#E5ECF6\",\"gridcolor\":\"white\",\"gridwidth\":2,\"linecolor\":\"white\",\"showbackground\":true,\"ticks\":\"\",\"zerolinecolor\":\"white\"},\"yaxis\":{\"backgroundcolor\":\"#E5ECF6\",\"gridcolor\":\"white\",\"gridwidth\":2,\"linecolor\":\"white\",\"showbackground\":true,\"ticks\":\"\",\"zerolinecolor\":\"white\"},\"zaxis\":{\"backgroundcolor\":\"#E5ECF6\",\"gridcolor\":\"white\",\"gridwidth\":2,\"linecolor\":\"white\",\"showbackground\":true,\"ticks\":\"\",\"zerolinecolor\":\"white\"}},\"shapedefaults\":{\"line\":{\"color\":\"#2a3f5f\"}},\"ternary\":{\"aaxis\":{\"gridcolor\":\"white\",\"linecolor\":\"white\",\"ticks\":\"\"},\"baxis\":{\"gridcolor\":\"white\",\"linecolor\":\"white\",\"ticks\":\"\"},\"bgcolor\":\"#E5ECF6\",\"caxis\":{\"gridcolor\":\"white\",\"linecolor\":\"white\",\"ticks\":\"\"}},\"title\":{\"x\":0.05},\"xaxis\":{\"automargin\":true,\"gridcolor\":\"white\",\"linecolor\":\"white\",\"ticks\":\"\",\"title\":{\"standoff\":15},\"zerolinecolor\":\"white\",\"zerolinewidth\":2},\"yaxis\":{\"automargin\":true,\"gridcolor\":\"white\",\"linecolor\":\"white\",\"ticks\":\"\",\"title\":{\"standoff\":15},\"zerolinecolor\":\"white\",\"zerolinewidth\":2}}},\"title\":{\"text\":\"<b>Estimating feature importance through the RandomForestClassifier model\",\"x\":0.5},\"yaxis\":{\"title\":{\"text\":\"Feature\"},\"categoryorder\":\"total ascending\"},\"xaxis\":{\"title\":{\"text\":\"Feature importance\"}},\"barmode\":\"stack\"},                        {\"responsive\": true}                    ).then(function(){\n",
              "                            \n",
              "var gd = document.getElementById('dd38c48f-d6de-4936-b982-4271ff7c3dd3');\n",
              "var x = new MutationObserver(function (mutations, observer) {{\n",
              "        var display = window.getComputedStyle(gd).display;\n",
              "        if (!display || display === 'none') {{\n",
              "            console.log([gd, 'removed!']);\n",
              "            Plotly.purge(gd);\n",
              "            observer.disconnect();\n",
              "        }}\n",
              "}});\n",
              "\n",
              "// Listen for the removal of the full notebook cells\n",
              "var notebookContainer = gd.closest('#notebook-container');\n",
              "if (notebookContainer) {{\n",
              "    x.observe(notebookContainer, {childList: true});\n",
              "}}\n",
              "\n",
              "// Listen for the clearing of the current output cell\n",
              "var outputEl = gd.closest('.output');\n",
              "if (outputEl) {{\n",
              "    x.observe(outputEl, {childList: true});\n",
              "}}\n",
              "\n",
              "                        })                };                            </script>        </div>\n",
              "</body>\n",
              "</html>"
            ]
          },
          "metadata": {}
        }
      ],
      "source": [
        "random_forest.fit(X_train, y_train)\n",
        "fig = go.Figure(go.Bar(\n",
        "            x=random_forest.feature_importances_,\n",
        "            y=X_train.columns,\n",
        "            orientation='h', marker_color='steelblue'))\n",
        "fig.update_layout(title='<b>Estimating feature importance through the RandomForestClassifier model', title_x=0.5, \n",
        "                 xaxis_title=\"Feature importance\", yaxis_title='Feature', barmode='stack', yaxis={'categoryorder':'total ascending'})\n",
        "\n",
        "fig.show()"
      ]
    },
    {
      "cell_type": "markdown",
      "source": [
        "## Evaluasi"
      ],
      "metadata": {
        "id": "XhaZGVOYK0fN"
      }
    },
    {
      "cell_type": "markdown",
      "source": [
        "### RandomForestClassifier"
      ],
      "metadata": {
        "id": "XMX5fmzgBziD"
      }
    },
    {
      "cell_type": "markdown",
      "metadata": {
        "id": "ogdJnHJMF71Q"
      },
      "source": [
        "#### Hyperparameter Tuning"
      ]
    },
    {
      "cell_type": "code",
      "execution_count": null,
      "metadata": {
        "id": "Yr4WmhlL03A0",
        "outputId": "10958a54-6b62-4911-8e84-39c5ab78e9d7",
        "colab": {
          "base_uri": "https://localhost:8080/"
        }
      },
      "outputs": [
        {
          "output_type": "stream",
          "name": "stdout",
          "text": [
            "Fitting 2 folds for each of 96 candidates, totalling 192 fits\n",
            "[CV 1/2] END criterion=gini, max_depth=5, max_features=auto, n_estimators=200;, score=1.000 total time=   0.4s\n",
            "[CV 2/2] END criterion=gini, max_depth=5, max_features=auto, n_estimators=200;, score=1.000 total time=   0.4s\n",
            "[CV 1/2] END criterion=gini, max_depth=5, max_features=auto, n_estimators=500;, score=1.000 total time=   1.0s\n",
            "[CV 2/2] END criterion=gini, max_depth=5, max_features=auto, n_estimators=500;, score=1.000 total time=   1.5s\n",
            "[CV 1/2] END criterion=gini, max_depth=5, max_features=sqrt, n_estimators=200;, score=1.000 total time=   0.4s\n",
            "[CV 2/2] END criterion=gini, max_depth=5, max_features=sqrt, n_estimators=200;, score=1.000 total time=   0.4s\n",
            "[CV 1/2] END criterion=gini, max_depth=5, max_features=sqrt, n_estimators=500;, score=1.000 total time=   1.1s\n",
            "[CV 2/2] END criterion=gini, max_depth=5, max_features=sqrt, n_estimators=500;, score=1.000 total time=   1.0s\n",
            "[CV 1/2] END criterion=gini, max_depth=5, max_features=log2, n_estimators=200;, score=1.000 total time=   0.4s\n",
            "[CV 2/2] END criterion=gini, max_depth=5, max_features=log2, n_estimators=200;, score=1.000 total time=   0.4s\n",
            "[CV 1/2] END criterion=gini, max_depth=5, max_features=log2, n_estimators=500;, score=1.000 total time=   1.0s\n",
            "[CV 2/2] END criterion=gini, max_depth=5, max_features=log2, n_estimators=500;, score=1.000 total time=   1.1s\n",
            "[CV 1/2] END criterion=gini, max_depth=10, max_features=auto, n_estimators=200;, score=1.000 total time=   0.4s\n",
            "[CV 2/2] END criterion=gini, max_depth=10, max_features=auto, n_estimators=200;, score=1.000 total time=   0.5s\n",
            "[CV 1/2] END criterion=gini, max_depth=10, max_features=auto, n_estimators=500;, score=1.000 total time=   1.0s\n",
            "[CV 2/2] END criterion=gini, max_depth=10, max_features=auto, n_estimators=500;, score=1.000 total time=   1.1s\n",
            "[CV 1/2] END criterion=gini, max_depth=10, max_features=sqrt, n_estimators=200;, score=1.000 total time=   0.4s\n",
            "[CV 2/2] END criterion=gini, max_depth=10, max_features=sqrt, n_estimators=200;, score=1.000 total time=   0.4s\n",
            "[CV 1/2] END criterion=gini, max_depth=10, max_features=sqrt, n_estimators=500;, score=1.000 total time=   1.0s\n",
            "[CV 2/2] END criterion=gini, max_depth=10, max_features=sqrt, n_estimators=500;, score=1.000 total time=   1.0s\n",
            "[CV 1/2] END criterion=gini, max_depth=10, max_features=log2, n_estimators=200;, score=1.000 total time=   0.4s\n",
            "[CV 2/2] END criterion=gini, max_depth=10, max_features=log2, n_estimators=200;, score=1.000 total time=   0.5s\n",
            "[CV 1/2] END criterion=gini, max_depth=10, max_features=log2, n_estimators=500;, score=1.000 total time=   1.1s\n",
            "[CV 2/2] END criterion=gini, max_depth=10, max_features=log2, n_estimators=500;, score=1.000 total time=   1.2s\n",
            "[CV 1/2] END criterion=gini, max_depth=20, max_features=auto, n_estimators=200;, score=1.000 total time=   0.5s\n",
            "[CV 2/2] END criterion=gini, max_depth=20, max_features=auto, n_estimators=200;, score=1.000 total time=   0.9s\n",
            "[CV 1/2] END criterion=gini, max_depth=20, max_features=auto, n_estimators=500;, score=1.000 total time=   1.6s\n",
            "[CV 2/2] END criterion=gini, max_depth=20, max_features=auto, n_estimators=500;, score=1.000 total time=   2.1s\n",
            "[CV 1/2] END criterion=gini, max_depth=20, max_features=sqrt, n_estimators=200;, score=1.000 total time=   0.5s\n",
            "[CV 2/2] END criterion=gini, max_depth=20, max_features=sqrt, n_estimators=200;, score=1.000 total time=   0.4s\n",
            "[CV 1/2] END criterion=gini, max_depth=20, max_features=sqrt, n_estimators=500;, score=1.000 total time=   1.3s\n",
            "[CV 2/2] END criterion=gini, max_depth=20, max_features=sqrt, n_estimators=500;, score=1.000 total time=   1.0s\n",
            "[CV 1/2] END criterion=gini, max_depth=20, max_features=log2, n_estimators=200;, score=1.000 total time=   0.5s\n",
            "[CV 2/2] END criterion=gini, max_depth=20, max_features=log2, n_estimators=200;, score=1.000 total time=   0.5s\n",
            "[CV 1/2] END criterion=gini, max_depth=20, max_features=log2, n_estimators=500;, score=1.000 total time=   1.1s\n",
            "[CV 2/2] END criterion=gini, max_depth=20, max_features=log2, n_estimators=500;, score=1.000 total time=   1.1s\n",
            "[CV 1/2] END criterion=gini, max_depth=40, max_features=auto, n_estimators=200;, score=1.000 total time=   0.4s\n",
            "[CV 2/2] END criterion=gini, max_depth=40, max_features=auto, n_estimators=200;, score=1.000 total time=   0.4s\n",
            "[CV 1/2] END criterion=gini, max_depth=40, max_features=auto, n_estimators=500;, score=1.000 total time=   1.2s\n",
            "[CV 2/2] END criterion=gini, max_depth=40, max_features=auto, n_estimators=500;, score=1.000 total time=   1.0s\n",
            "[CV 1/2] END criterion=gini, max_depth=40, max_features=sqrt, n_estimators=200;, score=1.000 total time=   0.4s\n",
            "[CV 2/2] END criterion=gini, max_depth=40, max_features=sqrt, n_estimators=200;, score=1.000 total time=   0.4s\n",
            "[CV 1/2] END criterion=gini, max_depth=40, max_features=sqrt, n_estimators=500;, score=1.000 total time=   1.1s\n",
            "[CV 2/2] END criterion=gini, max_depth=40, max_features=sqrt, n_estimators=500;, score=1.000 total time=   1.0s\n",
            "[CV 1/2] END criterion=gini, max_depth=40, max_features=log2, n_estimators=200;, score=1.000 total time=   0.4s\n",
            "[CV 2/2] END criterion=gini, max_depth=40, max_features=log2, n_estimators=200;, score=1.000 total time=   0.4s\n",
            "[CV 1/2] END criterion=gini, max_depth=40, max_features=log2, n_estimators=500;, score=1.000 total time=   1.1s\n",
            "[CV 2/2] END criterion=gini, max_depth=40, max_features=log2, n_estimators=500;, score=1.000 total time=   1.1s\n",
            "[CV 1/2] END criterion=gini, max_depth=80, max_features=auto, n_estimators=200;, score=1.000 total time=   0.5s\n",
            "[CV 2/2] END criterion=gini, max_depth=80, max_features=auto, n_estimators=200;, score=1.000 total time=   0.4s\n",
            "[CV 1/2] END criterion=gini, max_depth=80, max_features=auto, n_estimators=500;, score=1.000 total time=   1.0s\n",
            "[CV 2/2] END criterion=gini, max_depth=80, max_features=auto, n_estimators=500;, score=1.000 total time=   1.0s\n",
            "[CV 1/2] END criterion=gini, max_depth=80, max_features=sqrt, n_estimators=200;, score=1.000 total time=   0.4s\n",
            "[CV 2/2] END criterion=gini, max_depth=80, max_features=sqrt, n_estimators=200;, score=1.000 total time=   0.4s\n",
            "[CV 1/2] END criterion=gini, max_depth=80, max_features=sqrt, n_estimators=500;, score=1.000 total time=   1.1s\n",
            "[CV 2/2] END criterion=gini, max_depth=80, max_features=sqrt, n_estimators=500;, score=1.000 total time=   1.1s\n",
            "[CV 1/2] END criterion=gini, max_depth=80, max_features=log2, n_estimators=200;, score=1.000 total time=   0.4s\n",
            "[CV 2/2] END criterion=gini, max_depth=80, max_features=log2, n_estimators=200;, score=1.000 total time=   0.5s\n",
            "[CV 1/2] END criterion=gini, max_depth=80, max_features=log2, n_estimators=500;, score=1.000 total time=   1.1s\n",
            "[CV 2/2] END criterion=gini, max_depth=80, max_features=log2, n_estimators=500;, score=1.000 total time=   1.1s\n",
            "[CV 1/2] END criterion=gini, max_depth=160, max_features=auto, n_estimators=200;, score=1.000 total time=   0.4s\n",
            "[CV 2/2] END criterion=gini, max_depth=160, max_features=auto, n_estimators=200;, score=1.000 total time=   0.4s\n",
            "[CV 1/2] END criterion=gini, max_depth=160, max_features=auto, n_estimators=500;, score=1.000 total time=   1.1s\n",
            "[CV 2/2] END criterion=gini, max_depth=160, max_features=auto, n_estimators=500;, score=1.000 total time=   1.1s\n",
            "[CV 1/2] END criterion=gini, max_depth=160, max_features=sqrt, n_estimators=200;, score=1.000 total time=   0.4s\n",
            "[CV 2/2] END criterion=gini, max_depth=160, max_features=sqrt, n_estimators=200;, score=1.000 total time=   0.4s\n",
            "[CV 1/2] END criterion=gini, max_depth=160, max_features=sqrt, n_estimators=500;, score=1.000 total time=   1.2s\n",
            "[CV 2/2] END criterion=gini, max_depth=160, max_features=sqrt, n_estimators=500;, score=1.000 total time=   1.0s\n",
            "[CV 1/2] END criterion=gini, max_depth=160, max_features=log2, n_estimators=200;, score=1.000 total time=   0.5s\n",
            "[CV 2/2] END criterion=gini, max_depth=160, max_features=log2, n_estimators=200;, score=1.000 total time=   0.4s\n",
            "[CV 1/2] END criterion=gini, max_depth=160, max_features=log2, n_estimators=500;, score=1.000 total time=   1.0s\n",
            "[CV 2/2] END criterion=gini, max_depth=160, max_features=log2, n_estimators=500;, score=1.000 total time=   1.0s\n",
            "[CV 1/2] END criterion=gini, max_depth=320, max_features=auto, n_estimators=200;, score=1.000 total time=   0.4s\n",
            "[CV 2/2] END criterion=gini, max_depth=320, max_features=auto, n_estimators=200;, score=1.000 total time=   0.4s\n",
            "[CV 1/2] END criterion=gini, max_depth=320, max_features=auto, n_estimators=500;, score=1.000 total time=   1.0s\n",
            "[CV 2/2] END criterion=gini, max_depth=320, max_features=auto, n_estimators=500;, score=1.000 total time=   1.0s\n",
            "[CV 1/2] END criterion=gini, max_depth=320, max_features=sqrt, n_estimators=200;, score=1.000 total time=   0.7s\n",
            "[CV 2/2] END criterion=gini, max_depth=320, max_features=sqrt, n_estimators=200;, score=1.000 total time=   0.7s\n",
            "[CV 1/2] END criterion=gini, max_depth=320, max_features=sqrt, n_estimators=500;, score=1.000 total time=   1.4s\n",
            "[CV 2/2] END criterion=gini, max_depth=320, max_features=sqrt, n_estimators=500;, score=1.000 total time=   1.0s\n",
            "[CV 1/2] END criterion=gini, max_depth=320, max_features=log2, n_estimators=200;, score=1.000 total time=   0.4s\n",
            "[CV 2/2] END criterion=gini, max_depth=320, max_features=log2, n_estimators=200;, score=1.000 total time=   0.4s\n",
            "[CV 1/2] END criterion=gini, max_depth=320, max_features=log2, n_estimators=500;, score=1.000 total time=   1.0s\n",
            "[CV 2/2] END criterion=gini, max_depth=320, max_features=log2, n_estimators=500;, score=1.000 total time=   1.1s\n",
            "[CV 1/2] END criterion=gini, max_depth=640, max_features=auto, n_estimators=200;, score=1.000 total time=   0.5s\n",
            "[CV 2/2] END criterion=gini, max_depth=640, max_features=auto, n_estimators=200;, score=1.000 total time=   0.5s\n",
            "[CV 1/2] END criterion=gini, max_depth=640, max_features=auto, n_estimators=500;, score=1.000 total time=   1.0s\n",
            "[CV 2/2] END criterion=gini, max_depth=640, max_features=auto, n_estimators=500;, score=1.000 total time=   1.1s\n",
            "[CV 1/2] END criterion=gini, max_depth=640, max_features=sqrt, n_estimators=200;, score=1.000 total time=   0.4s\n",
            "[CV 2/2] END criterion=gini, max_depth=640, max_features=sqrt, n_estimators=200;, score=1.000 total time=   0.4s\n",
            "[CV 1/2] END criterion=gini, max_depth=640, max_features=sqrt, n_estimators=500;, score=1.000 total time=   1.0s\n",
            "[CV 2/2] END criterion=gini, max_depth=640, max_features=sqrt, n_estimators=500;, score=1.000 total time=   1.1s\n",
            "[CV 1/2] END criterion=gini, max_depth=640, max_features=log2, n_estimators=200;, score=1.000 total time=   0.4s\n",
            "[CV 2/2] END criterion=gini, max_depth=640, max_features=log2, n_estimators=200;, score=1.000 total time=   0.4s\n",
            "[CV 1/2] END criterion=gini, max_depth=640, max_features=log2, n_estimators=500;, score=1.000 total time=   1.0s\n",
            "[CV 2/2] END criterion=gini, max_depth=640, max_features=log2, n_estimators=500;, score=1.000 total time=   1.1s\n",
            "[CV 1/2] END criterion=entropy, max_depth=5, max_features=auto, n_estimators=200;, score=1.000 total time=   0.5s\n",
            "[CV 2/2] END criterion=entropy, max_depth=5, max_features=auto, n_estimators=200;, score=1.000 total time=   0.5s\n",
            "[CV 1/2] END criterion=entropy, max_depth=5, max_features=auto, n_estimators=500;, score=1.000 total time=   1.2s\n",
            "[CV 2/2] END criterion=entropy, max_depth=5, max_features=auto, n_estimators=500;, score=1.000 total time=   1.2s\n",
            "[CV 1/2] END criterion=entropy, max_depth=5, max_features=sqrt, n_estimators=200;, score=1.000 total time=   0.5s\n",
            "[CV 2/2] END criterion=entropy, max_depth=5, max_features=sqrt, n_estimators=200;, score=1.000 total time=   0.5s\n",
            "[CV 1/2] END criterion=entropy, max_depth=5, max_features=sqrt, n_estimators=500;, score=1.000 total time=   1.1s\n",
            "[CV 2/2] END criterion=entropy, max_depth=5, max_features=sqrt, n_estimators=500;, score=1.000 total time=   1.1s\n",
            "[CV 1/2] END criterion=entropy, max_depth=5, max_features=log2, n_estimators=200;, score=1.000 total time=   0.5s\n",
            "[CV 2/2] END criterion=entropy, max_depth=5, max_features=log2, n_estimators=200;, score=1.000 total time=   0.5s\n",
            "[CV 1/2] END criterion=entropy, max_depth=5, max_features=log2, n_estimators=500;, score=1.000 total time=   1.2s\n",
            "[CV 2/2] END criterion=entropy, max_depth=5, max_features=log2, n_estimators=500;, score=1.000 total time=   1.2s\n",
            "[CV 1/2] END criterion=entropy, max_depth=10, max_features=auto, n_estimators=200;, score=1.000 total time=   0.5s\n",
            "[CV 2/2] END criterion=entropy, max_depth=10, max_features=auto, n_estimators=200;, score=1.000 total time=   0.5s\n",
            "[CV 1/2] END criterion=entropy, max_depth=10, max_features=auto, n_estimators=500;, score=1.000 total time=   1.3s\n",
            "[CV 2/2] END criterion=entropy, max_depth=10, max_features=auto, n_estimators=500;, score=1.000 total time=   1.2s\n",
            "[CV 1/2] END criterion=entropy, max_depth=10, max_features=sqrt, n_estimators=200;, score=1.000 total time=   0.5s\n",
            "[CV 2/2] END criterion=entropy, max_depth=10, max_features=sqrt, n_estimators=200;, score=1.000 total time=   0.5s\n",
            "[CV 1/2] END criterion=entropy, max_depth=10, max_features=sqrt, n_estimators=500;, score=1.000 total time=   1.2s\n",
            "[CV 2/2] END criterion=entropy, max_depth=10, max_features=sqrt, n_estimators=500;, score=1.000 total time=   1.2s\n",
            "[CV 1/2] END criterion=entropy, max_depth=10, max_features=log2, n_estimators=200;, score=1.000 total time=   1.2s\n",
            "[CV 2/2] END criterion=entropy, max_depth=10, max_features=log2, n_estimators=200;, score=1.000 total time=   1.2s\n",
            "[CV 1/2] END criterion=entropy, max_depth=10, max_features=log2, n_estimators=500;, score=1.000 total time=   2.0s\n",
            "[CV 2/2] END criterion=entropy, max_depth=10, max_features=log2, n_estimators=500;, score=1.000 total time=   1.3s\n",
            "[CV 1/2] END criterion=entropy, max_depth=20, max_features=auto, n_estimators=200;, score=1.000 total time=   0.5s\n",
            "[CV 2/2] END criterion=entropy, max_depth=20, max_features=auto, n_estimators=200;, score=1.000 total time=   0.5s\n",
            "[CV 1/2] END criterion=entropy, max_depth=20, max_features=auto, n_estimators=500;, score=1.000 total time=   1.2s\n",
            "[CV 2/2] END criterion=entropy, max_depth=20, max_features=auto, n_estimators=500;, score=1.000 total time=   1.2s\n",
            "[CV 1/2] END criterion=entropy, max_depth=20, max_features=sqrt, n_estimators=200;, score=1.000 total time=   0.5s\n",
            "[CV 2/2] END criterion=entropy, max_depth=20, max_features=sqrt, n_estimators=200;, score=1.000 total time=   0.5s\n",
            "[CV 1/2] END criterion=entropy, max_depth=20, max_features=sqrt, n_estimators=500;, score=1.000 total time=   1.3s\n",
            "[CV 2/2] END criterion=entropy, max_depth=20, max_features=sqrt, n_estimators=500;, score=1.000 total time=   1.3s\n",
            "[CV 1/2] END criterion=entropy, max_depth=20, max_features=log2, n_estimators=200;, score=1.000 total time=   0.5s\n",
            "[CV 2/2] END criterion=entropy, max_depth=20, max_features=log2, n_estimators=200;, score=1.000 total time=   0.5s\n",
            "[CV 1/2] END criterion=entropy, max_depth=20, max_features=log2, n_estimators=500;, score=1.000 total time=   1.3s\n",
            "[CV 2/2] END criterion=entropy, max_depth=20, max_features=log2, n_estimators=500;, score=1.000 total time=   1.2s\n",
            "[CV 1/2] END criterion=entropy, max_depth=40, max_features=auto, n_estimators=200;, score=1.000 total time=   0.5s\n",
            "[CV 2/2] END criterion=entropy, max_depth=40, max_features=auto, n_estimators=200;, score=1.000 total time=   0.5s\n",
            "[CV 1/2] END criterion=entropy, max_depth=40, max_features=auto, n_estimators=500;, score=1.000 total time=   1.2s\n",
            "[CV 2/2] END criterion=entropy, max_depth=40, max_features=auto, n_estimators=500;, score=1.000 total time=   1.3s\n",
            "[CV 1/2] END criterion=entropy, max_depth=40, max_features=sqrt, n_estimators=200;, score=1.000 total time=   0.5s\n",
            "[CV 2/2] END criterion=entropy, max_depth=40, max_features=sqrt, n_estimators=200;, score=1.000 total time=   0.5s\n",
            "[CV 1/2] END criterion=entropy, max_depth=40, max_features=sqrt, n_estimators=500;, score=1.000 total time=   1.3s\n",
            "[CV 2/2] END criterion=entropy, max_depth=40, max_features=sqrt, n_estimators=500;, score=1.000 total time=   1.3s\n",
            "[CV 1/2] END criterion=entropy, max_depth=40, max_features=log2, n_estimators=200;, score=1.000 total time=   0.5s\n",
            "[CV 2/2] END criterion=entropy, max_depth=40, max_features=log2, n_estimators=200;, score=1.000 total time=   0.5s\n",
            "[CV 1/2] END criterion=entropy, max_depth=40, max_features=log2, n_estimators=500;, score=1.000 total time=   1.2s\n",
            "[CV 2/2] END criterion=entropy, max_depth=40, max_features=log2, n_estimators=500;, score=1.000 total time=   1.2s\n",
            "[CV 1/2] END criterion=entropy, max_depth=80, max_features=auto, n_estimators=200;, score=1.000 total time=   0.5s\n",
            "[CV 2/2] END criterion=entropy, max_depth=80, max_features=auto, n_estimators=200;, score=1.000 total time=   0.5s\n",
            "[CV 1/2] END criterion=entropy, max_depth=80, max_features=auto, n_estimators=500;, score=1.000 total time=   1.2s\n",
            "[CV 2/2] END criterion=entropy, max_depth=80, max_features=auto, n_estimators=500;, score=1.000 total time=   1.2s\n",
            "[CV 1/2] END criterion=entropy, max_depth=80, max_features=sqrt, n_estimators=200;, score=1.000 total time=   0.5s\n",
            "[CV 2/2] END criterion=entropy, max_depth=80, max_features=sqrt, n_estimators=200;, score=1.000 total time=   0.5s\n",
            "[CV 1/2] END criterion=entropy, max_depth=80, max_features=sqrt, n_estimators=500;, score=1.000 total time=   1.3s\n",
            "[CV 2/2] END criterion=entropy, max_depth=80, max_features=sqrt, n_estimators=500;, score=1.000 total time=   1.3s\n",
            "[CV 1/2] END criterion=entropy, max_depth=80, max_features=log2, n_estimators=200;, score=1.000 total time=   0.5s\n",
            "[CV 2/2] END criterion=entropy, max_depth=80, max_features=log2, n_estimators=200;, score=1.000 total time=   0.5s\n",
            "[CV 1/2] END criterion=entropy, max_depth=80, max_features=log2, n_estimators=500;, score=1.000 total time=   1.2s\n",
            "[CV 2/2] END criterion=entropy, max_depth=80, max_features=log2, n_estimators=500;, score=1.000 total time=   1.2s\n",
            "[CV 1/2] END criterion=entropy, max_depth=160, max_features=auto, n_estimators=200;, score=1.000 total time=   0.5s\n",
            "[CV 2/2] END criterion=entropy, max_depth=160, max_features=auto, n_estimators=200;, score=1.000 total time=   0.5s\n",
            "[CV 1/2] END criterion=entropy, max_depth=160, max_features=auto, n_estimators=500;, score=1.000 total time=   1.2s\n",
            "[CV 2/2] END criterion=entropy, max_depth=160, max_features=auto, n_estimators=500;, score=1.000 total time=   1.2s\n",
            "[CV 1/2] END criterion=entropy, max_depth=160, max_features=sqrt, n_estimators=200;, score=1.000 total time=   0.5s\n",
            "[CV 2/2] END criterion=entropy, max_depth=160, max_features=sqrt, n_estimators=200;, score=1.000 total time=   0.5s\n",
            "[CV 1/2] END criterion=entropy, max_depth=160, max_features=sqrt, n_estimators=500;, score=1.000 total time=   1.2s\n",
            "[CV 2/2] END criterion=entropy, max_depth=160, max_features=sqrt, n_estimators=500;, score=1.000 total time=   1.3s\n",
            "[CV 1/2] END criterion=entropy, max_depth=160, max_features=log2, n_estimators=200;, score=1.000 total time=   0.5s\n",
            "[CV 2/2] END criterion=entropy, max_depth=160, max_features=log2, n_estimators=200;, score=1.000 total time=   0.5s\n",
            "[CV 1/2] END criterion=entropy, max_depth=160, max_features=log2, n_estimators=500;, score=1.000 total time=   1.3s\n",
            "[CV 2/2] END criterion=entropy, max_depth=160, max_features=log2, n_estimators=500;, score=1.000 total time=   1.2s\n",
            "[CV 1/2] END criterion=entropy, max_depth=320, max_features=auto, n_estimators=200;, score=1.000 total time=   0.5s\n",
            "[CV 2/2] END criterion=entropy, max_depth=320, max_features=auto, n_estimators=200;, score=1.000 total time=   0.5s\n",
            "[CV 1/2] END criterion=entropy, max_depth=320, max_features=auto, n_estimators=500;, score=1.000 total time=   1.3s\n",
            "[CV 2/2] END criterion=entropy, max_depth=320, max_features=auto, n_estimators=500;, score=1.000 total time=   1.2s\n",
            "[CV 1/2] END criterion=entropy, max_depth=320, max_features=sqrt, n_estimators=200;, score=1.000 total time=   0.5s\n",
            "[CV 2/2] END criterion=entropy, max_depth=320, max_features=sqrt, n_estimators=200;, score=1.000 total time=   0.5s\n",
            "[CV 1/2] END criterion=entropy, max_depth=320, max_features=sqrt, n_estimators=500;, score=1.000 total time=   1.3s\n",
            "[CV 2/2] END criterion=entropy, max_depth=320, max_features=sqrt, n_estimators=500;, score=1.000 total time=   1.2s\n",
            "[CV 1/2] END criterion=entropy, max_depth=320, max_features=log2, n_estimators=200;, score=1.000 total time=   0.5s\n",
            "[CV 2/2] END criterion=entropy, max_depth=320, max_features=log2, n_estimators=200;, score=1.000 total time=   0.5s\n",
            "[CV 1/2] END criterion=entropy, max_depth=320, max_features=log2, n_estimators=500;, score=1.000 total time=   1.2s\n",
            "[CV 2/2] END criterion=entropy, max_depth=320, max_features=log2, n_estimators=500;, score=1.000 total time=   1.3s\n",
            "[CV 1/2] END criterion=entropy, max_depth=640, max_features=auto, n_estimators=200;, score=1.000 total time=   0.5s\n",
            "[CV 2/2] END criterion=entropy, max_depth=640, max_features=auto, n_estimators=200;, score=1.000 total time=   0.5s\n",
            "[CV 1/2] END criterion=entropy, max_depth=640, max_features=auto, n_estimators=500;, score=1.000 total time=   1.7s\n",
            "[CV 2/2] END criterion=entropy, max_depth=640, max_features=auto, n_estimators=500;, score=1.000 total time=   1.3s\n",
            "[CV 1/2] END criterion=entropy, max_depth=640, max_features=sqrt, n_estimators=200;, score=1.000 total time=   0.5s\n",
            "[CV 2/2] END criterion=entropy, max_depth=640, max_features=sqrt, n_estimators=200;, score=1.000 total time=   0.5s\n",
            "[CV 1/2] END criterion=entropy, max_depth=640, max_features=sqrt, n_estimators=500;, score=1.000 total time=   1.2s\n",
            "[CV 2/2] END criterion=entropy, max_depth=640, max_features=sqrt, n_estimators=500;, score=1.000 total time=   1.3s\n",
            "[CV 1/2] END criterion=entropy, max_depth=640, max_features=log2, n_estimators=200;, score=1.000 total time=   0.5s\n",
            "[CV 2/2] END criterion=entropy, max_depth=640, max_features=log2, n_estimators=200;, score=1.000 total time=   0.5s\n",
            "[CV 1/2] END criterion=entropy, max_depth=640, max_features=log2, n_estimators=500;, score=1.000 total time=   1.2s\n",
            "[CV 2/2] END criterion=entropy, max_depth=640, max_features=log2, n_estimators=500;, score=1.000 total time=   1.4s\n"
          ]
        },
        {
          "output_type": "execute_result",
          "data": {
            "text/plain": [
              "GridSearchCV(cv=StratifiedKFold(n_splits=2, random_state=None, shuffle=False),\n",
              "             estimator=RandomForestClassifier(),\n",
              "             param_grid={'criterion': ['gini', 'entropy'],\n",
              "                         'max_depth': [5, 10, 20, 40, 80, 160, 320, 640],\n",
              "                         'max_features': ['auto', 'sqrt', 'log2'],\n",
              "                         'n_estimators': [200, 500]},\n",
              "             verbose=4)"
            ]
          },
          "metadata": {},
          "execution_count": 62
        }
      ],
      "source": [
        "#Grid Search\n",
        "from sklearn.model_selection import GridSearchCV\n",
        "\n",
        "rf_classifier = RandomForestClassifier()\n",
        "\n",
        "param_RFC = { \n",
        "    'n_estimators': [200, 500],\n",
        "    'max_features': ['auto', 'sqrt', 'log2'],\n",
        "    'max_depth' : [5, 10, 20, 40, 80, 160, 320, 640],\n",
        "    'criterion' :['gini', 'entropy']\n",
        "}\n",
        "\n",
        "cv = StratifiedKFold(n_splits=2)\n",
        "\n",
        "rfc = GridSearchCV(estimator=rf_classifier, \n",
        "                 param_grid=param_RFC,\n",
        "                 cv = cv, \n",
        "                 verbose=4)\n",
        "\n",
        "rfc.fit(X_train, y_train)"
      ]
    },
    {
      "cell_type": "code",
      "execution_count": null,
      "metadata": {
        "id": "q3VgzSgH7Jw0",
        "colab": {
          "base_uri": "https://localhost:8080/"
        },
        "outputId": "557a3f88-f614-4024-c0c1-efd04026c3fc"
      },
      "outputs": [
        {
          "output_type": "stream",
          "name": "stdout",
          "text": [
            "Best Score: 1.0\n",
            "Best Hyperparameters: {'criterion': 'gini', 'max_depth': 5, 'max_features': 'auto', 'n_estimators': 200}\n"
          ]
        }
      ],
      "source": [
        "print('Best Score: {}'.format(rfc.best_score_))\n",
        "print('Best Hyperparameters: {}'.format(rfc.best_params_))"
      ]
    },
    {
      "cell_type": "code",
      "source": [
        "X_train, X_test, y_train, y_test = train_test_split(X, y, test_size=0.2, random_state=42)\n",
        "\n",
        "print(\"X_train dataset shape: \", X_train.shape)\n",
        "print(\"y_train dataset shape: \", y_train.shape)\n",
        "print(\"X_test dataset shape: \", X_test.shape)\n",
        "print(\"y_test dataset shape: \", y_test.shape)"
      ],
      "metadata": {
        "colab": {
          "base_uri": "https://localhost:8080/"
        },
        "id": "1Went-FXueHr",
        "outputId": "309d2f91-2a66-402b-979d-119dbccbe148"
      },
      "execution_count": null,
      "outputs": [
        {
          "output_type": "stream",
          "name": "stdout",
          "text": [
            "X_train dataset shape:  (8000, 20)\n",
            "y_train dataset shape:  (8000,)\n",
            "X_test dataset shape:  (2000, 20)\n",
            "y_test dataset shape:  (2000,)\n"
          ]
        }
      ]
    },
    {
      "cell_type": "code",
      "execution_count": null,
      "metadata": {
        "id": "1ZXwq-uj7Uxc"
      },
      "outputs": [],
      "source": [
        "# Buat Model Pakai Best Param Dari GridSearchCV\n",
        "modeltun = RandomForestClassifier(**rfc.best_params_)"
      ]
    },
    {
      "cell_type": "code",
      "execution_count": null,
      "metadata": {
        "id": "8SEHnE177d9e"
      },
      "outputs": [],
      "source": [
        "# Melatih Model Pakai data train kita\n",
        "model_fit = modeltun.fit(X_train,y_train)"
      ]
    },
    {
      "cell_type": "code",
      "execution_count": null,
      "metadata": {
        "id": "YUhG4VJB7h-K",
        "colab": {
          "base_uri": "https://localhost:8080/"
        },
        "outputId": "86dc0829-09c7-499e-c991-7529f6d691f5"
      },
      "outputs": [
        {
          "output_type": "stream",
          "name": "stdout",
          "text": [
            "              precision    recall  f1-score   support\n",
            "\n",
            "           0       1.00      1.00      1.00      6991\n",
            "           1       1.00      1.00      1.00      1009\n",
            "\n",
            "    accuracy                           1.00      8000\n",
            "   macro avg       1.00      1.00      1.00      8000\n",
            "weighted avg       1.00      1.00      1.00      8000\n",
            "\n"
          ]
        }
      ],
      "source": [
        "# Cek Peforma model kita di data latih\n",
        "y_pred_train=model_fit.predict(X_train)\n",
        "print(classification_report(y_train,y_pred_train))"
      ]
    },
    {
      "cell_type": "code",
      "execution_count": null,
      "metadata": {
        "id": "Et3krFWt7YQt",
        "colab": {
          "base_uri": "https://localhost:8080/"
        },
        "outputId": "6425f755-537a-4029-f99e-2eaad1269778"
      },
      "outputs": [
        {
          "output_type": "stream",
          "name": "stdout",
          "text": [
            "              precision    recall  f1-score   support\n",
            "\n",
            "           0       1.00      1.00      1.00      1744\n",
            "           1       1.00      1.00      1.00       256\n",
            "\n",
            "    accuracy                           1.00      2000\n",
            "   macro avg       1.00      1.00      1.00      2000\n",
            "weighted avg       1.00      1.00      1.00      2000\n",
            "\n"
          ]
        }
      ],
      "source": [
        "# Cek Peforma model kita di data test\n",
        "y_pred_test=model_fit.predict(X_test)\n",
        "print(classification_report(y_test,y_pred_test))"
      ]
    },
    {
      "cell_type": "code",
      "source": [
        "confusion = confusion_matrix(y_true=y_test, y_pred=model.predict(X_test))\n",
        "plt.figure(figsize=(8, 8))\n",
        "sns.heatmap(confusion,\n",
        "            xticklabels=[\"Positive\", \"Negative\"],\n",
        "            yticklabels=[\"Positive\", \"Negative\"],\n",
        "            annot=True, \n",
        "            annot_kws={\"fontsize\": \"xx-large\"},\n",
        "            cmap='winter')\n",
        "\n",
        "plt.show()"
      ],
      "metadata": {
        "colab": {
          "base_uri": "https://localhost:8080/",
          "height": 483
        },
        "id": "3XsYY-16HZFc",
        "outputId": "0ea5b2aa-0574-4445-da24-5f58b1c08306"
      },
      "execution_count": null,
      "outputs": [
        {
          "output_type": "display_data",
          "data": {
            "text/plain": [
              "<Figure size 576x576 with 2 Axes>"
            ],
            "image/png": "[encoded data removed]"
          },
          "metadata": {
            "needs_background": "light"
          }
        }
      ]
    },
    {
      "cell_type": "markdown",
      "source": [
        ">Confusion Matrix dari Data Testing menunjukan bahwa nilai dari FP (False Positive) dan nilai dari FN (False Negative) seimbang (Symetric) yaitu `0 : 0`, sehingga metrik yang kami gunakan adalah `accuracy` dengan skor `1.0`"
      ],
      "metadata": {
        "id": "_H_O8OJFOSIX"
      }
    },
    {
      "cell_type": "markdown",
      "source": [
        "# END"
      ],
      "metadata": {
        "id": "zVOGTnQkIWN3"
      }
    }
  ]
}